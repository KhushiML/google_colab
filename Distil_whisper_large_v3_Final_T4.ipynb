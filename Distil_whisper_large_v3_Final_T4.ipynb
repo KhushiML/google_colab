{
  "cells": [
    {
      "cell_type": "code",
      "execution_count": 1,
      "id": "da3c995e-649e-477d-8d5e-3f65aaa5f26e",
      "metadata": {
        "colab": {
          "base_uri": "https://localhost:8080/"
        },
        "id": "da3c995e-649e-477d-8d5e-3f65aaa5f26e",
        "outputId": "ba49805b-52bd-41b2-9ad7-ceb69480a701"
      },
      "outputs": [
        {
          "output_type": "stream",
          "name": "stdout",
          "text": [
            "\u001b[2K     \u001b[90m━━━━━━━━━━━━━━━━━━━━━━━━━━━━━━━━━━━━━━━━\u001b[0m \u001b[32m43.7/43.7 kB\u001b[0m \u001b[31m939.2 kB/s\u001b[0m eta \u001b[36m0:00:00\u001b[0m\n",
            "\u001b[2K   \u001b[90m━━━━━━━━━━━━━━━━━━━━━━━━━━━━━━━━━━━━━━━━\u001b[0m \u001b[32m9.5/9.5 MB\u001b[0m \u001b[31m26.8 MB/s\u001b[0m eta \u001b[36m0:00:00\u001b[0m\n",
            "\u001b[2K   \u001b[90m━━━━━━━━━━━━━━━━━━━━━━━━━━━━━━━━━━━━━━━━\u001b[0m \u001b[32m324.4/324.4 kB\u001b[0m \u001b[31m9.5 MB/s\u001b[0m eta \u001b[36m0:00:00\u001b[0m\n",
            "\u001b[2K   \u001b[90m━━━━━━━━━━━━━━━━━━━━━━━━━━━━━━━━━━━━━━━━\u001b[0m \u001b[32m797.1/797.1 MB\u001b[0m \u001b[31m2.4 MB/s\u001b[0m eta \u001b[36m0:00:00\u001b[0m\n",
            "\u001b[2K   \u001b[90m━━━━━━━━━━━━━━━━━━━━━━━━━━━━━━━━━━━━━━━━\u001b[0m \u001b[32m664.8/664.8 MB\u001b[0m \u001b[31m3.0 MB/s\u001b[0m eta \u001b[36m0:00:00\u001b[0m\n",
            "\u001b[2K   \u001b[90m━━━━━━━━━━━━━━━━━━━━━━━━━━━━━━━━━━━━━━━━\u001b[0m \u001b[32m209.4/209.4 MB\u001b[0m \u001b[31m5.9 MB/s\u001b[0m eta \u001b[36m0:00:00\u001b[0m\n",
            "\u001b[2K   \u001b[90m━━━━━━━━━━━━━━━━━━━━━━━━━━━━━━━━━━━━━━━━\u001b[0m \u001b[32m1.6/1.6 MB\u001b[0m \u001b[31m59.8 MB/s\u001b[0m eta \u001b[36m0:00:00\u001b[0m\n",
            "\u001b[2K   \u001b[90m━━━━━━━━━━━━━━━━━━━━━━━━━━━━━━━━━━━━━━━━\u001b[0m \u001b[32m19.7/19.7 MB\u001b[0m \u001b[31m75.0 MB/s\u001b[0m eta \u001b[36m0:00:00\u001b[0m\n",
            "\u001b[?25h\u001b[31mERROR: pip's dependency resolver does not currently take into account all the packages that are installed. This behaviour is the source of the following dependency conflicts.\n",
            "fastai 2.7.15 requires torch<2.4,>=1.10, but you have torch 2.4.1 which is incompatible.\n",
            "torchaudio 2.3.1+cu121 requires torch==2.3.1, but you have torch 2.4.1 which is incompatible.\n",
            "torchvision 0.18.1+cu121 requires torch==2.3.1, but you have torch 2.4.1 which is incompatible.\u001b[0m\u001b[31m\n",
            "\u001b[0m"
          ]
        }
      ],
      "source": [
        "!pip install -q --upgrade transformers accelerate torch ipython-autotime"
      ]
    },
    {
      "cell_type": "code",
      "source": [
        "pip uninstall torch\n"
      ],
      "metadata": {
        "colab": {
          "base_uri": "https://localhost:8080/"
        },
        "id": "z58aXnaN1tbN",
        "outputId": "cc143084-355a-4415-9598-5cebcc32e857"
      },
      "id": "z58aXnaN1tbN",
      "execution_count": 5,
      "outputs": [
        {
          "output_type": "stream",
          "name": "stdout",
          "text": [
            "Found existing installation: torch 2.4.1\n",
            "Uninstalling torch-2.4.1:\n",
            "  Would remove:\n",
            "    /usr/local/bin/convert-caffe2-to-onnx\n",
            "    /usr/local/bin/convert-onnx-to-caffe2\n",
            "    /usr/local/bin/torchrun\n",
            "    /usr/local/lib/python3.10/dist-packages/functorch/*\n",
            "    /usr/local/lib/python3.10/dist-packages/torch-2.4.1.dist-info/*\n",
            "    /usr/local/lib/python3.10/dist-packages/torch/*\n",
            "    /usr/local/lib/python3.10/dist-packages/torchgen/*\n",
            "Proceed (Y/n)? y\n",
            "  Successfully uninstalled torch-2.4.1\n",
            "time: 9.25 s (started: 2024-09-19 10:32:09 +00:00)\n"
          ]
        }
      ]
    },
    {
      "cell_type": "code",
      "source": [
        "pip install torch==2.3.1\n"
      ],
      "metadata": {
        "colab": {
          "base_uri": "https://localhost:8080/",
          "height": 845
        },
        "id": "H9tcZ9LR1xZk",
        "outputId": "edda9e0d-f725-4f4b-a3ae-59cac2c09c3e"
      },
      "id": "H9tcZ9LR1xZk",
      "execution_count": 6,
      "outputs": [
        {
          "output_type": "stream",
          "name": "stdout",
          "text": [
            "Collecting torch==2.3.1\n",
            "  Downloading torch-2.3.1-cp310-cp310-manylinux1_x86_64.whl.metadata (26 kB)\n",
            "Requirement already satisfied: filelock in /usr/local/lib/python3.10/dist-packages (from torch==2.3.1) (3.15.4)\n",
            "Requirement already satisfied: typing-extensions>=4.8.0 in /usr/local/lib/python3.10/dist-packages (from torch==2.3.1) (4.12.2)\n",
            "Requirement already satisfied: sympy in /usr/local/lib/python3.10/dist-packages (from torch==2.3.1) (1.13.1)\n",
            "Requirement already satisfied: networkx in /usr/local/lib/python3.10/dist-packages (from torch==2.3.1) (3.3)\n",
            "Requirement already satisfied: jinja2 in /usr/local/lib/python3.10/dist-packages (from torch==2.3.1) (3.1.4)\n",
            "Requirement already satisfied: fsspec in /usr/local/lib/python3.10/dist-packages (from torch==2.3.1) (2023.6.0)\n",
            "Requirement already satisfied: nvidia-cuda-nvrtc-cu12==12.1.105 in /usr/local/lib/python3.10/dist-packages (from torch==2.3.1) (12.1.105)\n",
            "Requirement already satisfied: nvidia-cuda-runtime-cu12==12.1.105 in /usr/local/lib/python3.10/dist-packages (from torch==2.3.1) (12.1.105)\n",
            "Requirement already satisfied: nvidia-cuda-cupti-cu12==12.1.105 in /usr/local/lib/python3.10/dist-packages (from torch==2.3.1) (12.1.105)\n",
            "Collecting nvidia-cudnn-cu12==8.9.2.26 (from torch==2.3.1)\n",
            "  Using cached nvidia_cudnn_cu12-8.9.2.26-py3-none-manylinux1_x86_64.whl.metadata (1.6 kB)\n",
            "Requirement already satisfied: nvidia-cublas-cu12==12.1.3.1 in /usr/local/lib/python3.10/dist-packages (from torch==2.3.1) (12.1.3.1)\n",
            "Requirement already satisfied: nvidia-cufft-cu12==11.0.2.54 in /usr/local/lib/python3.10/dist-packages (from torch==2.3.1) (11.0.2.54)\n",
            "Requirement already satisfied: nvidia-curand-cu12==10.3.2.106 in /usr/local/lib/python3.10/dist-packages (from torch==2.3.1) (10.3.2.106)\n",
            "Requirement already satisfied: nvidia-cusolver-cu12==11.4.5.107 in /usr/local/lib/python3.10/dist-packages (from torch==2.3.1) (11.4.5.107)\n",
            "Requirement already satisfied: nvidia-cusparse-cu12==12.1.0.106 in /usr/local/lib/python3.10/dist-packages (from torch==2.3.1) (12.1.0.106)\n",
            "Requirement already satisfied: nvidia-nccl-cu12==2.20.5 in /usr/local/lib/python3.10/dist-packages (from torch==2.3.1) (2.20.5)\n",
            "Requirement already satisfied: nvidia-nvtx-cu12==12.1.105 in /usr/local/lib/python3.10/dist-packages (from torch==2.3.1) (12.1.105)\n",
            "Collecting triton==2.3.1 (from torch==2.3.1)\n",
            "  Downloading triton-2.3.1-cp310-cp310-manylinux_2_17_x86_64.manylinux2014_x86_64.whl.metadata (1.4 kB)\n",
            "Requirement already satisfied: nvidia-nvjitlink-cu12 in /usr/local/lib/python3.10/dist-packages (from nvidia-cusolver-cu12==11.4.5.107->torch==2.3.1) (12.6.68)\n",
            "Requirement already satisfied: MarkupSafe>=2.0 in /usr/local/lib/python3.10/dist-packages (from jinja2->torch==2.3.1) (2.1.5)\n",
            "Requirement already satisfied: mpmath<1.4,>=1.1.0 in /usr/local/lib/python3.10/dist-packages (from sympy->torch==2.3.1) (1.3.0)\n",
            "Downloading torch-2.3.1-cp310-cp310-manylinux1_x86_64.whl (779.1 MB)\n",
            "\u001b[2K   \u001b[90m━━━━━━━━━━━━━━━━━━━━━━━━━━━━━━━━━━━━━━━━\u001b[0m \u001b[32m779.1/779.1 MB\u001b[0m \u001b[31m2.6 MB/s\u001b[0m eta \u001b[36m0:00:00\u001b[0m\n",
            "\u001b[?25hUsing cached nvidia_cudnn_cu12-8.9.2.26-py3-none-manylinux1_x86_64.whl (731.7 MB)\n",
            "Downloading triton-2.3.1-cp310-cp310-manylinux_2_17_x86_64.manylinux2014_x86_64.whl (168.1 MB)\n",
            "\u001b[2K   \u001b[90m━━━━━━━━━━━━━━━━━━━━━━━━━━━━━━━━━━━━━━━━\u001b[0m \u001b[32m168.1/168.1 MB\u001b[0m \u001b[31m6.1 MB/s\u001b[0m eta \u001b[36m0:00:00\u001b[0m\n",
            "\u001b[?25hInstalling collected packages: triton, nvidia-cudnn-cu12, torch\n",
            "  Attempting uninstall: triton\n",
            "    Found existing installation: triton 3.0.0\n",
            "    Uninstalling triton-3.0.0:\n",
            "      Successfully uninstalled triton-3.0.0\n",
            "  Attempting uninstall: nvidia-cudnn-cu12\n",
            "    Found existing installation: nvidia-cudnn-cu12 9.1.0.70\n",
            "    Uninstalling nvidia-cudnn-cu12-9.1.0.70:\n",
            "      Successfully uninstalled nvidia-cudnn-cu12-9.1.0.70\n",
            "Successfully installed nvidia-cudnn-cu12-8.9.2.26 torch-2.3.1 triton-2.3.1\n"
          ]
        },
        {
          "output_type": "display_data",
          "data": {
            "application/vnd.colab-display-data+json": {
              "pip_warning": {
                "packages": [
                  "torch",
                  "torchgen"
                ]
              },
              "id": "523006d604af4dbc9fb470e2acfffafa"
            }
          },
          "metadata": {}
        },
        {
          "output_type": "stream",
          "name": "stdout",
          "text": [
            "time: 1min 18s (started: 2024-09-19 10:32:31 +00:00)\n"
          ]
        }
      ]
    },
    {
      "cell_type": "code",
      "source": [
        "pip install -q --upgrade transformers accelerate ipython-autotime\n"
      ],
      "metadata": {
        "id": "P1d7RIGR10DO"
      },
      "id": "P1d7RIGR10DO",
      "execution_count": 1,
      "outputs": []
    },
    {
      "cell_type": "code",
      "execution_count": 2,
      "id": "7943c192-aa2c-4923-8e30-ee5da6014e19",
      "metadata": {
        "colab": {
          "base_uri": "https://localhost:8080/"
        },
        "id": "7943c192-aa2c-4923-8e30-ee5da6014e19",
        "outputId": "116e6248-9ee5-4f0d-8ba1-ebeee6092955"
      },
      "outputs": [
        {
          "output_type": "stream",
          "name": "stdout",
          "text": [
            "time: 337 µs (started: 2024-09-19 10:34:24 +00:00)\n"
          ]
        }
      ],
      "source": [
        "%load_ext autotime"
      ]
    },
    {
      "cell_type": "code",
      "execution_count": 3,
      "id": "a6daecdd-24ca-4a99-9664-65749379388b",
      "metadata": {
        "colab": {
          "base_uri": "https://localhost:8080/"
        },
        "id": "a6daecdd-24ca-4a99-9664-65749379388b",
        "outputId": "7dd7aa88-a641-439d-b904-078675c33f77"
      },
      "outputs": [
        {
          "output_type": "stream",
          "name": "stdout",
          "text": [
            "time: 19.4 s (started: 2024-09-19 10:34:27 +00:00)\n"
          ]
        }
      ],
      "source": [
        "import torch\n",
        "from transformers import AutoModelForSpeechSeq2Seq, AutoProcessor, pipeline"
      ]
    },
    {
      "cell_type": "code",
      "execution_count": 4,
      "id": "5df41ba3-4e99-49a2-a8ed-1ae9d117039f",
      "metadata": {
        "colab": {
          "base_uri": "https://localhost:8080/",
          "height": 1000,
          "referenced_widgets": [
            "54b98080b159468eac823ef8af645c7e",
            "94a00bf18a85441d853e2d0d79a50df5",
            "7b69046ab6324fb5b160d1cf4246124f",
            "385d1f964f144b7295ed5ce03f6ceb43",
            "00be339c9a254fd7aa41f235c1933992",
            "28791a3c70af4ea0b62c3151539f12f4",
            "358e2480046d4f5180b7e69703118e25",
            "6686a209e9364859bfcd7ccde1febbd1",
            "b2bb9ea773e44e64831f8cd77a1539f7",
            "7a2392d13b6a495590f89278a0eed357",
            "07fbbbded93e4aea8091616739e0588a",
            "e747ced9e6434941ad8eeee0ccd6aeb3",
            "8f2f7e1fb3ce48dc92716f319c29498a",
            "ee626e4b5d6a4a6db4b5ca4f11289fce",
            "3937b9580c6c458f828df4f04c8eb144",
            "93d8a931fec6446398d40a6571f2d576",
            "a12616d19cf743799f233a4a62e374e7",
            "5e18f339115d4365b38f284e4b948f17",
            "ce7e4e43432a4fc8b26c589a76b2b1e8",
            "9f4d159fa33940ccac8efafd91de8551",
            "75b909d244fb487085f7852bd7f99ced",
            "6e7490fbc7d0425da6e93df604549a0b",
            "ba6b9bf753414a4289dd1f35731474b5",
            "11a3a0b010f041c8bbe8456e92aafdac",
            "432409f34f90446ab6ddbf4c1c70cb55",
            "d5424fad021140eb8ad1d8cb69122ff4",
            "cc1524abfc374674a7659f081de572d8",
            "14908675b3ec4439afd4f7fa2c095874",
            "038a8ec3b4a2428a972bb68ade7db3a2",
            "01a5094983104211b816e90391472d76",
            "b9cf5bd96c6c43039f924a8bfbefde43",
            "b8791c5ce2b84b81a44a32440856620f",
            "6a6ff65f9f3b452082c8b0cc1a8efd03"
          ]
        },
        "id": "5df41ba3-4e99-49a2-a8ed-1ae9d117039f",
        "outputId": "46021634-dafe-4c25-8fcd-b359fd2d336c"
      },
      "outputs": [
        {
          "output_type": "stream",
          "name": "stderr",
          "text": [
            "/usr/local/lib/python3.10/dist-packages/huggingface_hub/utils/_token.py:89: UserWarning: \n",
            "The secret `HF_TOKEN` does not exist in your Colab secrets.\n",
            "To authenticate with the Hugging Face Hub, create a token in your settings tab (https://huggingface.co/settings/tokens), set it as secret in your Google Colab and restart your session.\n",
            "You will be able to reuse this secret in all of your notebooks.\n",
            "Please note that authentication is recommended but still optional to access public models or datasets.\n",
            "  warnings.warn(\n"
          ]
        },
        {
          "output_type": "display_data",
          "data": {
            "text/plain": [
              "config.json:   0%|          | 0.00/1.26k [00:00<?, ?B/s]"
            ],
            "application/vnd.jupyter.widget-view+json": {
              "version_major": 2,
              "version_minor": 0,
              "model_id": "54b98080b159468eac823ef8af645c7e"
            }
          },
          "metadata": {}
        },
        {
          "output_type": "display_data",
          "data": {
            "text/plain": [
              "model.safetensors:   0%|          | 0.00/1.51G [00:00<?, ?B/s]"
            ],
            "application/vnd.jupyter.widget-view+json": {
              "version_major": 2,
              "version_minor": 0,
              "model_id": "e747ced9e6434941ad8eeee0ccd6aeb3"
            }
          },
          "metadata": {}
        },
        {
          "output_type": "display_data",
          "data": {
            "text/plain": [
              "generation_config.json:   0%|          | 0.00/4.25k [00:00<?, ?B/s]"
            ],
            "application/vnd.jupyter.widget-view+json": {
              "version_major": 2,
              "version_minor": 0,
              "model_id": "ba6b9bf753414a4289dd1f35731474b5"
            }
          },
          "metadata": {}
        },
        {
          "output_type": "execute_result",
          "data": {
            "text/plain": [
              "WhisperForConditionalGeneration(\n",
              "  (model): WhisperModel(\n",
              "    (encoder): WhisperEncoder(\n",
              "      (conv1): Conv1d(128, 1280, kernel_size=(3,), stride=(1,), padding=(1,))\n",
              "      (conv2): Conv1d(1280, 1280, kernel_size=(3,), stride=(2,), padding=(1,))\n",
              "      (embed_positions): Embedding(1500, 1280)\n",
              "      (layers): ModuleList(\n",
              "        (0-31): 32 x WhisperEncoderLayer(\n",
              "          (self_attn): WhisperSdpaAttention(\n",
              "            (k_proj): Linear(in_features=1280, out_features=1280, bias=False)\n",
              "            (v_proj): Linear(in_features=1280, out_features=1280, bias=True)\n",
              "            (q_proj): Linear(in_features=1280, out_features=1280, bias=True)\n",
              "            (out_proj): Linear(in_features=1280, out_features=1280, bias=True)\n",
              "          )\n",
              "          (self_attn_layer_norm): LayerNorm((1280,), eps=1e-05, elementwise_affine=True)\n",
              "          (activation_fn): GELUActivation()\n",
              "          (fc1): Linear(in_features=1280, out_features=5120, bias=True)\n",
              "          (fc2): Linear(in_features=5120, out_features=1280, bias=True)\n",
              "          (final_layer_norm): LayerNorm((1280,), eps=1e-05, elementwise_affine=True)\n",
              "        )\n",
              "      )\n",
              "      (layer_norm): LayerNorm((1280,), eps=1e-05, elementwise_affine=True)\n",
              "    )\n",
              "    (decoder): WhisperDecoder(\n",
              "      (embed_tokens): Embedding(51866, 1280, padding_idx=50256)\n",
              "      (embed_positions): WhisperPositionalEmbedding(448, 1280)\n",
              "      (layers): ModuleList(\n",
              "        (0-1): 2 x WhisperDecoderLayer(\n",
              "          (self_attn): WhisperSdpaAttention(\n",
              "            (k_proj): Linear(in_features=1280, out_features=1280, bias=False)\n",
              "            (v_proj): Linear(in_features=1280, out_features=1280, bias=True)\n",
              "            (q_proj): Linear(in_features=1280, out_features=1280, bias=True)\n",
              "            (out_proj): Linear(in_features=1280, out_features=1280, bias=True)\n",
              "          )\n",
              "          (activation_fn): GELUActivation()\n",
              "          (self_attn_layer_norm): LayerNorm((1280,), eps=1e-05, elementwise_affine=True)\n",
              "          (encoder_attn): WhisperSdpaAttention(\n",
              "            (k_proj): Linear(in_features=1280, out_features=1280, bias=False)\n",
              "            (v_proj): Linear(in_features=1280, out_features=1280, bias=True)\n",
              "            (q_proj): Linear(in_features=1280, out_features=1280, bias=True)\n",
              "            (out_proj): Linear(in_features=1280, out_features=1280, bias=True)\n",
              "          )\n",
              "          (encoder_attn_layer_norm): LayerNorm((1280,), eps=1e-05, elementwise_affine=True)\n",
              "          (fc1): Linear(in_features=1280, out_features=5120, bias=True)\n",
              "          (fc2): Linear(in_features=5120, out_features=1280, bias=True)\n",
              "          (final_layer_norm): LayerNorm((1280,), eps=1e-05, elementwise_affine=True)\n",
              "        )\n",
              "      )\n",
              "      (layer_norm): LayerNorm((1280,), eps=1e-05, elementwise_affine=True)\n",
              "    )\n",
              "  )\n",
              "  (proj_out): Linear(in_features=1280, out_features=51866, bias=False)\n",
              ")"
            ]
          },
          "metadata": {},
          "execution_count": 4
        },
        {
          "output_type": "stream",
          "name": "stdout",
          "text": [
            "time: 11.5 s (started: 2024-09-19 10:34:52 +00:00)\n"
          ]
        }
      ],
      "source": [
        "device = \"cuda:0\" if torch.cuda.is_available() else \"cpu\"\n",
        "torch_dtype = torch.float16 if torch.cuda.is_available() else torch.float32\n",
        "\n",
        "model_id = \"distil-whisper/distil-large-v3\"\n",
        "\n",
        "model = AutoModelForSpeechSeq2Seq.from_pretrained(\n",
        "    model_id, torch_dtype=torch_dtype, low_cpu_mem_usage=True, use_safetensors=True, attn_implementation=\"sdpa\"\n",
        ")\n",
        "model.to(device)"
      ]
    },
    {
      "cell_type": "code",
      "execution_count": 5,
      "id": "1598aca8-c636-49f1-a3ed-4c707d79e0af",
      "metadata": {
        "colab": {
          "base_uri": "https://localhost:8080/",
          "height": 290,
          "referenced_widgets": [
            "b61a8fe92aab4525b09bab226b77a3bd",
            "2503083645ab40e0bcec61afd96f5c72",
            "c964aa6916114844aad5ce0c703f629a",
            "195b19a2579e4dbfa6a0cb076855e394",
            "caff4eb4e1fc44f0a65db3c4d49a13fd",
            "f0dc0a4efd684a80b57891e4bcd5c39e",
            "a2d4c6fd7ed1482b9a723a59e258e222",
            "9e0c845eb75d469e832798a78795280a",
            "14516608e33f421187568acb2e249395",
            "d3925b2e6b8348299bfc939a7ccac6ac",
            "03392a2b63394dbf9655450c48855c4b",
            "341c1b9d37c44d2dbcca2cf06b2ae2a5",
            "bb7c4d447eaf4a76a597cf98bb964d22",
            "fa74b33286f6450282d8c88d0823400c",
            "430904674571459a9ef05dd172a6e81a",
            "61ad19c362a74d79b20f26805c0f0396",
            "9f5075193e694026b02b040f87703fdc",
            "2693d0ad57f74213a55975d90165a58a",
            "fe7dfc5824544fef87eec6e404bc68bb",
            "b53bd72a9e144d8ab607df0dc3b2981c",
            "afed96a4ee784255a3e07da72a6dca51",
            "a6a148fc5d83457bad90e72c9f37bd7d",
            "168406d76e6f466681deaf5b5025a195",
            "84bc8efea0854b40a07fce444e189396",
            "b2828c8660c842458e10c648820e413f",
            "9a1ecf0c3b67450294b7d04288864063",
            "e9687875fc184e969934401eafe58d07",
            "e3b86ea1a12341b1aceed5f26a3b1771",
            "12e6bc9d073d46ca9c26bc15dc64603c",
            "2e79b6e1a95142a8a3a02fca5b450c7f",
            "54175222b3244570b39bd711ee7ad8cf",
            "b8d2ef6b3efa4336aa4b33b23349c30e",
            "453227606dcd43558dd39464845636e4",
            "5d2cba639c8642f9a879c33a342d53e4",
            "e40663f30a8942b793447addc3b1a699",
            "2fd7070877bc4c2a896fbe99237e39e0",
            "28fc794be47c48d8a33d84a69f3c60fd",
            "eabc45cd50234c29b85f89ee6413b771",
            "8f8ccf73305246fcb95de49c0aca307e",
            "478b5a81681049d79c6f9b3e937d20eb",
            "2aaf641021cc41c0ac873b7389db0a2c",
            "959c5de70ff1475798c27bf09e89f84c",
            "b167e96e0cf541f494794a6585acc84b",
            "a96e4b9bf3fb4d0cbc6475e788fb1e99",
            "e11710173c5a4b59b6b3707916cd8070",
            "a5025f0e69064344a3c3dc96383b2b8e",
            "c8c71b7a5a7d4826ab0f0e2e935962cb",
            "76067ac6827e41c98e971897d26061f6",
            "6847987381694d32828578febea2db1f",
            "e838f3d61b534ad2a220a7f5030531b5",
            "24153224ef1a4bf69fad69ce44125ed4",
            "849c1f85a64f439aa8e8e86a7c398fa2",
            "d898dfd393ce4927a7e2feb23d930f14",
            "b6ff3ca24f16406a954fa0a5a1ab980e",
            "42c09faa7b024278839674e6bc1f660c",
            "9ba7e16ed3ef46a8bf0011cd06af2745",
            "d6f2a09180a344e790985736f8d67f96",
            "10c25e3a45e64360b77e35e7c19ec80a",
            "406e541144454b4c89d13084be4fcd4b",
            "56efeec5db85454c816b4e4588e49e92",
            "d03b021e3b3c448f8eba333ba9f614bc",
            "d320fb9892b94318ae69817c94ae0fb4",
            "405c7e99650a4cfd90be38b291284f3e",
            "07c21112a2a04735bf232568efee4a23",
            "973542c67bf248b586fe011f9821bdfe",
            "3757fb749d544d0b8336627806846d51",
            "d63db6685d5444caa90b80729b0eb4ec",
            "bcc24ca95b2540338aa77e7177e8b9c5",
            "18e3bd3a8d3d48d2bd52ea5cbeade74b",
            "73927cae95234d2eb0fc16e5def30120",
            "a379d69a310e45e990817a58d074ecfb",
            "171d9fba394f4469ac1141a9107d9854",
            "74d49ed28d7940809c7be5d33c539e85",
            "cdd8d1de41b849508b3b06800fee2f90",
            "2ed337814f844b5991e0c136fd77ffbc",
            "7f928ff3a93d42adbe032ba68decc2f4",
            "584eceefebae484b85358b4794c3f222",
            "0c2bd04d7a774a65873d6d038cdb3ce6",
            "6586ca773306479c8f2021c4e167c43c",
            "a150601b999843afa65f683fc502a448",
            "20ab8a64ae1b4db386c8eee4b93a8dfe",
            "fcb9e44a26974137a9b6fe5421709996",
            "cd2b409b467541e2be87c4c1a2358d7c",
            "4d4f8adcb21e4974b05000e92a7e636d",
            "597942854e1448f8a6c12068e16cf4ee",
            "118f097df86048599c0925c2c8082e42",
            "794c7c2f98ea4fd8bd1c578c359a02d2",
            "8bed021f29dd449ebcc588d2ff058888"
          ]
        },
        "id": "1598aca8-c636-49f1-a3ed-4c707d79e0af",
        "outputId": "24a1c7bc-06e1-400d-f0f6-055397b93434"
      },
      "outputs": [
        {
          "output_type": "display_data",
          "data": {
            "text/plain": [
              "preprocessor_config.json:   0%|          | 0.00/340 [00:00<?, ?B/s]"
            ],
            "application/vnd.jupyter.widget-view+json": {
              "version_major": 2,
              "version_minor": 0,
              "model_id": "b61a8fe92aab4525b09bab226b77a3bd"
            }
          },
          "metadata": {}
        },
        {
          "output_type": "display_data",
          "data": {
            "text/plain": [
              "tokenizer_config.json:   0%|          | 0.00/283k [00:00<?, ?B/s]"
            ],
            "application/vnd.jupyter.widget-view+json": {
              "version_major": 2,
              "version_minor": 0,
              "model_id": "341c1b9d37c44d2dbcca2cf06b2ae2a5"
            }
          },
          "metadata": {}
        },
        {
          "output_type": "display_data",
          "data": {
            "text/plain": [
              "vocab.json:   0%|          | 0.00/1.04M [00:00<?, ?B/s]"
            ],
            "application/vnd.jupyter.widget-view+json": {
              "version_major": 2,
              "version_minor": 0,
              "model_id": "168406d76e6f466681deaf5b5025a195"
            }
          },
          "metadata": {}
        },
        {
          "output_type": "display_data",
          "data": {
            "text/plain": [
              "tokenizer.json:   0%|          | 0.00/2.48M [00:00<?, ?B/s]"
            ],
            "application/vnd.jupyter.widget-view+json": {
              "version_major": 2,
              "version_minor": 0,
              "model_id": "5d2cba639c8642f9a879c33a342d53e4"
            }
          },
          "metadata": {}
        },
        {
          "output_type": "display_data",
          "data": {
            "text/plain": [
              "merges.txt:   0%|          | 0.00/494k [00:00<?, ?B/s]"
            ],
            "application/vnd.jupyter.widget-view+json": {
              "version_major": 2,
              "version_minor": 0,
              "model_id": "e11710173c5a4b59b6b3707916cd8070"
            }
          },
          "metadata": {}
        },
        {
          "output_type": "display_data",
          "data": {
            "text/plain": [
              "normalizer.json:   0%|          | 0.00/52.7k [00:00<?, ?B/s]"
            ],
            "application/vnd.jupyter.widget-view+json": {
              "version_major": 2,
              "version_minor": 0,
              "model_id": "9ba7e16ed3ef46a8bf0011cd06af2745"
            }
          },
          "metadata": {}
        },
        {
          "output_type": "display_data",
          "data": {
            "text/plain": [
              "added_tokens.json:   0%|          | 0.00/34.6k [00:00<?, ?B/s]"
            ],
            "application/vnd.jupyter.widget-view+json": {
              "version_major": 2,
              "version_minor": 0,
              "model_id": "d63db6685d5444caa90b80729b0eb4ec"
            }
          },
          "metadata": {}
        },
        {
          "output_type": "display_data",
          "data": {
            "text/plain": [
              "special_tokens_map.json:   0%|          | 0.00/2.07k [00:00<?, ?B/s]"
            ],
            "application/vnd.jupyter.widget-view+json": {
              "version_major": 2,
              "version_minor": 0,
              "model_id": "0c2bd04d7a774a65873d6d038cdb3ce6"
            }
          },
          "metadata": {}
        },
        {
          "output_type": "stream",
          "name": "stdout",
          "text": [
            "time: 3.07 s (started: 2024-09-19 10:35:05 +00:00)\n"
          ]
        }
      ],
      "source": [
        "processor = AutoProcessor.from_pretrained(model_id)\n",
        "\n",
        "pipe = pipeline(\n",
        "    \"automatic-speech-recognition\",\n",
        "    model=model,\n",
        "    tokenizer=processor.tokenizer,\n",
        "    feature_extractor=processor.feature_extractor,\n",
        "    max_new_tokens=128,\n",
        "    torch_dtype=torch_dtype,\n",
        "    device=device,\n",
        ")"
      ]
    },
    {
      "cell_type": "code",
      "execution_count": null,
      "id": "e796c312-50a6-480f-920f-7bdd0b708b53",
      "metadata": {
        "id": "e796c312-50a6-480f-920f-7bdd0b708b53"
      },
      "outputs": [],
      "source": [
        "sample = \"https://huggingface.co/datasets/reach-vb/random-audios/resolve/main/4469669-10.mp3\""
      ]
    },
    {
      "cell_type": "code",
      "execution_count": null,
      "id": "4ab65b34-9c4b-48ee-9888-35639dab54e1",
      "metadata": {
        "id": "4ab65b34-9c4b-48ee-9888-35639dab54e1",
        "outputId": "2a19ac4c-e087-4db3-f9c1-99f932ac0dc5"
      },
      "outputs": [
        {
          "data": {
            "text/plain": [
              "'result = pipe(sample, batch_size=8)'"
            ]
          },
          "execution_count": 11,
          "metadata": {},
          "output_type": "execute_result"
        },
        {
          "name": "stdout",
          "output_type": "stream",
          "text": [
            "time: 1.76 ms (started: 2024-09-19 06:31:28 +00:00)\n"
          ]
        }
      ],
      "source": [
        "\"\"\"result = pipe(sample, batch_size=8)\"\"\""
      ]
    },
    {
      "cell_type": "code",
      "execution_count": null,
      "id": "6f005b14-b4a1-4a80-a6ef-8a3f2f7c4d38",
      "metadata": {
        "id": "6f005b14-b4a1-4a80-a6ef-8a3f2f7c4d38",
        "outputId": "e48fcb4a-78c5-4056-edc5-5c349938e884"
      },
      "outputs": [
        {
          "data": {
            "text/plain": [
              "'print(result[\"text\"])'"
            ]
          },
          "execution_count": 12,
          "metadata": {},
          "output_type": "execute_result"
        },
        {
          "name": "stdout",
          "output_type": "stream",
          "text": [
            "time: 1.72 ms (started: 2024-09-19 06:31:33 +00:00)\n"
          ]
        }
      ],
      "source": [
        "\"\"\"print(result[\"text\"])\"\"\""
      ]
    },
    {
      "cell_type": "code",
      "execution_count": null,
      "id": "1d9d0440-2741-4389-a39b-d8062c372a11",
      "metadata": {
        "id": "1d9d0440-2741-4389-a39b-d8062c372a11"
      },
      "outputs": [],
      "source": [
        "result = pipe(sample, batch_size=8, return_timestamps=True)\n"
      ]
    },
    {
      "cell_type": "code",
      "execution_count": null,
      "id": "7155541b-8c59-464c-8644-e5c1f3decb67",
      "metadata": {
        "id": "7155541b-8c59-464c-8644-e5c1f3decb67"
      },
      "outputs": [],
      "source": [
        "print(result[\"text\"])"
      ]
    },
    {
      "cell_type": "markdown",
      "id": "469c462b-14c6-49ee-a8d6-4831d5ec17a5",
      "metadata": {
        "id": "469c462b-14c6-49ee-a8d6-4831d5ec17a5"
      },
      "source": [
        "# Testing"
      ]
    },
    {
      "cell_type": "code",
      "execution_count": 6,
      "id": "a4ed0f50-9a49-412d-8187-bf737f0752f1",
      "metadata": {
        "colab": {
          "base_uri": "https://localhost:8080/"
        },
        "id": "a4ed0f50-9a49-412d-8187-bf737f0752f1",
        "outputId": "93f0f404-d08a-445e-8201-7389ee1eba2b"
      },
      "outputs": [
        {
          "output_type": "stream",
          "name": "stderr",
          "text": [
            "/usr/local/lib/python3.10/dist-packages/transformers/models/whisper/generation_whisper.py:496: FutureWarning: The input name `inputs` is deprecated. Please make sure to use `input_features` instead.\n",
            "  warnings.warn(\n",
            "You have passed task=transcribe, but also have set `forced_decoder_ids` to [[1, None], [2, 50360]] which creates a conflict. `forced_decoder_ids` will be ignored in favor of task=transcribe.\n",
            "The attention mask is not set and cannot be inferred from input because pad token is same as eos token. As a consequence, you may observe unexpected behavior. Please pass your input's `attention_mask` to obtain reliable results.\n"
          ]
        },
        {
          "output_type": "stream",
          "name": "stdout",
          "text": [
            " Now, it's time. May I start the presentation on transforming Toshiba to enhance your health value and FY21 second quarter consolidated business results. We are organized this presentation session on online basis. From 4 to 5 o'clock, we will be presenting from our side and followed by 30 minutes' question session for the middle of the media. The questions from Alice And investors will be accepted from 5.30 to 6 o'clock Japan time. Please be aware of that. Now, we will be collecting questions via telephone conferencing system. As is informed you beforehand, the conference call system will require the pre-registration beforehand. Let me introduce the presenter today. President and CEO, Satoshi Tsunakawa. Corporate Senior Executive Vice President, Mamor Hatazawa. Representative Executive Executive Vice President, Corporate Executive Vice President, NCFO, Masei Hiraeta. We have a chairperson of Strategic Review Committee outside director of Paul Broff. He is joining from Hong Kong on online. My name is Hara of Communications, Corporate Communication Department. We are providing simultaneous transition, so if you are watching the live streaming in Japanese, you will be able to hear translation's voice. Please be aware of that. First, before going into transforming Toshiba to enhance Heharo's value, may I have Mr. Tunaka to say a few words upon the receipt of the report from governance enhancement committee. today. Mr. Sunakawa, please. Now, first of all, I'd like to say a few words on behalf of the company upon the report of the Government and Ensenancement Committee. First off, I'd like to express profound appreciation to the members of the Governor Enhancing Committee who have made tremendous efforts and time since their appointment to investigate the root codes of the issue raised in the investigation report, clarify where the responsibility lies and compile recommendations for formulating the measures to repent recurrent. I recognize that the Toshiba's governance enhancement committee, based on the strong belief that restructuring of the governance is essential for the revival of the Toshiba, has compiled a report for our future. In fact, no issue of illegality was discovered, according to the report of the government enhancement committee. Having said that, I feel as a part of the senior management of the company, I am extremely ashamed and embarrassed that the, the senior members of the company and their actions was concluded that an act as a whole violates the corporate ethics demanded by the market. We have just received a final report of the governance Enhance Committee, but we will continue to discuss the governance seriously within the company based on the contents of the report, including recommendations for the formulation of the recurrence prevention measures. We believe that this recurrence prevention measures will form the very first step to restore the trust of the shareholders which have been restored so far. Now, one of the group's philosophy is doing the right thing. Many employees on the front lines of the operations are working day-to-day based on this value. On the other hand, I believe that some of the members of the Singe Management were acted quite differently from this philosophy, and that should be sincerely remorse over. The corporate management is established based on the trust relationship with all stakeholders. The Governor and Assessment Committee also pointed out that the importance of top-at-the-ton and organizational leaders demonstrating their commitment to value, ethics, and integrity. Until now, the culture to recognize the mistakes and the very good communication so that anyone can raise opinions escalated. higher level, but also we need to ensure the psychological safety of all employees. We will make persistent efforts in this regard. As I will announce today, our group decided to separate the energy infrastructure business and storage device business sets. There will be the separate companies and aim for the IPOs, accept independently. This is a drastic change, but because these business will be separated and being independent, and therefore, the committed to people and committed to the future, based on this philosophy, under the new corporate culture, each business is poised to grow, and this is a great opportunity. But beforehand, it is a critical mission of the senior management to enhance governance beforehand. I appreciate your continued support and asking for your cooperation. Thank you very much. Next, we'd like to present on the transforming Toshiba to enhance shareholders' value, and Mr. Tuna Kawa will make presentations. Next, I'd like to explain on our new management policy titled as Transforming Toshiba to Enhense Shelders value. The corporate executive vice president, Hatazawa, will also be presenting, and also on online, the chairperson of Strategic Review Committee, Mr. Paul, will also be attending as well. Now, today, Toshiba Group has decided on its significant transformation to further lead forward for the future. Let me first introduce why this is the best path forward for Toshiba and our shareholders and what it means for our business going forward. And then we would like to invite Mr. Brough to explain on the evaluation made by the Strategic Review Committee. After that, Mr. Hadza will talk on what the business outlook will be for the standalone companies after separation. First, about our path to unlocking the value that I'd like to explain. Now, at the Board of Directorial meeting held this morning, decision was made for Toshiba's strategic reorganization to separate the business into two businesses. As a result, there will be three standalone companies to be formulated. One is infrastructure service company. Second is device company. and the third is Toshiba. As we conclude, thus, strategic reorganization to be the best path forward for Toshiba and their stakeholders, we took into account the view of our important shareholders and other key stakeholders, as well as the business characteristics and the value chain of each of our diverse businesses. Over our history of over 140 years, Toshiba has constantly evolved to stay ahead of the times. Today's announcement is no different. Toshiba has built a portfolio of leading businesses, but in order to enhance our competitive positioning, each business needs greater flexibility to address its own market opportunities and challenges. The official names for the new companies will be announced in due course. Here is an overview of the three independent businesses. Infrastructure service company will consist of Toshiba and energy systems and solutions, infrastructure systems and solutions, building solutions, digital solutions, and battery businesses, and become a company with the forecasted net sales of 2.1 trillion yen according to this fiscal year's forecast. Its increased focus combined with its innovative technological solutions will enable it to play a lean role in driving the transition to ringable energy to meet ambitious global carbon neutrality goals and advancing infrastructure to resilience as a leading player. Device company will be comprised of Toshiba electric device and storage solutions business and become a company with forecasted net sales of 870 billion yen. Its products will be including power semiconductors, high-capacity, hard disk drives, HDD for data centers, and semiconductor manufacturing equipment. It will be a global leader in supporting the evolution of, social and IT infrastructure. Toshiba will continue to hold the company's ownership stake in Kiyokshia Holding Corporation and Toshab Tech Corporation. Kosovo will seek to monetize the share of Kiyokshia at an appropriate timing. The separation this time enables us to better align each new companies by its unique business characteristics. Infrastructure service company related to the technology. business focus on the direct sale of equipment and the provision of solutions to specific customers. It has long business cycles that are more heavily dependent on negotiations between business parties than the market conditions at large. In addition, it will be a capital light business, and there are also major differences to the extent in which we conduct customized production. In contrast, device company primarily, manufactures and sales devices such as semiconductors and other materials, its business cycles are shorter and can be impacted significantly by the market conditions. It will be a capital-intensive business that requires scale of continuous production across multiple customer orders. And relatively...\n",
            "time: 17.8 s (started: 2024-09-19 10:35:16 +00:00)\n"
          ]
        }
      ],
      "source": [
        "sample = \"https://huggingface.co/datasets/reach-vb/random-audios/resolve/main/4469669-10.mp3\"\n",
        "result = pipe(sample, batch_size=8, return_timestamps=True)\n",
        "print(result[\"text\"])"
      ]
    },
    {
      "cell_type": "code",
      "execution_count": null,
      "id": "0492e096-2486-46fb-8a6b-2bf337fa126f",
      "metadata": {
        "id": "0492e096-2486-46fb-8a6b-2bf337fa126f",
        "outputId": "f57419f0-f4c2-4d58-9c9e-f375d8d26d83"
      },
      "outputs": [
        {
          "name": "stderr",
          "output_type": "stream",
          "text": [
            "/home/vmadmin/myenv/lib/python3.10/site-packages/transformers/models/whisper/generation_whisper.py:496: FutureWarning: The input name `inputs` is deprecated. Please make sure to use `input_features` instead.\n",
            "  warnings.warn(\n"
          ]
        },
        {
          "name": "stdout",
          "output_type": "stream",
          "text": [
            " And as I bring you all the latest from the world of sports. Take a look. An all-run performance by India beat Australia by 36 runs in the second semi-final of the ICC Women's World Cup on Thursday at Derby. Herman Preet Kor produced one of the greatest ever ODIHN Knox in women's cricket as India stormed into the. the final. Herman Preet's third ODIS century was embellished with 24s and as many as 7-6s. It is the second time that India has entered the summit clash of the global event having lost to Australia in the final of the 2005 edition. It was also the second highest individual score in ODIs for India's. behind Dippedi Sharma's unbeaten 188 runs against South Africa earlier this year. With enough runs on the board, confident Indian Seymers Goswami and Shikha Pandey came up with brilliant opening spells.\n",
            "time: 1.16 s (started: 2024-09-19 06:33:47 +00:00)\n"
          ]
        }
      ],
      "source": [
        "sample = \"/home/vmadmin/myenv/English/clip1.mp3\"\n",
        "result = pipe(sample, batch_size=8, return_timestamps=True)\n",
        "print(result[\"text\"])"
      ]
    },
    {
      "cell_type": "code",
      "execution_count": null,
      "id": "b8949ba1-e732-40b6-849a-0c89f5d30e5e",
      "metadata": {
        "id": "b8949ba1-e732-40b6-849a-0c89f5d30e5e",
        "outputId": "487c013a-e49e-4981-8072-8f330b2d52b8"
      },
      "outputs": [
        {
          "name": "stderr",
          "output_type": "stream",
          "text": [
            "/home/vmadmin/myenv/lib/python3.10/site-packages/transformers/models/whisper/generation_whisper.py:496: FutureWarning: The input name `inputs` is deprecated. Please make sure to use `input_features` instead.\n",
            "  warnings.warn(\n"
          ]
        },
        {
          "name": "stdout",
          "output_type": "stream",
          "text": [
            " Moving now to some tragic news coming in from Jammu and Kashmir. Well, right ahead of the Prime Minister's visit a major encounter in Jammun Kishmir's Kistvah. In fact, tragically, two soldiers have died in the line of duty. In fact, several other soldiers have been injured as well. There was a brief gunfight is what we can report at this moment in Jammu and Kishmir's Kistvahar and two soldiers have died. Of course, these are soldiers leading from the front and they've been killed in the line of action. Absolutely tragic there. And this comes after. There was a major arms hall as well in parts of Jammu and Kashmir. And the timing of the encounter is also extremely important given the fact that this comes right ahead of the assembly polls. The assembly pole is just a week away. Less than a week away perhaps the first phase will be held on the 18th of September. So extremely concerning there. and most tragic the fact that two soldiers have died in this gun battle.\n",
            "time: 1.21 s (started: 2024-09-19 06:56:57 +00:00)\n"
          ]
        }
      ],
      "source": [
        "sample = \"/home/vmadmin/myenv/English/clip2.mp3\"\n",
        "result = pipe(sample, batch_size=8, return_timestamps=True)\n",
        "print(result[\"text\"])"
      ]
    },
    {
      "cell_type": "code",
      "execution_count": null,
      "id": "f92e3603-6a68-433f-9193-4603ad24e09e",
      "metadata": {
        "id": "f92e3603-6a68-433f-9193-4603ad24e09e",
        "outputId": "79d39ffb-3b33-41cb-a98a-fbd14d4e542d"
      },
      "outputs": [
        {
          "name": "stderr",
          "output_type": "stream",
          "text": [
            "/home/vmadmin/myenv/lib/python3.10/site-packages/transformers/models/whisper/generation_whisper.py:496: FutureWarning: The input name `inputs` is deprecated. Please make sure to use `input_features` instead.\n",
            "  warnings.warn(\n"
          ]
        },
        {
          "name": "stdout",
          "output_type": "stream",
          "text": [
            " When I was shocked how to how to climb up on the without hand, I'm a world championship medal, I got a medal, I got a real Paira RACI, then I knew I got to Paira are different and Abel Walsh. Then I got to know that I had there were a surgery also I thought I'd like I'd like to do I'm not even though then I'm not even though then said you can't you can't do you so I'm dumbed and I did then he got up so he made and he was it was easy it was easy strength six, seven days I practiced then I was I was a goal world number one. When I was in the first when I was in the I was always I would be I would be I could do something I'm too thing gave, I'm I'm a You know,\n",
            "time: 1.26 s (started: 2024-09-19 06:37:32 +00:00)\n"
          ]
        }
      ],
      "source": [
        "sample = \"/home/vmadmin/myenv/English/clip3.mp3\"\n",
        "result = pipe(sample, batch_size=8, return_timestamps=True)\n",
        "print(result[\"text\"])"
      ]
    },
    {
      "cell_type": "code",
      "execution_count": null,
      "id": "4cfe665f-c4cc-40c2-a2a8-4cafe099e4a5",
      "metadata": {
        "id": "4cfe665f-c4cc-40c2-a2a8-4cafe099e4a5",
        "outputId": "ccfe2481-d6d1-434b-c12c-b7d040bd7dfb"
      },
      "outputs": [
        {
          "name": "stderr",
          "output_type": "stream",
          "text": [
            "/home/vmadmin/myenv/lib/python3.10/site-packages/transformers/models/whisper/generation_whisper.py:496: FutureWarning: The input name `inputs` is deprecated. Please make sure to use `input_features` instead.\n",
            "  warnings.warn(\n"
          ]
        },
        {
          "name": "stdout",
          "output_type": "stream",
          "text": [
            " We are struggling with some issues. There's a big debate in our country about manufacturing. Now the fact is, I mean there are people who would say, why we're importing so much from China? Part of it is because we neglected manufacturing through the 1960s, 70s, 80s and 90s, maybe even the first decade of 2000. When, I mean, think back, I mean, all of you are as connected and have as good a memory about our country as our country as I'm. what our country is, I do. When did we actually have governments who made a major push on manufacturing? And yet there are people who today come and say, no, we need to find a fix, as though it's something you can do in Stentenously. And rather, by the way, people who actually also say that we're incapable of it. We should not even attempt it. So, now ask yourself, can you actually be a major power in the world without manufacturing? Because a major power needs technology. Nobody can develop technology without developing manufacturing. But yet you have that strain of thought also. So as I said, you know, it's, it requires, until we develop the human resources, it requires hard work, until you build the infrastructure, until you have those policies. So life is not khattakht. Life is hard work. Life is diligence. Anybody who's held a job and labelled at it, knows it.\n",
            "time: 1.69 s (started: 2024-09-19 06:37:46 +00:00)\n"
          ]
        }
      ],
      "source": [
        "sample = \"/home/vmadmin/myenv/English/clip4.mp3\"\n",
        "result = pipe(sample, batch_size=8, return_timestamps=True)\n",
        "print(result[\"text\"])"
      ]
    },
    {
      "cell_type": "code",
      "execution_count": 15,
      "id": "5c0e4569-89f6-44fa-a278-8924c911e9d1",
      "metadata": {
        "colab": {
          "base_uri": "https://localhost:8080/"
        },
        "id": "5c0e4569-89f6-44fa-a278-8924c911e9d1",
        "outputId": "b0c3b7e2-2cb6-47b4-bb95-47dac399150a"
      },
      "outputs": [
        {
          "output_type": "stream",
          "name": "stderr",
          "text": [
            "/usr/local/lib/python3.10/dist-packages/transformers/models/whisper/generation_whisper.py:496: FutureWarning: The input name `inputs` is deprecated. Please make sure to use `input_features` instead.\n",
            "  warnings.warn(\n"
          ]
        },
        {
          "output_type": "stream",
          "name": "stdout",
          "text": [
            " down on terror, of course, continues, search operations continuing in some of these areas where terrorists are believed to be hiding. My colleague, Nazir joins us with more details. Naze, take us through these three separate encounters, one in Kishua, one in Kutwar and one in Baramullah. Well, there was a major encounter yesterday evening in Kistawar, the area which will go to polls and on just in four days on 18th of this month. And prime minister is addressing a rally in the same region. And so hours before Prime Minister's arrival in Doda, we saw this major encounter where army has suffered casualties. Two soldiers have been killed in action. A junior commission officer has been killed and a soldier has Javan has been killed in this encounter. Two soldiers have been injured. The operation is underway according to army. They had launched an operation in the area but there was a heavy exchange of firing in which army suffered two casualties in this encounter. in this encounter. So, there was also, according to\n",
            "time: 6.17 s (started: 2024-09-19 10:44:27 +00:00)\n"
          ]
        }
      ],
      "source": [
        "sample = \"https://storage.googleapis.com/imagestg-bucket/noise_free_audio/1010259_2024.09.14_08.05.28-2024.09.14_08.06.28.wav\"\n",
        "result = pipe(sample, batch_size=8, return_timestamps=True)\n",
        "print(result[\"text\"])"
      ]
    },
    {
      "cell_type": "code",
      "execution_count": 14,
      "id": "16c89ba6-9c88-4a5d-a661-f8fc84c29cde",
      "metadata": {
        "colab": {
          "base_uri": "https://localhost:8080/"
        },
        "id": "16c89ba6-9c88-4a5d-a661-f8fc84c29cde",
        "outputId": "10b8efff-dbf0-4e59-b138-7abda82f270c"
      },
      "outputs": [
        {
          "output_type": "stream",
          "name": "stderr",
          "text": [
            "/usr/local/lib/python3.10/dist-packages/transformers/models/whisper/generation_whisper.py:496: FutureWarning: The input name `inputs` is deprecated. Please make sure to use `input_features` instead.\n",
            "  warnings.warn(\n"
          ]
        },
        {
          "output_type": "stream",
          "name": "stdout",
          "text": [
            " Content we flagged was taken down, but it's still possible to find more. A century-old ideology of hate pushed by cutting-edge algorithms to a massive modern audience. Tom Cheshire, Sky News. The UK's High Court has reversed the decision to approve the UK's first new coal mine in 30 years. It follows the confirmation this week that nearly 3,000 jobs will be lost at the Port Talbot Steelworks and potentially 400 at Scotland's only oil refinery Grangemouth. Our science and technology editor Tom Clark reports now on the UK's changing green credentials. Leave it in the ground. Their case argued UK coal has no future on a rapidly warming planet. We have won. The High Court pretty much agreed. It's a huge win. And this, the proposed coal mine that lost. The Woodhouse Colliery.\n",
            "time: 5.97 s (started: 2024-09-19 10:44:11 +00:00)\n"
          ]
        }
      ],
      "source": [
        "sample = \"https://storage.googleapis.com/imagestg-bucket/noise_free_audio/1010834_2024.09.14_08.05.27-2024.09.14_08.06.27.wav\"\n",
        "result = pipe(sample, batch_size=8, return_timestamps=True)\n",
        "print(result[\"text\"])"
      ]
    },
    {
      "cell_type": "code",
      "execution_count": 13,
      "id": "b41a036f-7f8c-4de5-b142-98493bf081d2",
      "metadata": {
        "colab": {
          "base_uri": "https://localhost:8080/"
        },
        "id": "b41a036f-7f8c-4de5-b142-98493bf081d2",
        "outputId": "d2309735-908a-4c8a-fc4b-c2572bcbeb30"
      },
      "outputs": [
        {
          "output_type": "stream",
          "name": "stderr",
          "text": [
            "/usr/local/lib/python3.10/dist-packages/transformers/models/whisper/generation_whisper.py:496: FutureWarning: The input name `inputs` is deprecated. Please make sure to use `input_features` instead.\n",
            "  warnings.warn(\n"
          ]
        },
        {
          "output_type": "stream",
          "name": "stdout",
          "text": [
            " assembly seats. And in second and third phase prime minister would be campaigning in Riyasi district, in Katra, Vaishna, Wayshan Devi Connoosgency, Kutwa, Jammu. So, an extensive campaigning, whom Mr. Amit Shah has already addressed Raleigh is here. He is coming here again in next few days. So, other senior leaders, BJP President, JAP, Nanda, defense minister Rajnaz Singh recently addressed Riley in Ramban and Banha as well so top leaders, top guns of the BJP are comparing in Jammanyahu as the first phase of polling is approaching to just four days away. Nazir, stay on with us. There's some more news coming in from Jammu and Kashmir. Like you had mentioned, there was an encounter that took place in Jambun Kashmir, right ahead of the Prime Minister's visit. Three separate encounters, in fact. In Kishwar, two soldiers have unfortunately died. Two terrorists were killed in Katwa in the encounter and an encounter underway in Barok Mullar.\n",
            "time: 6.29 s (started: 2024-09-19 10:42:23 +00:00)\n"
          ]
        }
      ],
      "source": [
        "sample = \"https://storage.googleapis.com/imagestg-bucket/noise_free_audio/1010259_2024.09.14_08.04.28-2024.09.14_08.05.28.wav\"\n",
        "result = pipe(sample, batch_size=8, return_timestamps=True)\n",
        "print(result[\"text\"])"
      ]
    },
    {
      "cell_type": "code",
      "execution_count": 12,
      "id": "ddda9d8d-6999-43b7-9183-f743bd26e7b0",
      "metadata": {
        "colab": {
          "base_uri": "https://localhost:8080/"
        },
        "id": "ddda9d8d-6999-43b7-9183-f743bd26e7b0",
        "outputId": "a9881e2d-8495-4fcb-8942-0a60d013a9bd"
      },
      "outputs": [
        {
          "output_type": "stream",
          "name": "stderr",
          "text": [
            "/usr/local/lib/python3.10/dist-packages/transformers/models/whisper/generation_whisper.py:496: FutureWarning: The input name `inputs` is deprecated. Please make sure to use `input_features` instead.\n",
            "  warnings.warn(\n"
          ]
        },
        {
          "output_type": "stream",
          "name": "stdout",
          "text": [
            " content to people who don't really understand but think it's cool or funny. However, the impact on the victim is the same, which is the kind of experience of hate of minority communities. This is one of the musicians whose songs have been bolted on to Nazi content without their knowledge. The artist, Pastel Goast, told us, I was not previously aware that my music was being used in this way, and I find it shocking and deplorable. Sky News previously reported about Islamic State supporters using the same sounds loophole to gain more traction on TikTok. We forwarded all the Nazi videos we found this time to TikTok and asked the company for comment. A spokesperson told us, this content was immediately removed for breaching our strict policies against hate speech. We regularly train our safety professionals and update our safeguards to detect hateful behavior on an ongoing basis and we remove 91% of this type of content before it is reported to us. Thank you.\n",
            "time: 5.79 s (started: 2024-09-19 10:42:01 +00:00)\n"
          ]
        }
      ],
      "source": [
        "sample = \"https://storage.googleapis.com/imagestg-bucket/noise_free_audio/1010834_2024.09.14_08.04.27-2024.09.14_08.05.27.wav\"\n",
        "result = pipe(sample, batch_size=8, return_timestamps=True)\n",
        "print(result[\"text\"])"
      ]
    },
    {
      "cell_type": "code",
      "execution_count": 11,
      "id": "fe100794-7a31-462d-ae34-fddb0b29659f",
      "metadata": {
        "colab": {
          "base_uri": "https://localhost:8080/"
        },
        "id": "fe100794-7a31-462d-ae34-fddb0b29659f",
        "outputId": "b1c25cd7-1e52-4e9c-8894-7cb4ff1258db"
      },
      "outputs": [
        {
          "output_type": "stream",
          "name": "stderr",
          "text": [
            "/usr/local/lib/python3.10/dist-packages/transformers/models/whisper/generation_whisper.py:496: FutureWarning: The input name `inputs` is deprecated. Please make sure to use `input_features` instead.\n",
            "  warnings.warn(\n"
          ]
        },
        {
          "output_type": "stream",
          "name": "stdout",
          "text": [
            " voters and galvanize them get win seats for the BJP. Doda-Khistvar area is a very significant important region for the BJP when it comes to increasing the number of seats in Jammu province. So, besides addressing this rally in Duda and Kistewar and Ramban are part of it because it was essentially one district until 2008 and then they were. were two more districts were carved out of us while Doda district. So it has eight assembly segments and BJP is fighting from all the eight even as these are Muslim majority region but some of the during the delimitation some of the conestrances have been carved out which have become the Hindu majority seats of BJP is hoping to win big from this this election from Doda, Kishdhwara Ramban district which has eight Thank you.\n",
            "time: 6.13 s (started: 2024-09-19 10:41:35 +00:00)\n"
          ]
        }
      ],
      "source": [
        "sample = \"https://storage.googleapis.com/imagestg-bucket/noise_free_audio/1010259_2024.09.14_08.03.28-2024.09.14_08.04.28.wav\"\n",
        "result = pipe(sample, batch_size=8, return_timestamps=True)\n",
        "print(result[\"text\"])"
      ]
    },
    {
      "cell_type": "code",
      "execution_count": 10,
      "id": "fd2567c0-3330-441b-a229-c8ca7331e7c4",
      "metadata": {
        "colab": {
          "base_uri": "https://localhost:8080/"
        },
        "id": "fd2567c0-3330-441b-a229-c8ca7331e7c4",
        "outputId": "a16f5279-2b99-492c-fab2-6c5160d84c7a"
      },
      "outputs": [
        {
          "output_type": "stream",
          "name": "stderr",
          "text": [
            "/usr/local/lib/python3.10/dist-packages/transformers/models/whisper/generation_whisper.py:496: FutureWarning: The input name `inputs` is deprecated. Please make sure to use `input_features` instead.\n",
            "  warnings.warn(\n"
          ]
        },
        {
          "output_type": "stream",
          "name": "stdout",
          "text": [
            " popular with children and the owner of Minecraft, Microsoft told us that hate speech and terrorist content is strictly forbidden and they take action to remove such content. But on TikTok, there are posts that are just too graphic to show, specifically anti-Semitic. We've blurred this one here, which shows images from gas chambers set to the same type of audio. And there's much more of this graphic type of contact. In fact, Sky News has seen 72,000 posts used in this way. Not only is that number big, but the level of engagement is high too. Between them, these posts have racked up 21 million likes, showing people are engaging with the videos. Well, how are they engaging? This is a good example, an image of a Nuremberg rally, accompanied by a Hitler speech. It's been liked by more than 56,000 users. And in a comment, there has been liked 1,695 times, one user states, modern society needs him. Another says we miss you. It's difficult to know the motivations of the people posting it. It's probably a range from people who are knowingly spreading white national...\n",
            "time: 5.97 s (started: 2024-09-19 10:41:09 +00:00)\n"
          ]
        }
      ],
      "source": [
        "sample = \"https://storage.googleapis.com/imagestg-bucket/noise_free_audio/1010834_2024.09.14_08.03.27-2024.09.14_08.04.27.wav\"\n",
        "result = pipe(sample, batch_size=8, return_timestamps=True)\n",
        "print(result[\"text\"])"
      ]
    },
    {
      "cell_type": "code",
      "execution_count": 9,
      "id": "af0ba292-1002-45d6-938f-59c43477ed18",
      "metadata": {
        "colab": {
          "base_uri": "https://localhost:8080/"
        },
        "id": "af0ba292-1002-45d6-938f-59c43477ed18",
        "outputId": "c3bac642-03d2-4323-ac64-afa23035893f"
      },
      "outputs": [
        {
          "output_type": "stream",
          "name": "stderr",
          "text": [
            "/usr/local/lib/python3.10/dist-packages/transformers/models/whisper/generation_whisper.py:496: FutureWarning: The input name `inputs` is deprecated. Please make sure to use `input_features` instead.\n",
            "  warnings.warn(\n"
          ]
        },
        {
          "output_type": "stream",
          "name": "stdout",
          "text": [
            " to be addressed by the Prime Minister in Duda near Kishhtwar of Jammu and Kashmir ahead of the first phase of polling on the 18th of September. Now, Prime Minister Modi had last campaign for the BJP in the Chenab region during the 2014 Assembly elections when the party had won four of the six seats. Remember, the number of seats after de-limitation has increased to eight. Ahead of the Prime Minister's visit, there was an encounter that broke Cartoon Kishwar as well, the Prime Minister will be visiting Duda after 45 years at least. My colleague Nazir joins us with more details. Nazir, if you could take us through the Prime Minister's visit and the big campaign for the BJP in Jambon Kashmir. Well, it is Prime Minister Narendra Modi's first election rally and in Jammu and Kashmir Assembly elections, four days ahead of the first phase of assembly polling. So, very significant rally as far as the BJN. JP's election campaign is concerned. He is seen as the biggest vote catcher and who could move.\n",
            "time: 6.36 s (started: 2024-09-19 10:40:51 +00:00)\n"
          ]
        }
      ],
      "source": [
        "sample = \"https://storage.googleapis.com/imagestg-bucket/noise_free_audio/1010259_2024.09.14_08.02.28-2024.09.14_08.03.28.wav\"\n",
        "result = pipe(sample, batch_size=8, return_timestamps=True)\n",
        "print(result[\"text\"])"
      ]
    },
    {
      "cell_type": "code",
      "execution_count": 8,
      "id": "9994001d-fcf5-4ffb-8a3f-8bab8deaa4be",
      "metadata": {
        "colab": {
          "base_uri": "https://localhost:8080/"
        },
        "id": "9994001d-fcf5-4ffb-8a3f-8bab8deaa4be",
        "outputId": "a6397022-880f-4ce2-c515-79bc3faa01a9"
      },
      "outputs": [
        {
          "output_type": "stream",
          "name": "stderr",
          "text": [
            "/usr/local/lib/python3.10/dist-packages/transformers/models/whisper/generation_whisper.py:496: FutureWarning: The input name `inputs` is deprecated. Please make sure to use `input_features` instead.\n",
            "  warnings.warn(\n"
          ]
        },
        {
          "output_type": "stream",
          "name": "stdout",
          "text": [
            " Nazi speeches and marching music have been used as background sound on tens of thousands of TikTok videos as far-right groups try and spread their message. To appeal to a wider audience, most of the speeches are set to a type of music popular on TikTok called Drift Fong, without the creator's permission or knowledge. And that could be all sorts, cat videos, gym post, gaming or cars here. There's a few of the most popular categories we have seen. It's a way to get content shared widely before offering the user more sinister stuff if they hit the sound button in the corner of a post, which shows them other videos using the same sound. For example, this is a more innocuous video of a cat that looks like Hitler. We'll put that back into the stack and this is a huge stack here. Have a look at another type we've seen gaming. This video was made using Minecraft, the German dictator, recreated in the game. Now, this is popular with children and the owner of Minecraft. Microsoft told us that hate speech and terrorist content is\n",
            "time: 6.57 s (started: 2024-09-19 10:40:26 +00:00)\n"
          ]
        }
      ],
      "source": [
        "sample = \"https://storage.googleapis.com/imagestg-bucket/noise_free_audio/1010834_2024.09.14_08.02.27-2024.09.14_08.03.27.wav\"\n",
        "result = pipe(sample, batch_size=8, return_timestamps=True)\n",
        "print(result[\"text\"])"
      ]
    },
    {
      "cell_type": "code",
      "execution_count": 7,
      "id": "b5cb7c35-b433-4eff-9249-35267a142b58",
      "metadata": {
        "colab": {
          "base_uri": "https://localhost:8080/"
        },
        "id": "b5cb7c35-b433-4eff-9249-35267a142b58",
        "outputId": "ad1fd797-578e-4486-add1-aadd197963d8"
      },
      "outputs": [
        {
          "output_type": "stream",
          "name": "stderr",
          "text": [
            "/usr/local/lib/python3.10/dist-packages/transformers/models/whisper/generation_whisper.py:496: FutureWarning: The input name `inputs` is deprecated. Please make sure to use `input_features` instead.\n",
            "  warnings.warn(\n"
          ]
        },
        {
          "output_type": "stream",
          "name": "stdout",
          "text": [
            " probe continues into the Delhi gym owner's death. Six suspects detained two country-made pistols recovered of Khan origin gym owner were shot dead in GK. Adani listed among world's best companies of 2024 prestigious global industrial industrial industrial industrial industrial industrial list features Adani's eight company. A top focused Prime Minister Modi, said to address an election rally in Doda today, this is the first election Thank you.\n",
            "time: 5.02 s (started: 2024-09-19 10:38:13 +00:00)\n"
          ]
        }
      ],
      "source": [
        "sample = \"https://storage.googleapis.com/imagestg-bucket/noise_free_audio/1010259_2024.09.14_08.01.27-2024.09.14_08.02.27.wav\"\n",
        "result = pipe(sample, batch_size=8, return_timestamps=True)\n",
        "print(result[\"text\"])"
      ]
    },
    {
      "cell_type": "markdown",
      "id": "91c62c6a-2fc2-4ee4-bd2b-ced07815f89d",
      "metadata": {
        "id": "91c62c6a-2fc2-4ee4-bd2b-ced07815f89d"
      },
      "source": [
        "# Timestamping"
      ]
    },
    {
      "cell_type": "code",
      "execution_count": null,
      "id": "5a661be8-e081-4a6e-9c2c-b8f3be8c1bee",
      "metadata": {
        "id": "5a661be8-e081-4a6e-9c2c-b8f3be8c1bee",
        "outputId": "33b7df89-f0de-4ec6-868a-88ffa18092b1"
      },
      "outputs": [
        {
          "name": "stderr",
          "output_type": "stream",
          "text": [
            "/home/vmadmin/myenv/lib/python3.10/site-packages/transformers/models/whisper/generation_whisper.py:496: FutureWarning: The input name `inputs` is deprecated. Please make sure to use `input_features` instead.\n",
            "  warnings.warn(\n"
          ]
        },
        {
          "name": "stdout",
          "output_type": "stream",
          "text": [
            "{'text': \" probe continues into the Delhi gym owner's death. Six suspects detained two country-made pistols recovered of Khan origin gym owner were shot dead in GK. Adani listed among world's best companies of 2024 prestigious global industrial industrial industrial industrial industrial industrial list features Adani's eight company. A top focused Prime Minister Modi, said to address an election rally in Doda today, this is the first election Thank you.\", 'chunks': [{'timestamp': (0.0, 6.44), 'text': \" probe continues into the Delhi gym owner's death.\"}, {'timestamp': (6.44, 12.38), 'text': ' Six suspects detained two country-made pistols recovered of Khan origin gym owner were shot dead in GK.'}, {'timestamp': (25.5, 29.98), 'text': \" Adani listed among world's best companies of 2024 prestigious global industrial industrial industrial industrial industrial industrial\"}, {'timestamp': (0.0, 2.14), 'text': \" list features Adani's eight company.\"}, {'timestamp': (24.44, 29.94), 'text': ' A top focused Prime Minister Modi, said to address an election rally in Doda today, this is the first election'}, {'timestamp': (0.0, 2.0), 'text': ' Thank you.'}]}\n",
            "Full Transcript:  probe continues into the Delhi gym owner's death. Six suspects detained two country-made pistols recovered of Khan origin gym owner were shot dead in GK. Adani listed among world's best companies of 2024 prestigious global industrial industrial industrial industrial industrial industrial list features Adani's eight company. A top focused Prime Minister Modi, said to address an election rally in Doda today, this is the first election Thank you.\n",
            "time: 627 ms (started: 2024-09-19 07:15:41 +00:00)\n"
          ]
        }
      ],
      "source": [
        "# Input audio sample\n",
        "sample = \"/home/vmadmin/myenv/English/1010259_2024.09.14_08.01.27-2024.09.14_08.02.27.wav\"\n",
        "\n",
        "# Perform speech recognition with timestamps\n",
        "result = pipe(sample, batch_size=8, return_timestamps=True)\n",
        "\n",
        "# Check the structure of the result\n",
        "print(result)\n",
        "\n",
        "# Assuming the result is a dictionary with 'text' and 'timestamps'\n",
        "if isinstance(result, dict):\n",
        "    # Print the full transcript\n",
        "    print(\"Full Transcript:\", result[\"text\"])\n",
        "\n",
        "    # Print each segment if timestamps are provided\n",
        "    if \"timestamps\" in result:\n",
        "        for segment in result[\"timestamps\"]:\n",
        "            print(f\"Transcript: {segment['text']}, Start: {segment['start']}, End: {segment['end']}\")\n",
        "else:\n",
        "    print(\"Unexpected result format:\", result)"
      ]
    },
    {
      "cell_type": "code",
      "execution_count": null,
      "id": "9455b9b4-5794-49c9-a31b-18ab04c3ba19",
      "metadata": {
        "id": "9455b9b4-5794-49c9-a31b-18ab04c3ba19",
        "outputId": "e8420065-f2f3-4af7-9ec0-830d701edf2f"
      },
      "outputs": [
        {
          "name": "stderr",
          "output_type": "stream",
          "text": [
            "/home/vmadmin/myenv/lib/python3.10/site-packages/transformers/models/whisper/generation_whisper.py:496: FutureWarning: The input name `inputs` is deprecated. Please make sure to use `input_features` instead.\n",
            "  warnings.warn(\n"
          ]
        },
        {
          "name": "stdout",
          "output_type": "stream",
          "text": [
            "Full Transcript:  probe continues into the Delhi gym owner's death. Six suspects detained two country-made pistols recovered of Khan origin gym owner were shot dead in GK. Adani listed among world's best companies of 2024 prestigious global industrial industrial industrial industrial industrial industrial list features Adani's eight company. A top focused Prime Minister Modi, said to address an election rally in Doda today, this is the first election Thank you.\n",
            "Transcript:  probe continues into the Delhi gym owner's death., Start: 0.00, End: 6.44\n",
            "Transcript:  Six suspects detained two country-made pistols recovered of Khan origin gym owner were shot dead in GK., Start: 6.44, End: 25.50\n",
            "Transcript:  Adani listed among world's best companies of 2024 prestigious global industrial industrial industrial industrial industrial industrial, Start: 25.50, End: 0.00\n",
            "Transcript:  list features Adani's eight company., Start: 0.00, End: 24.44\n",
            "Transcript:  A top focused Prime Minister Modi, said to address an election rally in Doda today, this is the first election, Start: 24.44, End: 0.00\n",
            "Transcript:  Thank you., Start: 0.00, End: 60.00\n",
            "time: 645 ms (started: 2024-09-19 07:21:59 +00:00)\n"
          ]
        }
      ],
      "source": [
        "# Input audio sample\n",
        "sample = \"/home/vmadmin/myenv/English/1010259_2024.09.14_08.01.27-2024.09.14_08.02.27.wav\"\n",
        "\n",
        "# Perform speech recognition with timestamps\n",
        "result = pipe(sample, batch_size=8, return_timestamps=True)\n",
        "\n",
        "# Print the full transcript\n",
        "print(\"Full Transcript:\", result[\"text\"])\n",
        "\n",
        "# Adjust timestamps\n",
        "num_chunks = len(result['chunks'])\n",
        "total_duration = 60  # Total duration in seconds\n",
        "adjusted_chunks = []\n",
        "\n",
        "# Set the start time for the first chunk\n",
        "start_time = 0.0\n",
        "\n",
        "# Calculate adjusted timestamps\n",
        "for i, chunk in enumerate(result[\"chunks\"]):\n",
        "    # End time is the start time of the next chunk, or total duration for the last chunk\n",
        "    if i < num_chunks - 1:\n",
        "        end_time = result[\"chunks\"][i + 1]['timestamp'][0]  # Start time of next chunk\n",
        "    else:\n",
        "        end_time = total_duration  # Last chunk should end at total duration\n",
        "\n",
        "    adjusted_chunks.append({\n",
        "        'text': chunk['text'],\n",
        "        'timestamp': (start_time, end_time)\n",
        "    })\n",
        "\n",
        "    # Update the start time for the next chunk\n",
        "    start_time = end_time\n",
        "\n",
        "# Print each adjusted chunk with timestamps\n",
        "for chunk in adjusted_chunks:\n",
        "    start, end = chunk['timestamp']\n",
        "    print(f\"Transcript: {chunk['text']}, Start: {start:.2f}, End: {end:.2f}\")"
      ]
    },
    {
      "cell_type": "code",
      "execution_count": null,
      "id": "cc1a042b-8fcb-4864-96cf-5ea2588bbb43",
      "metadata": {
        "id": "cc1a042b-8fcb-4864-96cf-5ea2588bbb43",
        "outputId": "f401e703-4b36-4644-e850-3cdf8d720f3c"
      },
      "outputs": [
        {
          "name": "stderr",
          "output_type": "stream",
          "text": [
            "/home/vmadmin/myenv/lib/python3.10/site-packages/transformers/models/whisper/generation_whisper.py:496: FutureWarning: The input name `inputs` is deprecated. Please make sure to use `input_features` instead.\n",
            "  warnings.warn(\n"
          ]
        },
        {
          "name": "stdout",
          "output_type": "stream",
          "text": [
            "Full Transcript:  probe continues into the Delhi gym owner's death. Six suspects detained two country-made pistols recovered of Khan origin gym owner were shot dead in GK. Adani listed among world's best companies of 2024 prestigious global industrial industrial industrial industrial industrial industrial list features Adani's eight company. A top focused Prime Minister Modi, said to address an election rally in Doda today, this is the first election Thank you.\n",
            "Transcript:  probe continues into the Delhi gym owner's death., Start: 0.00, End: 6.44\n",
            "Transcript:  Six suspects detained two country-made pistols recovered of Khan origin gym owner were shot dead in GK., Start: 6.44, End: 25.50\n",
            "Transcript:  Adani listed among world's best companies of 2024 prestigious global industrial industrial industrial industrial industrial industrial, Start: 25.50, End: 0.00\n",
            "Transcript:  list features Adani's eight company., Start: 0.00, End: 24.44\n",
            "Transcript:  A top focused Prime Minister Modi, said to address an election rally in Doda today, this is the first election, Start: 24.44, End: 0.00\n",
            "Transcript:  Thank you., Start: 0.00, End: 60.00\n",
            "time: 642 ms (started: 2024-09-19 07:26:22 +00:00)\n"
          ]
        }
      ],
      "source": [
        "# Input audio sample\n",
        "sample = \"/home/vmadmin/myenv/English/1010259_2024.09.14_08.01.27-2024.09.14_08.02.27.wav\"\n",
        "\n",
        "# Perform speech recognition with timestamps\n",
        "result = pipe(sample, batch_size=8, return_timestamps=True)\n",
        "\n",
        "# Print the full transcript\n",
        "print(\"Full Transcript:\", result[\"text\"])\n",
        "\n",
        "# Adjust timestamps\n",
        "num_chunks = len(result['chunks'])\n",
        "total_duration = 60  # Total duration in seconds\n",
        "adjusted_chunks = []\n",
        "\n",
        "# Set the start time for the first chunk\n",
        "start_time = 0.0\n",
        "\n",
        "# Calculate adjusted timestamps\n",
        "for i, chunk in enumerate(result[\"chunks\"]):\n",
        "    # If it's the last chunk, set the end time to total duration\n",
        "    if i == num_chunks - 1:\n",
        "        end_time = total_duration\n",
        "    else:\n",
        "        # End time is the start time of the next chunk\n",
        "        end_time = result[\"chunks\"][i + 1]['timestamp'][0]\n",
        "\n",
        "    # Append the adjusted chunk\n",
        "    adjusted_chunks.append({\n",
        "        'text': chunk['text'],\n",
        "        'timestamp': (start_time, end_time)\n",
        "    })\n",
        "\n",
        "    # Update the start time for the next chunk\n",
        "    start_time = end_time\n",
        "\n",
        "# Print each adjusted chunk with timestamps\n",
        "for chunk in adjusted_chunks:\n",
        "    start, end = chunk['timestamp']\n",
        "    print(f\"Transcript: {chunk['text']}, Start: {start:.2f}, End: {end:.2f}\")"
      ]
    },
    {
      "cell_type": "code",
      "execution_count": null,
      "id": "8cd1544b-3529-4e60-a867-eaedf62320fc",
      "metadata": {
        "id": "8cd1544b-3529-4e60-a867-eaedf62320fc",
        "outputId": "013dfc2b-a3ff-4de2-e78c-e762c54e01b8"
      },
      "outputs": [
        {
          "name": "stderr",
          "output_type": "stream",
          "text": [
            "/home/vmadmin/myenv/lib/python3.10/site-packages/transformers/models/whisper/generation_whisper.py:496: FutureWarning: The input name `inputs` is deprecated. Please make sure to use `input_features` instead.\n",
            "  warnings.warn(\n"
          ]
        },
        {
          "name": "stdout",
          "output_type": "stream",
          "text": [
            "Full Transcript:  probe continues into the Delhi gym owner's death. Six suspects detained two country-made pistols recovered of Khan origin gym owner were shot dead in GK. Adani listed among world's best companies of 2024 prestigious global industrial industrial industrial industrial industrial industrial list features Adani's eight company. A top focused Prime Minister Modi, said to address an election rally in Doda today, this is the first election Thank you.\n",
            "Transcript:  probe continues into the Delhi gym owner's death., Start: 0.00, End: 6.44\n",
            "Transcript:  Six suspects detained two country-made pistols recovered of Khan origin gym owner were shot dead in GK., Start: 6.44, End: 25.50\n",
            "Transcript:  Adani listed among world's best companies of 2024 prestigious global industrial industrial industrial industrial industrial industrial, Start: 25.50, End: 0.00\n",
            "Transcript:  list features Adani's eight company., Start: 0.00, End: 24.44\n",
            "Transcript:  A top focused Prime Minister Modi, said to address an election rally in Doda today, this is the first election, Start: 24.44, End: 0.00\n",
            "Transcript:  Thank you., Start: 0.00, End: 60.00\n",
            "time: 645 ms (started: 2024-09-19 07:29:06 +00:00)\n"
          ]
        }
      ],
      "source": [
        "# Input audio sample\n",
        "sample = \"/home/vmadmin/myenv/English/1010259_2024.09.14_08.01.27-2024.09.14_08.02.27.wav\"\n",
        "\n",
        "# Perform speech recognition with timestamps\n",
        "result = pipe(sample, batch_size=8, return_timestamps=True)\n",
        "\n",
        "# Print the full transcript\n",
        "print(\"Full Transcript:\", result[\"text\"])\n",
        "\n",
        "# Adjust timestamps\n",
        "num_chunks = len(result['chunks'])\n",
        "total_duration = 60  # Total duration in seconds\n",
        "adjusted_chunks = []\n",
        "\n",
        "# Set the start time for the first chunk\n",
        "start_time = 0.0\n",
        "\n",
        "# Calculate adjusted timestamps\n",
        "for i in range(num_chunks):\n",
        "    # Get the end time based on the chunk's existing end time or next chunk's start time\n",
        "    if i < num_chunks - 1:\n",
        "        end_time = result[\"chunks\"][i + 1]['timestamp'][0]  # Start time of the next chunk\n",
        "    else:\n",
        "        end_time = total_duration  # Last chunk should end at total duration\n",
        "\n",
        "    # Ensure that we maintain the original chunk text and interpolate if necessary\n",
        "    adjusted_chunks.append({\n",
        "        'text': result['chunks'][i]['text'],\n",
        "        'timestamp': (start_time, end_time)\n",
        "    })\n",
        "\n",
        "    # Update the start time for the next chunk\n",
        "    start_time = end_time\n",
        "\n",
        "# Print each adjusted chunk with timestamps\n",
        "for chunk in adjusted_chunks:\n",
        "    start, end = chunk['timestamp']\n",
        "    print(f\"Transcript: {chunk['text']}, Start: {start:.2f}, End: {end:.2f}\")"
      ]
    },
    {
      "cell_type": "code",
      "execution_count": null,
      "id": "d5ca5d1c-1f0c-4715-80b8-0240fefff791",
      "metadata": {
        "id": "d5ca5d1c-1f0c-4715-80b8-0240fefff791",
        "outputId": "18efa768-15a6-46c4-a4e4-39db79c2cd65"
      },
      "outputs": [
        {
          "name": "stderr",
          "output_type": "stream",
          "text": [
            "/home/vmadmin/myenv/lib/python3.10/site-packages/transformers/models/whisper/generation_whisper.py:496: FutureWarning: The input name `inputs` is deprecated. Please make sure to use `input_features` instead.\n",
            "  warnings.warn(\n"
          ]
        },
        {
          "name": "stdout",
          "output_type": "stream",
          "text": [
            "Full Transcript:  to be addressed by the Prime Minister in Duda near Kishhtwar of Jammu and Kashmir ahead of the first phase of polling on the 18th of September. Now, Prime Minister Modi had last campaign for the BJP in the Chenab region during the 2014 Assembly elections when the party had won four of the six seats. Remember, the number of seats after de-limitation has increased to eight. Ahead of the Prime Minister's visit, there was an encounter that broke Cartoon Kishwar as well, the Prime Minister will be visiting Duda after 45 years at least. My colleague Nazir joins us with more details. Nazir, if you could take us through the Prime Minister's visit and the big campaign for the BJP in Jambon Kashmir. Well, it is Prime Minister Narendra Modi's first election rally and in Jammu and Kashmir Assembly elections, four days ahead of the first phase of assembly polling. So, very significant rally as far as the BJN. JP's election campaign is concerned. He is seen as the biggest vote catcher and who could move.\n",
            "Transcript:  to be addressed by the Prime Minister in Duda, Start: 0.00, End: 1.96\n",
            "Transcript:  near Kishhtwar of Jammu and Kashmir, Start: 1.96, End: 4.06\n",
            "Transcript:  ahead of the first phase of polling on the 18th of, Start: 4.06, End: 6.32\n",
            "Transcript:  September. Now, Prime Minister Modi had, Start: 6.32, End: 8.16\n",
            "Transcript:  last campaign for the BJP in the, Start: 8.16, End: 10.02\n",
            "Transcript:  Chenab region during the 2014, Start: 10.02, End: 11.74\n",
            "Transcript:  Assembly elections when the party had won, Start: 11.74, End: 14.00\n",
            "Transcript:  four of the six seats. Remember,, Start: 14.00, End: 16.18\n",
            "Transcript:  the number of seats after de-limitation has, Start: 16.18, End: 18.08\n",
            "Transcript:  increased to eight. Ahead of the, Start: 18.08, End: 19.90\n",
            "Transcript:  Prime Minister's visit, there was an encounter that broke, Start: 19.90, End: 0.00\n",
            "Transcript:  Cartoon Kishwar as well, the Prime Minister will be visiting Duda after 45 years at least., Start: 0.00, End: 4.82\n",
            "Transcript:  My colleague Nazir joins us with more details., Start: 4.82, End: 7.46\n",
            "Transcript:  Nazir, if you could take us through the Prime Minister's visit, Start: 7.46, End: 9.78\n",
            "Transcript:  and the big campaign for the BJP in Jambon Kashmir., Start: 9.78, End: 14.34\n",
            "Transcript:  Well, it is Prime Minister Narendra Modi's first election rally, Start: 14.34, End: 18.60\n",
            "Transcript:  and in Jammu and Kashmir Assembly elections,, Start: 18.60, End: 22.36\n",
            "Transcript:  four days ahead of the first phase of assembly polling., Start: 22.36, End: 27.10\n",
            "Transcript:  So, very significant rally as far as the BJN., Start: 27.10, End: 0.00\n",
            "Transcript:  JP's election campaign is concerned., Start: 0.00, End: 4.18\n",
            "Transcript:  He is seen as the biggest vote catcher and who could move., Start: 4.18, End: 60.00\n",
            "time: 1.24 s (started: 2024-09-19 07:52:19 +00:00)\n"
          ]
        }
      ],
      "source": [
        "# Input audio sample\n",
        "sample = \"/home/vmadmin/myenv/English/1010259_2024.09.14_08.02.28-2024.09.14_08.03.28.wav\"\n",
        "\n",
        "# Perform speech recognition with timestamps\n",
        "result = pipe(sample, batch_size=8, return_timestamps=True)\n",
        "\n",
        "# Print the full transcript\n",
        "print(\"Full Transcript:\", result[\"text\"])\n",
        "\n",
        "# Adjust timestamps\n",
        "num_chunks = len(result['chunks'])\n",
        "total_duration = 60  # Total duration in seconds\n",
        "adjusted_chunks = []\n",
        "\n",
        "# Set the start time for the first chunk\n",
        "start_time = 0.0\n",
        "\n",
        "# Calculate adjusted timestamps\n",
        "for i in range(num_chunks):\n",
        "    # Get the end time based on the chunk's existing end time or next chunk's start time\n",
        "    if i < num_chunks - 1:\n",
        "        end_time = result[\"chunks\"][i + 1]['timestamp'][0]  # Start time of the next chunk\n",
        "    else:\n",
        "        end_time = total_duration  # Last chunk should end at total duration\n",
        "\n",
        "    # Ensure that we maintain the original chunk text and interpolate if necessary\n",
        "    adjusted_chunks.append({\n",
        "        'text': result['chunks'][i]['text'],\n",
        "        'timestamp': (start_time, end_time)\n",
        "    })\n",
        "\n",
        "    # Update the start time for the next chunk\n",
        "    start_time = end_time\n",
        "\n",
        "# Print each adjusted chunk with timestamps\n",
        "for chunk in adjusted_chunks:\n",
        "    start, end = chunk['timestamp']\n",
        "    print(f\"Transcript: {chunk['text']}, Start: {start:.2f}, End: {end:.2f}\")"
      ]
    },
    {
      "cell_type": "code",
      "execution_count": null,
      "id": "bda2d9a7-0f82-42a1-8656-5316b7f39da6",
      "metadata": {
        "id": "bda2d9a7-0f82-42a1-8656-5316b7f39da6",
        "outputId": "be92b8e1-2a77-4d1a-9f0b-a1d08a8577f4"
      },
      "outputs": [
        {
          "name": "stderr",
          "output_type": "stream",
          "text": [
            "/home/vmadmin/myenv/lib/python3.10/site-packages/transformers/models/whisper/generation_whisper.py:496: FutureWarning: The input name `inputs` is deprecated. Please make sure to use `input_features` instead.\n",
            "  warnings.warn(\n"
          ]
        },
        {
          "name": "stdout",
          "output_type": "stream",
          "text": [
            "Full Transcript:  And as I bring you all the latest from the world of sports. Take a look. An all-run performance by India beat Australia by 36 runs in the second semi-final of the ICC Women's World Cup on Thursday at Derby. Herman Preet Kor produced one of the greatest ever ODIHN Knox in women's cricket as India stormed into the. the final. Herman Preet's third ODIS century was embellished with 24s and as many as 7-6s. It is the second time that India has entered the summit clash of the global event having lost to Australia in the final of the 2005 edition. It was also the second highest individual score in ODIs for India's. behind Dippedi Sharma's unbeaten 188 runs against South Africa earlier this year. With enough runs on the board, confident Indian Seymers Goswami and Shikha Pandey came up with brilliant opening spells.\n",
            "Transcript:  And as I bring you all the latest from the world of sports. Take a look., Start: 0.00, End: 7.68\n",
            "Transcript:  An all-run performance by India beat Australia by 36 runs in the second semi-final of the ICC Women's World Cup on Thursday at Derby., Start: 7.68, End: 23.30\n",
            "Transcript:  Herman Preet Kor produced one of the greatest ever ODIHN Knox in women's cricket as India stormed into the., Start: 23.30, End: 0.00\n",
            "Transcript:  the final. Herman Preet's third ODIS century was embellished with 24s and as many as 7-6s., Start: 0.00, End: 11.00\n",
            "Transcript:  It is the second time that India has entered the summit clash of the global event having lost to Australia in the final of the 2005 edition., Start: 11.00, End: 25.00\n",
            "Transcript:  It was also the second highest individual score in ODIs for India's., Start: 25.00, End: 0.00\n",
            "Transcript:  behind Dippedi Sharma's unbeaten 188 runs against South Africa earlier this year., Start: 0.00, End: 7.08\n",
            "Transcript:  With enough runs on the board, confident Indian Seymers Goswami and Shikha Pandey came up with brilliant opening spells., Start: 7.08, End: 60.00\n",
            "time: 1.09 s (started: 2024-09-19 07:53:37 +00:00)\n"
          ]
        }
      ],
      "source": [
        "# Input audio sample\n",
        "sample = \"/home/vmadmin/myenv/English/clip1.mp3\"\n",
        "\n",
        "# Perform speech recognition with timestamps\n",
        "result = pipe(sample, batch_size=8, return_timestamps=True)\n",
        "\n",
        "# Print the full transcript\n",
        "print(\"Full Transcript:\", result[\"text\"])\n",
        "\n",
        "# Adjust timestamps\n",
        "num_chunks = len(result['chunks'])\n",
        "total_duration = 60  # Total duration in seconds\n",
        "adjusted_chunks = []\n",
        "\n",
        "# Set the start time for the first chunk\n",
        "start_time = 0.0\n",
        "\n",
        "# Calculate adjusted timestamps\n",
        "for i in range(num_chunks):\n",
        "    # Get the end time based on the chunk's existing end time or next chunk's start time\n",
        "    if i < num_chunks - 1:\n",
        "        end_time = result[\"chunks\"][i + 1]['timestamp'][0]  # Start time of the next chunk\n",
        "    else:\n",
        "        end_time = total_duration  # Last chunk should end at total duration\n",
        "\n",
        "    # Ensure that we maintain the original chunk text and interpolate if necessary\n",
        "    adjusted_chunks.append({\n",
        "        'text': result['chunks'][i]['text'],\n",
        "        'timestamp': (start_time, end_time)\n",
        "    })\n",
        "\n",
        "    # Update the start time for the next chunk\n",
        "    start_time = end_time\n",
        "\n",
        "# Print each adjusted chunk with timestamps\n",
        "for chunk in adjusted_chunks:\n",
        "    start, end = chunk['timestamp']\n",
        "    print(f\"Transcript: {chunk['text']}, Start: {start:.2f}, End: {end:.2f}\")"
      ]
    },
    {
      "cell_type": "code",
      "execution_count": null,
      "id": "4e8a7313-5981-4b0f-99fc-17be6fcdbf53",
      "metadata": {
        "id": "4e8a7313-5981-4b0f-99fc-17be6fcdbf53",
        "outputId": "d0bc4352-4fcf-4613-c8a8-699b35fd9233"
      },
      "outputs": [
        {
          "name": "stderr",
          "output_type": "stream",
          "text": [
            "/home/vmadmin/myenv/lib/python3.10/site-packages/transformers/models/whisper/generation_whisper.py:496: FutureWarning: The input name `inputs` is deprecated. Please make sure to use `input_features` instead.\n",
            "  warnings.warn(\n"
          ]
        },
        {
          "name": "stdout",
          "output_type": "stream",
          "text": [
            "Full Transcript:  Moving now to some tragic news coming in from Jammu and Kashmir. Well, right ahead of the Prime Minister's visit a major encounter in Jammun Kishmir's Kistvah. In fact, tragically, two soldiers have died in the line of duty. In fact, several other soldiers have been injured as well. There was a brief gunfight is what we can report at this moment in Jammu and Kishmir's Kistvahar and two soldiers have died. Of course, these are soldiers leading from the front and they've been killed in the line of action. Absolutely tragic there. And this comes after. There was a major arms hall as well in parts of Jammu and Kashmir. And the timing of the encounter is also extremely important given the fact that this comes right ahead of the assembly polls. The assembly pole is just a week away. Less than a week away perhaps the first phase will be held on the 18th of September. So extremely concerning there. and most tragic the fact that two soldiers have died in this gun battle.\n",
            "Transcript:  Moving now to some tragic news coming in from Jammu and Kashmir., Start: 0.00, End: 3.72\n",
            "Transcript:  Well, right ahead of the Prime Minister's visit a major encounter in Jammun Kishmir's Kistvah., Start: 3.72, End: 8.36\n",
            "Transcript:  In fact, tragically, two soldiers have died in the line of duty., Start: 8.36, End: 12.74\n",
            "Transcript:  In fact, several other soldiers have been injured as well., Start: 12.74, End: 16.98\n",
            "Transcript:  There was a brief gunfight is what we can report at this moment in Jammu and Kishmir's Kistvahar, Start: 16.98, End: 21.64\n",
            "Transcript:  and two soldiers have died., Start: 21.64, End: 0.00\n",
            "Transcript:  Of course, these are soldiers leading from the front and they've been killed in the line of action., Start: 0.00, End: 5.54\n",
            "Transcript:  Absolutely tragic there., Start: 5.54, End: 7.14\n",
            "Transcript:  And this comes after., Start: 7.14, End: 8.10\n",
            "Transcript:  There was a major arms hall as well in parts of Jammu and Kashmir., Start: 8.10, End: 11.88\n",
            "Transcript:  And the timing of the encounter is also extremely important given the fact that this comes right ahead of the assembly polls., Start: 11.88, End: 18.90\n",
            "Transcript:  The assembly pole is just a week away., Start: 18.90, End: 21.00\n",
            "Transcript:  Less than a week away perhaps the first phase will be held on the 18th of September., Start: 21.00, End: 27.16\n",
            "Transcript:  So extremely concerning there., Start: 27.16, End: 0.00\n",
            "Transcript:  and most tragic the fact that two soldiers have died in this gun battle., Start: 0.00, End: 60.00\n",
            "time: 1.24 s (started: 2024-09-19 08:53:41 +00:00)\n"
          ]
        }
      ],
      "source": [
        "# Input audio sample\n",
        "sample = \"/home/vmadmin/myenv/English/clip2.mp3\"\n",
        "\n",
        "# Perform speech recognition with timestamps\n",
        "result = pipe(sample, batch_size=8, return_timestamps=True)\n",
        "\n",
        "# Print the full transcript\n",
        "print(\"Full Transcript:\", result[\"text\"])\n",
        "\n",
        "# Adjust timestamps\n",
        "num_chunks = len(result['chunks'])\n",
        "total_duration = 60  # Total duration in seconds\n",
        "adjusted_chunks = []\n",
        "\n",
        "# Set the start time for the first chunk\n",
        "start_time = 0.0\n",
        "\n",
        "# Calculate adjusted timestamps\n",
        "for i in range(num_chunks):\n",
        "    # Get the end time based on the chunk's existing end time or next chunk's start time\n",
        "    if i < num_chunks - 1:\n",
        "        end_time = result[\"chunks\"][i + 1]['timestamp'][0]  # Start time of the next chunk\n",
        "    else:\n",
        "        end_time = total_duration  # Last chunk should end at total duration\n",
        "\n",
        "    # Ensure that we maintain the original chunk text and interpolate if necessary\n",
        "    adjusted_chunks.append({\n",
        "        'text': result['chunks'][i]['text'],\n",
        "        'timestamp': (start_time, end_time)\n",
        "    })\n",
        "\n",
        "    # Update the start time for the next chunk\n",
        "    start_time = end_time\n",
        "\n",
        "# Print each adjusted chunk with timestamps\n",
        "for chunk in adjusted_chunks:\n",
        "    start, end = chunk['timestamp']\n",
        "    print(f\"Transcript: {chunk['text']}, Start: {start:.2f}, End: {end:.2f}\")"
      ]
    },
    {
      "cell_type": "code",
      "execution_count": 16,
      "id": "86904889-56c3-4bd7-b3b8-e4785b041395",
      "metadata": {
        "colab": {
          "base_uri": "https://localhost:8080/"
        },
        "id": "86904889-56c3-4bd7-b3b8-e4785b041395",
        "outputId": "e1590a4e-1e55-4540-e102-9894dbf3e13c"
      },
      "outputs": [
        {
          "output_type": "stream",
          "name": "stderr",
          "text": [
            "You seem to be using the pipelines sequentially on GPU. In order to maximize efficiency please use a dataset\n",
            "/usr/local/lib/python3.10/dist-packages/transformers/models/whisper/generation_whisper.py:496: FutureWarning: The input name `inputs` is deprecated. Please make sure to use `input_features` instead.\n",
            "  warnings.warn(\n"
          ]
        },
        {
          "output_type": "stream",
          "name": "stdout",
          "text": [
            "Full Transcript:  down on terror, of course, continues, search operations continuing in some of these areas where terrorists are believed to be hiding. My colleague, Nazir joins us with more details. Naze, take us through these three separate encounters, one in Kishua, one in Kutwar and one in Baramullah. Well, there was a major encounter yesterday evening in Kistawar, the area which will go to polls and on just in four days on 18th of this month. And prime minister is addressing a rally in the same region. And so hours before Prime Minister's arrival in Doda, we saw this major encounter where army has suffered casualties. Two soldiers have been killed in action. A junior commission officer has been killed and a soldier has Javan has been killed in this encounter. Two soldiers have been injured. The operation is underway according to army. They had launched an operation in the area but there was a heavy exchange of firing in which army suffered two casualties in this encounter. in this encounter. So, there was also, according to\n",
            "Transcript:  down on terror, of course, continues, search operations continuing in some of these areas where terrorists are believed to be hiding., Start: 0.00, End: 5.90\n",
            "Transcript:  My colleague, Nazir joins us with more details., Start: 5.90, End: 8.08\n",
            "Transcript:  Naze, take us through these three separate encounters, one in Kishua, one in Kutwar and one in Baramullah., Start: 8.08, End: 14.78\n",
            "Transcript:  Well, there was a major encounter yesterday evening in Kistawar, the area which will go to polls and on just in four days on 18th of this month., Start: 14.78, End: 23.70\n",
            "Transcript:  And prime minister is addressing a rally in the same region., Start: 23.70, End: 0.00\n",
            "Transcript:  And so hours before Prime Minister's arrival in Doda, we saw this major encounter where army has suffered casualties., Start: 0.00, End: 7.70\n",
            "Transcript:  Two soldiers have been killed in action., Start: 7.70, End: 10.08\n",
            "Transcript:  A junior commission officer has been killed and a soldier has Javan has been killed in this encounter., Start: 10.08, End: 17.74\n",
            "Transcript:  Two soldiers have been injured., Start: 17.74, End: 20.00\n",
            "Transcript:  The operation is underway according to army., Start: 20.00, End: 22.04\n",
            "Transcript:  They had launched an operation in the area but there was a heavy exchange of firing in which army suffered two casualties in this encounter., Start: 22.04, End: 0.00\n",
            "Transcript:  in this encounter. So, there was also, according to, Start: 0.00, End: 60.00\n",
            "time: 5.79 s (started: 2024-09-19 10:45:40 +00:00)\n"
          ]
        }
      ],
      "source": [
        "# Input audio sample\n",
        "sample = \"https://storage.googleapis.com/imagestg-bucket/noise_free_audio/1010259_2024.09.14_08.05.28-2024.09.14_08.06.28.wav\"\n",
        "\n",
        "# Perform speech recognition with timestamps\n",
        "result = pipe(sample, batch_size=8, return_timestamps=True)\n",
        "\n",
        "# Print the full transcript\n",
        "print(\"Full Transcript:\", result[\"text\"])\n",
        "\n",
        "# Adjust timestamps\n",
        "num_chunks = len(result['chunks'])\n",
        "total_duration = 60  # Total duration in seconds\n",
        "adjusted_chunks = []\n",
        "\n",
        "# Set the start time for the first chunk\n",
        "start_time = 0.0\n",
        "\n",
        "# Calculate adjusted timestamps\n",
        "for i in range(num_chunks):\n",
        "    # Get the end time based on the chunk's existing end time or next chunk's start time\n",
        "    if i < num_chunks - 1:\n",
        "        end_time = result[\"chunks\"][i + 1]['timestamp'][0]  # Start time of the next chunk\n",
        "    else:\n",
        "        end_time = total_duration  # Last chunk should end at total duration\n",
        "\n",
        "    # Ensure that we maintain the original chunk text and interpolate if necessary\n",
        "    adjusted_chunks.append({\n",
        "        'text': result['chunks'][i]['text'],\n",
        "        'timestamp': (start_time, end_time)\n",
        "    })\n",
        "\n",
        "    # Update the start time for the next chunk\n",
        "    start_time = end_time\n",
        "\n",
        "# Print each adjusted chunk with timestamps\n",
        "for chunk in adjusted_chunks:\n",
        "    start, end = chunk['timestamp']\n",
        "    print(f\"Transcript: {chunk['text']}, Start: {start:.2f}, End: {end:.2f}\")"
      ]
    },
    {
      "cell_type": "code",
      "execution_count": 17,
      "id": "3fe6b148-270a-4722-9c99-d8619269ff97",
      "metadata": {
        "colab": {
          "base_uri": "https://localhost:8080/"
        },
        "id": "3fe6b148-270a-4722-9c99-d8619269ff97",
        "outputId": "678af1cf-313b-4118-e3e1-db9b168c1aef"
      },
      "outputs": [
        {
          "output_type": "stream",
          "name": "stderr",
          "text": [
            "/usr/local/lib/python3.10/dist-packages/transformers/models/whisper/generation_whisper.py:496: FutureWarning: The input name `inputs` is deprecated. Please make sure to use `input_features` instead.\n",
            "  warnings.warn(\n"
          ]
        },
        {
          "output_type": "stream",
          "name": "stdout",
          "text": [
            "Full Transcript:  On this former industrial site in Whitehaven, Cumbria, planned to produce 60 million tons of new coal. But since it was approved, a Supreme Court ruling found projects must consider carbon emissions from burning fossil fuels, not just digging them up. The mine was the first legal test of that. It's been a really important victory. But what frustrates me most is that the years the decision makers have been putting all their efforts and fighting for a coal mine in Whitehaven, they could have spent that time investing in green jobs. It was mining jobs the community expected. This site has sat empty for 20 years. It's devastating for the community. The jobs that were going to be created were possibly in the construction and supply chain surrounding it were probably around 2,000. And the long-term, well-paid jobs for running the facility were in excess of 500. The new government has been clear about its net zero ambitions, but judgments like this one could test them. We're still reliance on\n",
            "Transcript:  On this former industrial site in Whitehaven, Cumbria, planned to produce 60 million, Start: 0.00, End: 4.68\n",
            "Transcript:  tons of new coal., Start: 4.68, End: 6.44\n",
            "Transcript:  But since it was approved, a Supreme Court ruling found projects must consider carbon emissions, Start: 6.44, End: 11.46\n",
            "Transcript:  from burning fossil fuels, not just digging them up., Start: 11.46, End: 15.22\n",
            "Transcript:  The mine was the first legal test of that., Start: 15.22, End: 17.76\n",
            "Transcript:  It's been a really important victory., Start: 17.76, End: 19.88\n",
            "Transcript:  But what frustrates me most is that the years the decision makers have been putting all their efforts, Start: 19.88, End: 25.42\n",
            "Transcript:  and fighting for a coal mine in Whitehaven, they could have spent that time investing in green jobs., Start: 25.42, End: 0.00\n",
            "Transcript:  It was mining jobs the community expected., Start: 0.00, End: 2.56\n",
            "Transcript:  This site has sat empty for 20 years., Start: 2.56, End: 5.38\n",
            "Transcript:  It's devastating for the community., Start: 5.38, End: 7.70\n",
            "Transcript:  The jobs that were going to be created were possibly in the construction and supply chain, Start: 7.70, End: 12.84\n",
            "Transcript:  surrounding it were probably around 2,000., Start: 12.84, End: 16.00\n",
            "Transcript:  And the long-term, well-paid jobs for running the facility were in excess of 500., Start: 16.00, End: 21.82\n",
            "Transcript:  The new government has been clear about its net zero ambitions, but judgments like this one could test them., Start: 21.82, End: 0.00\n",
            "Transcript:  We're still reliance on, Start: 0.00, End: 60.00\n",
            "time: 7.38 s (started: 2024-09-19 10:47:51 +00:00)\n"
          ]
        }
      ],
      "source": [
        "# Input audio sample\n",
        "sample = \"https://storage.googleapis.com/imagestg-bucket/noise_free_audio/1010834_2024.09.14_08.06.27-2024.09.14_08.07.27.wav\"\n",
        "\n",
        "# Perform speech recognition with timestamps\n",
        "result = pipe(sample, batch_size=8, return_timestamps=True)\n",
        "\n",
        "# Print the full transcript\n",
        "print(\"Full Transcript:\", result[\"text\"])\n",
        "\n",
        "# Adjust timestamps\n",
        "num_chunks = len(result['chunks'])\n",
        "total_duration = 60  # Total duration in seconds\n",
        "adjusted_chunks = []\n",
        "\n",
        "# Set the start time for the first chunk\n",
        "start_time = 0.0\n",
        "\n",
        "# Calculate adjusted timestamps\n",
        "for i in range(num_chunks):\n",
        "    # Get the end time based on the chunk's existing end time or next chunk's start time\n",
        "    if i < num_chunks - 1:\n",
        "        end_time = result[\"chunks\"][i + 1]['timestamp'][0]  # Start time of the next chunk\n",
        "    else:\n",
        "        end_time = total_duration  # Last chunk should end at total duration\n",
        "\n",
        "    # Ensure that we maintain the original chunk text and interpolate if necessary\n",
        "    adjusted_chunks.append({\n",
        "        'text': result['chunks'][i]['text'],\n",
        "        'timestamp': (start_time, end_time)\n",
        "    })\n",
        "\n",
        "    # Update the start time for the next chunk\n",
        "    start_time = end_time\n",
        "\n",
        "# Print each adjusted chunk with timestamps\n",
        "for chunk in adjusted_chunks:\n",
        "    start, end = chunk['timestamp']\n",
        "    print(f\"Transcript: {chunk['text']}, Start: {start:.2f}, End: {end:.2f}\")"
      ]
    },
    {
      "cell_type": "code",
      "source": [
        "# Input audio sample\n",
        "sample = \"https://storage.googleapis.com/imagestg-bucket/noise_free_audio/1010834_2024.09.14_08.05.27-2024.09.14_08.06.27.wav\"\n",
        "\n",
        "# Perform speech recognition with timestamps\n",
        "result = pipe(sample, batch_size=8, return_timestamps=True)\n",
        "\n",
        "# Print the full transcript\n",
        "print(\"Full Transcript:\", result[\"text\"])\n",
        "\n",
        "# Adjust timestamps\n",
        "num_chunks = len(result['chunks'])\n",
        "total_duration = 60  # Total duration in seconds\n",
        "adjusted_chunks = []\n",
        "\n",
        "# Set the start time for the first chunk\n",
        "start_time = 0.0\n",
        "\n",
        "# Calculate adjusted timestamps\n",
        "for i in range(num_chunks):\n",
        "    # Get the end time based on the chunk's existing end time or next chunk's start time\n",
        "    if i < num_chunks - 1:\n",
        "        end_time = result[\"chunks\"][i + 1]['timestamp'][0]  # Start time of the next chunk\n",
        "    else:\n",
        "        end_time = total_duration  # Last chunk should end at total duration\n",
        "\n",
        "    # Ensure that we maintain the original chunk text and interpolate if necessary\n",
        "    adjusted_chunks.append({\n",
        "        'text': result['chunks'][i]['text'],\n",
        "        'timestamp': (start_time, end_time)\n",
        "    })\n",
        "\n",
        "    # Update the start time for the next chunk\n",
        "    start_time = end_time\n",
        "\n",
        "# Print each adjusted chunk with timestamps\n",
        "for chunk in adjusted_chunks:\n",
        "    start, end = chunk['timestamp']\n",
        "    print(f\"Transcript: {chunk['text']}, Start: {start:.2f}, End: {end:.2f}\")"
      ],
      "metadata": {
        "colab": {
          "base_uri": "https://localhost:8080/"
        },
        "id": "AaTMYJ485Tur",
        "outputId": "7b8ea820-e605-43e1-bc10-91e3feac042f"
      },
      "id": "AaTMYJ485Tur",
      "execution_count": 18,
      "outputs": [
        {
          "output_type": "stream",
          "name": "stderr",
          "text": [
            "/usr/local/lib/python3.10/dist-packages/transformers/models/whisper/generation_whisper.py:496: FutureWarning: The input name `inputs` is deprecated. Please make sure to use `input_features` instead.\n",
            "  warnings.warn(\n"
          ]
        },
        {
          "output_type": "stream",
          "name": "stdout",
          "text": [
            "Full Transcript:  Content we flagged was taken down, but it's still possible to find more. A century-old ideology of hate pushed by cutting-edge algorithms to a massive modern audience. Tom Cheshire, Sky News. The UK's High Court has reversed the decision to approve the UK's first new coal mine in 30 years. It follows the confirmation this week that nearly 3,000 jobs will be lost at the Port Talbot Steelworks and potentially 400 at Scotland's only oil refinery Grangemouth. Our science and technology editor Tom Clark reports now on the UK's changing green credentials. Leave it in the ground. Their case argued UK coal has no future on a rapidly warming planet. We have won. The High Court pretty much agreed. It's a huge win. And this, the proposed coal mine that lost. The Woodhouse Colliery.\n",
            "Transcript:  Content we flagged was taken down, but it's still possible to find more., Start: 0.00, End: 5.48\n",
            "Transcript:  A century-old ideology of hate pushed by cutting-edge algorithms to a massive modern audience., Start: 5.48, End: 13.20\n",
            "Transcript:  Tom Cheshire, Sky News., Start: 13.20, End: 15.92\n",
            "Transcript:  The UK's High Court has reversed the decision to approve the UK's first new coal mine in 30 years., Start: 15.92, End: 23.44\n",
            "Transcript:  It follows the confirmation this week that nearly 3,000 jobs will be lost at the Port Talbot Steelworks, Start: 23.44, End: 0.00\n",
            "Transcript:  and potentially 400 at Scotland's only oil refinery Grangemouth., Start: 0.00, End: 5.24\n",
            "Transcript:  Our science and technology editor Tom Clark reports now on the UK's changing green credentials., Start: 5.24, End: 12.76\n",
            "Transcript:  Leave it in the ground., Start: 12.76, End: 14.48\n",
            "Transcript:  Their case argued UK coal has no future on a rapidly warming planet., Start: 14.48, End: 20.94\n",
            "Transcript:  We have won., Start: 20.94, End: 22.40\n",
            "Transcript:  The High Court pretty much agreed., Start: 22.40, End: 24.38\n",
            "Transcript:  It's a huge win., Start: 24.38, End: 26.40\n",
            "Transcript:  And this, the proposed coal mine that lost., Start: 26.40, End: 0.00\n",
            "Transcript:  The Woodhouse Colliery., Start: 0.00, End: 60.00\n",
            "time: 6.39 s (started: 2024-09-19 10:50:25 +00:00)\n"
          ]
        }
      ]
    },
    {
      "cell_type": "code",
      "source": [
        "# Input audio sample\n",
        "sample = \"https://storage.googleapis.com/imagestg-bucket/noise_free_audio/1010259_2024.09.14_08.04.28-2024.09.14_08.05.28.wav\"\n",
        "\n",
        "# Perform speech recognition with timestamps\n",
        "result = pipe(sample, batch_size=8, return_timestamps=True)\n",
        "\n",
        "# Print the full transcript\n",
        "print(\"Full Transcript:\", result[\"text\"])\n",
        "\n",
        "# Adjust timestamps\n",
        "num_chunks = len(result['chunks'])\n",
        "total_duration = 60  # Total duration in seconds\n",
        "adjusted_chunks = []\n",
        "\n",
        "# Set the start time for the first chunk\n",
        "start_time = 0.0\n",
        "\n",
        "# Calculate adjusted timestamps\n",
        "for i in range(num_chunks):\n",
        "    # Get the end time based on the chunk's existing end time or next chunk's start time\n",
        "    if i < num_chunks - 1:\n",
        "        end_time = result[\"chunks\"][i + 1]['timestamp'][0]  # Start time of the next chunk\n",
        "    else:\n",
        "        end_time = total_duration  # Last chunk should end at total duration\n",
        "\n",
        "    # Ensure that we maintain the original chunk text and interpolate if necessary\n",
        "    adjusted_chunks.append({\n",
        "        'text': result['chunks'][i]['text'],\n",
        "        'timestamp': (start_time, end_time)\n",
        "    })\n",
        "\n",
        "    # Update the start time for the next chunk\n",
        "    start_time = end_time\n",
        "\n",
        "# Print each adjusted chunk with timestamps\n",
        "for chunk in adjusted_chunks:\n",
        "    start, end = chunk['timestamp']\n",
        "    print(f\"Transcript: {chunk['text']}, Start: {start:.2f}, End: {end:.2f}\")"
      ],
      "metadata": {
        "colab": {
          "base_uri": "https://localhost:8080/"
        },
        "id": "69ahzkwi55OG",
        "outputId": "649c01a5-d725-4a71-8888-acf560ff55df"
      },
      "id": "69ahzkwi55OG",
      "execution_count": 19,
      "outputs": [
        {
          "output_type": "stream",
          "name": "stderr",
          "text": [
            "/usr/local/lib/python3.10/dist-packages/transformers/models/whisper/generation_whisper.py:496: FutureWarning: The input name `inputs` is deprecated. Please make sure to use `input_features` instead.\n",
            "  warnings.warn(\n"
          ]
        },
        {
          "output_type": "stream",
          "name": "stdout",
          "text": [
            "Full Transcript:  assembly seats. And in second and third phase prime minister would be campaigning in Riyasi district, in Katra, Vaishna, Wayshan Devi Connoosgency, Kutwa, Jammu. So, an extensive campaigning, whom Mr. Amit Shah has already addressed Raleigh is here. He is coming here again in next few days. So, other senior leaders, BJP President, JAP, Nanda, defense minister Rajnaz Singh recently addressed Riley in Ramban and Banha as well so top leaders, top guns of the BJP are comparing in Jammanyahu as the first phase of polling is approaching to just four days away. Nazir, stay on with us. There's some more news coming in from Jammu and Kashmir. Like you had mentioned, there was an encounter that took place in Jambun Kashmir, right ahead of the Prime Minister's visit. Three separate encounters, in fact. In Kishwar, two soldiers have unfortunately died. Two terrorists were killed in Katwa in the encounter and an encounter underway in Barok Mullar.\n",
            "Transcript:  assembly seats. And in second and third phase prime minister would be campaigning in Riyasi district,, Start: 0.00, End: 8.30\n",
            "Transcript:  in Katra, Vaishna, Wayshan Devi Connoosgency, Kutwa, Jammu. So, an extensive campaigning,, Start: 8.30, End: 14.16\n",
            "Transcript:  whom Mr. Amit Shah has already addressed Raleigh is here. He is coming here again in next few days., Start: 14.16, End: 20.22\n",
            "Transcript:  So, other senior leaders, BJP President, JAP, Nanda, defense minister Rajnaz Singh recently addressed, Start: 20.22, End: 0.00\n",
            "Transcript:  Riley in Ramban and Banha as well so top leaders, top guns of the BJP are comparing in Jammanyahu, Start: 0.00, End: 8.52\n",
            "Transcript:  as the first phase of polling is approaching to just four days away., Start: 8.52, End: 15.16\n",
            "Transcript:  Nazir, stay on with us., Start: 15.16, End: 16.56\n",
            "Transcript:  There's some more news coming in from Jammu and Kashmir., Start: 16.56, End: 18.62\n",
            "Transcript:  Like you had mentioned, there was an encounter that took place in Jambun Kashmir, right ahead, Start: 18.62, End: 22.20\n",
            "Transcript:  of the Prime Minister's visit., Start: 22.20, End: 23.32\n",
            "Transcript:  Three separate encounters, in fact., Start: 23.32, End: 25.48\n",
            "Transcript:  In Kishwar, two soldiers have unfortunately died., Start: 25.48, End: 0.00\n",
            "Transcript:  Two terrorists were killed in Katwa in the encounter and an encounter underway in Barok Mullar., Start: 0.00, End: 60.00\n",
            "time: 5.91 s (started: 2024-09-19 10:50:54 +00:00)\n"
          ]
        }
      ]
    },
    {
      "cell_type": "code",
      "source": [
        "# Input audio sample\n",
        "sample = \"https://storage.googleapis.com/imagestg-bucket/noise_free_audio/1010834_2024.09.14_08.04.27-2024.09.14_08.05.27.wav\"\n",
        "\n",
        "# Perform speech recognition with timestamps\n",
        "result = pipe(sample, batch_size=8, return_timestamps=True)\n",
        "\n",
        "# Print the full transcript\n",
        "print(\"Full Transcript:\", result[\"text\"])\n",
        "\n",
        "# Adjust timestamps\n",
        "num_chunks = len(result['chunks'])\n",
        "total_duration = 60  # Total duration in seconds\n",
        "adjusted_chunks = []\n",
        "\n",
        "# Set the start time for the first chunk\n",
        "start_time = 0.0\n",
        "\n",
        "# Calculate adjusted timestamps\n",
        "for i in range(num_chunks):\n",
        "    # Get the end time based on the chunk's existing end time or next chunk's start time\n",
        "    if i < num_chunks - 1:\n",
        "        end_time = result[\"chunks\"][i + 1]['timestamp'][0]  # Start time of the next chunk\n",
        "    else:\n",
        "        end_time = total_duration  # Last chunk should end at total duration\n",
        "\n",
        "    # Ensure that we maintain the original chunk text and interpolate if necessary\n",
        "    adjusted_chunks.append({\n",
        "        'text': result['chunks'][i]['text'],\n",
        "        'timestamp': (start_time, end_time)\n",
        "    })\n",
        "\n",
        "    # Update the start time for the next chunk\n",
        "    start_time = end_time\n",
        "\n",
        "# Print each adjusted chunk with timestamps\n",
        "for chunk in adjusted_chunks:\n",
        "    start, end = chunk['timestamp']\n",
        "    print(f\"Transcript: {chunk['text']}, Start: {start:.2f}, End: {end:.2f}\")"
      ],
      "metadata": {
        "colab": {
          "base_uri": "https://localhost:8080/"
        },
        "id": "Dq7k63JY6AWT",
        "outputId": "9655859c-20d0-496f-c70d-cc39257c185d"
      },
      "id": "Dq7k63JY6AWT",
      "execution_count": 20,
      "outputs": [
        {
          "output_type": "stream",
          "name": "stderr",
          "text": [
            "/usr/local/lib/python3.10/dist-packages/transformers/models/whisper/generation_whisper.py:496: FutureWarning: The input name `inputs` is deprecated. Please make sure to use `input_features` instead.\n",
            "  warnings.warn(\n"
          ]
        },
        {
          "output_type": "stream",
          "name": "stdout",
          "text": [
            "Full Transcript:  content to people who don't really understand but think it's cool or funny. However, the impact on the victim is the same, which is the kind of experience of hate of minority communities. This is one of the musicians whose songs have been bolted on to Nazi content without their knowledge. The artist, Pastel Goast, told us, I was not previously aware that my music was being used in this way, and I find it shocking and deplorable. Sky News previously reported about Islamic State supporters using the same sounds loophole to gain more traction on TikTok. We forwarded all the Nazi videos we found this time to TikTok and asked the company for comment. A spokesperson told us, this content was immediately removed for breaching our strict policies against hate speech. We regularly train our safety professionals and update our safeguards to detect hateful behavior on an ongoing basis and we remove 91% of this type of content before it is reported to us. Thank you.\n",
            "Transcript:  content to people who don't really understand but think it's cool or funny., Start: 0.00, End: 3.62\n",
            "Transcript:  However, the impact on the victim is the same,, Start: 3.62, End: 6.02\n",
            "Transcript:  which is the kind of experience of hate of minority communities., Start: 6.02, End: 13.14\n",
            "Transcript:  This is one of the musicians whose songs have been bolted on to Nazi content without their knowledge., Start: 13.14, End: 19.22\n",
            "Transcript:  The artist, Pastel Goast, told us,, Start: 19.22, End: 21.50\n",
            "Transcript:  I was not previously aware that my music was being used in this way,, Start: 21.50, End: 24.70\n",
            "Transcript:  and I find it shocking and deplorable., Start: 24.70, End: 0.00\n",
            "Transcript:  Sky News previously reported about Islamic State supporters using the same sounds loophole to gain more traction on TikTok., Start: 0.00, End: 8.02\n",
            "Transcript:  We forwarded all the Nazi videos we found this time to TikTok and asked the company for comment., Start: 8.02, End: 13.56\n",
            "Transcript:  A spokesperson told us,, Start: 13.56, End: 14.70\n",
            "Transcript:  this content was immediately removed for breaching our strict policies against hate speech., Start: 14.70, End: 19.76\n",
            "Transcript:  We regularly train our safety professionals and update our safeguards to detect hateful behavior on an ongoing basis, Start: 19.76, End: 25.56\n",
            "Transcript:  and we remove 91% of this type of content before it is reported to us., Start: 25.56, End: 0.00\n",
            "Transcript:  Thank you., Start: 0.00, End: 60.00\n",
            "time: 5.66 s (started: 2024-09-19 10:51:28 +00:00)\n"
          ]
        }
      ]
    },
    {
      "cell_type": "code",
      "source": [
        "# Input audio sample\n",
        "sample = \"https://storage.googleapis.com/imagestg-bucket/noise_free_audio/1010259_2024.09.14_08.03.28-2024.09.14_08.04.28.wav\"\n",
        "\n",
        "# Perform speech recognition with timestamps\n",
        "result = pipe(sample, batch_size=8, return_timestamps=True)\n",
        "\n",
        "# Print the full transcript\n",
        "print(\"Full Transcript:\", result[\"text\"])\n",
        "\n",
        "# Adjust timestamps\n",
        "num_chunks = len(result['chunks'])\n",
        "total_duration = 60  # Total duration in seconds\n",
        "adjusted_chunks = []\n",
        "\n",
        "# Set the start time for the first chunk\n",
        "start_time = 0.0\n",
        "\n",
        "# Calculate adjusted timestamps\n",
        "for i in range(num_chunks):\n",
        "    # Get the end time based on the chunk's existing end time or next chunk's start time\n",
        "    if i < num_chunks - 1:\n",
        "        end_time = result[\"chunks\"][i + 1]['timestamp'][0]  # Start time of the next chunk\n",
        "    else:\n",
        "        end_time = total_duration  # Last chunk should end at total duration\n",
        "\n",
        "    # Ensure that we maintain the original chunk text and interpolate if necessary\n",
        "    adjusted_chunks.append({\n",
        "        'text': result['chunks'][i]['text'],\n",
        "        'timestamp': (start_time, end_time)\n",
        "    })\n",
        "\n",
        "    # Update the start time for the next chunk\n",
        "    start_time = end_time\n",
        "\n",
        "# Print each adjusted chunk with timestamps\n",
        "for chunk in adjusted_chunks:\n",
        "    start, end = chunk['timestamp']\n",
        "    print(f\"Transcript: {chunk['text']}, Start: {start:.2f}, End: {end:.2f}\")"
      ],
      "metadata": {
        "colab": {
          "base_uri": "https://localhost:8080/"
        },
        "id": "hOzM_gTq6Il0",
        "outputId": "c4f323d7-fb05-4c4a-cbea-652b2618e88c"
      },
      "id": "hOzM_gTq6Il0",
      "execution_count": 21,
      "outputs": [
        {
          "output_type": "stream",
          "name": "stderr",
          "text": [
            "/usr/local/lib/python3.10/dist-packages/transformers/models/whisper/generation_whisper.py:496: FutureWarning: The input name `inputs` is deprecated. Please make sure to use `input_features` instead.\n",
            "  warnings.warn(\n"
          ]
        },
        {
          "output_type": "stream",
          "name": "stdout",
          "text": [
            "Full Transcript:  voters and galvanize them get win seats for the BJP. Doda-Khistvar area is a very significant important region for the BJP when it comes to increasing the number of seats in Jammu province. So, besides addressing this rally in Duda and Kistewar and Ramban are part of it because it was essentially one district until 2008 and then they were. were two more districts were carved out of us while Doda district. So it has eight assembly segments and BJP is fighting from all the eight even as these are Muslim majority region but some of the during the delimitation some of the conestrances have been carved out which have become the Hindu majority seats of BJP is hoping to win big from this this election from Doda, Kishdhwara Ramban district which has eight Thank you.\n",
            "Transcript:  voters and galvanize them get win seats for the BJP., Start: 0.00, End: 7.04\n",
            "Transcript:  Doda-Khistvar area is a very significant important region for the BJP, Start: 7.04, End: 11.94\n",
            "Transcript:  when it comes to increasing the number of seats in Jammu province., Start: 11.94, End: 16.78\n",
            "Transcript:  So, besides addressing this rally in Duda and Kistewar and Ramban are part of it, Start: 16.78, End: 23.00\n",
            "Transcript:  because it was essentially one district until 2008 and then they were., Start: 23.00, End: 0.00\n",
            "Transcript:  were two more districts were carved out of us while Doda district., Start: 0.00, End: 3.60\n",
            "Transcript:  So it has eight assembly segments and BJP is fighting from all the eight even as these, Start: 3.60, End: 10.24\n",
            "Transcript:  are Muslim majority region but some of the during the delimitation some of the, Start: 10.24, End: 16.40\n",
            "Transcript:  conestrances have been carved out which have become the Hindu majority seats of BJP is hoping, Start: 16.40, End: 22.48\n",
            "Transcript:  to win big from this this election from Doda, Kishdhwara Ramban district which has eight, Start: 22.48, End: 0.00\n",
            "Transcript:  Thank you., Start: 0.00, End: 60.00\n",
            "time: 5.84 s (started: 2024-09-19 10:52:02 +00:00)\n"
          ]
        }
      ]
    },
    {
      "cell_type": "code",
      "source": [
        "# Input audio sample\n",
        "sample = \"https://storage.googleapis.com/imagestg-bucket/noise_free_audio/1010834_2024.09.14_08.03.27-2024.09.14_08.04.27.wav\"\n",
        "\n",
        "# Perform speech recognition with timestamps\n",
        "result = pipe(sample, batch_size=8, return_timestamps=True)\n",
        "\n",
        "# Print the full transcript\n",
        "print(\"Full Transcript:\", result[\"text\"])\n",
        "\n",
        "# Adjust timestamps\n",
        "num_chunks = len(result['chunks'])\n",
        "total_duration = 60  # Total duration in seconds\n",
        "adjusted_chunks = []\n",
        "\n",
        "# Set the start time for the first chunk\n",
        "start_time = 0.0\n",
        "\n",
        "# Calculate adjusted timestamps\n",
        "for i in range(num_chunks):\n",
        "    # Get the end time based on the chunk's existing end time or next chunk's start time\n",
        "    if i < num_chunks - 1:\n",
        "        end_time = result[\"chunks\"][i + 1]['timestamp'][0]  # Start time of the next chunk\n",
        "    else:\n",
        "        end_time = total_duration  # Last chunk should end at total duration\n",
        "\n",
        "    # Ensure that we maintain the original chunk text and interpolate if necessary\n",
        "    adjusted_chunks.append({\n",
        "        'text': result['chunks'][i]['text'],\n",
        "        'timestamp': (start_time, end_time)\n",
        "    })\n",
        "\n",
        "    # Update the start time for the next chunk\n",
        "    start_time = end_time\n",
        "\n",
        "# Print each adjusted chunk with timestamps\n",
        "for chunk in adjusted_chunks:\n",
        "    start, end = chunk['timestamp']\n",
        "    print(f\"Transcript: {chunk['text']}, Start: {start:.2f}, End: {end:.2f}\")"
      ],
      "metadata": {
        "colab": {
          "base_uri": "https://localhost:8080/"
        },
        "id": "7Y0JFY3_6RGf",
        "outputId": "e0d8904a-96ec-457d-da4d-0ed8e1740d84"
      },
      "id": "7Y0JFY3_6RGf",
      "execution_count": 22,
      "outputs": [
        {
          "output_type": "stream",
          "name": "stderr",
          "text": [
            "/usr/local/lib/python3.10/dist-packages/transformers/models/whisper/generation_whisper.py:496: FutureWarning: The input name `inputs` is deprecated. Please make sure to use `input_features` instead.\n",
            "  warnings.warn(\n"
          ]
        },
        {
          "output_type": "stream",
          "name": "stdout",
          "text": [
            "Full Transcript:  popular with children and the owner of Minecraft, Microsoft told us that hate speech and terrorist content is strictly forbidden and they take action to remove such content. But on TikTok, there are posts that are just too graphic to show, specifically anti-Semitic. We've blurred this one here, which shows images from gas chambers set to the same type of audio. And there's much more of this graphic type of contact. In fact, Sky News has seen 72,000 posts used in this way. Not only is that number big, but the level of engagement is high too. Between them, these posts have racked up 21 million likes, showing people are engaging with the videos. Well, how are they engaging? This is a good example, an image of a Nuremberg rally, accompanied by a Hitler speech. It's been liked by more than 56,000 users. And in a comment, there has been liked 1,695 times, one user states, modern society needs him. Another says we miss you. It's difficult to know the motivations of the people posting it. It's probably a range from people who are knowingly spreading white national...\n",
            "Transcript:  popular with children and the owner of Minecraft, Microsoft told us that hate speech and terrorist, Start: 0.00, End: 4.44\n",
            "Transcript:  content is strictly forbidden and they take action to remove such content. But on TikTok, there, Start: 4.44, End: 9.56\n",
            "Transcript:  are posts that are just too graphic to show, specifically anti-Semitic. We've blurred this one, Start: 9.56, End: 14.34\n",
            "Transcript:  here, which shows images from gas chambers set to the same type of audio. And there's much more, Start: 14.34, End: 18.82\n",
            "Transcript:  of this graphic type of contact. In fact, Sky News has seen 72,000 posts used in this way., Start: 18.82, End: 0.00\n",
            "Transcript:  Not only is that number big, but the level of engagement is high too., Start: 0.00, End: 4.36\n",
            "Transcript:  Between them, these posts have racked up 21 million likes,, Start: 4.36, End: 7.74\n",
            "Transcript:  showing people are engaging with the videos., Start: 7.74, End: 10.54\n",
            "Transcript:  Well, how are they engaging?, Start: 10.54, End: 11.84\n",
            "Transcript:  This is a good example, an image of a Nuremberg rally,, Start: 11.84, End: 14.34\n",
            "Transcript:  accompanied by a Hitler speech., Start: 14.34, End: 15.98\n",
            "Transcript:  It's been liked by more than 56,000 users., Start: 15.98, End: 18.64\n",
            "Transcript:  And in a comment, there has been liked 1,695 times,, Start: 18.64, End: 22.80\n",
            "Transcript:  one user states, modern society needs him., Start: 22.80, End: 0.00\n",
            "Transcript:  Another says we miss you., Start: 0.00, End: 3.18\n",
            "Transcript:  It's difficult to know the motivations of the people posting it., Start: 3.18, End: 5.56\n",
            "Transcript:  It's probably a range from people who are knowingly spreading white national..., Start: 5.56, End: 60.00\n",
            "time: 6.16 s (started: 2024-09-19 10:52:38 +00:00)\n"
          ]
        }
      ]
    },
    {
      "cell_type": "code",
      "source": [
        "# Input audio sample\n",
        "sample = \"https://storage.googleapis.com/imagestg-bucket/noise_free_audio/1010259_2024.09.14_08.02.28-2024.09.14_08.03.28.wav\"\n",
        "\n",
        "# Perform speech recognition with timestamps\n",
        "result = pipe(sample, batch_size=8, return_timestamps=True)\n",
        "\n",
        "# Print the full transcript\n",
        "print(\"Full Transcript:\", result[\"text\"])\n",
        "\n",
        "# Adjust timestamps\n",
        "num_chunks = len(result['chunks'])\n",
        "total_duration = 60  # Total duration in seconds\n",
        "adjusted_chunks = []\n",
        "\n",
        "# Set the start time for the first chunk\n",
        "start_time = 0.0\n",
        "\n",
        "# Calculate adjusted timestamps\n",
        "for i in range(num_chunks):\n",
        "    # Get the end time based on the chunk's existing end time or next chunk's start time\n",
        "    if i < num_chunks - 1:\n",
        "        end_time = result[\"chunks\"][i + 1]['timestamp'][0]  # Start time of the next chunk\n",
        "    else:\n",
        "        end_time = total_duration  # Last chunk should end at total duration\n",
        "\n",
        "    # Ensure that we maintain the original chunk text and interpolate if necessary\n",
        "    adjusted_chunks.append({\n",
        "        'text': result['chunks'][i]['text'],\n",
        "        'timestamp': (start_time, end_time)\n",
        "    })\n",
        "\n",
        "    # Update the start time for the next chunk\n",
        "    start_time = end_time\n",
        "\n",
        "# Print each adjusted chunk with timestamps\n",
        "for chunk in adjusted_chunks:\n",
        "    start, end = chunk['timestamp']\n",
        "    print(f\"Transcript: {chunk['text']}, Start: {start:.2f}, End: {end:.2f}\")"
      ],
      "metadata": {
        "colab": {
          "base_uri": "https://localhost:8080/"
        },
        "id": "FXk492ul6ZsM",
        "outputId": "019bb946-aa59-4ab4-9b95-0d9c7333e05d"
      },
      "id": "FXk492ul6ZsM",
      "execution_count": 23,
      "outputs": [
        {
          "output_type": "stream",
          "name": "stderr",
          "text": [
            "/usr/local/lib/python3.10/dist-packages/transformers/models/whisper/generation_whisper.py:496: FutureWarning: The input name `inputs` is deprecated. Please make sure to use `input_features` instead.\n",
            "  warnings.warn(\n"
          ]
        },
        {
          "output_type": "stream",
          "name": "stdout",
          "text": [
            "Full Transcript:  to be addressed by the Prime Minister in Duda near Kishhtwar of Jammu and Kashmir ahead of the first phase of polling on the 18th of September. Now, Prime Minister Modi had last campaign for the BJP in the Chenab region during the 2014 Assembly elections when the party had won four of the six seats. Remember, the number of seats after de-limitation has increased to eight. Ahead of the Prime Minister's visit, there was an encounter that broke Cartoon Kishwar as well, the Prime Minister will be visiting Duda after 45 years at least. My colleague Nazir joins us with more details. Nazir, if you could take us through the Prime Minister's visit and the big campaign for the BJP in Jambon Kashmir. Well, it is Prime Minister Narendra Modi's first election rally and in Jammu and Kashmir Assembly elections, four days ahead of the first phase of assembly polling. So, very significant rally as far as the BJN. JP's election campaign is concerned. He is seen as the biggest vote catcher and who could move.\n",
            "Transcript:  to be addressed by the Prime Minister in Duda, Start: 0.00, End: 1.96\n",
            "Transcript:  near Kishhtwar of Jammu and Kashmir, Start: 1.96, End: 4.06\n",
            "Transcript:  ahead of the first phase of polling on the 18th of, Start: 4.06, End: 6.32\n",
            "Transcript:  September. Now, Prime Minister Modi had, Start: 6.32, End: 8.16\n",
            "Transcript:  last campaign for the BJP in the, Start: 8.16, End: 10.02\n",
            "Transcript:  Chenab region during the 2014, Start: 10.02, End: 11.74\n",
            "Transcript:  Assembly elections when the party had won, Start: 11.74, End: 14.00\n",
            "Transcript:  four of the six seats. Remember,, Start: 14.00, End: 16.18\n",
            "Transcript:  the number of seats after de-limitation has, Start: 16.18, End: 18.08\n",
            "Transcript:  increased to eight. Ahead of the, Start: 18.08, End: 19.90\n",
            "Transcript:  Prime Minister's visit, there was an encounter that broke, Start: 19.90, End: 0.00\n",
            "Transcript:  Cartoon Kishwar as well, the Prime Minister will be visiting Duda after 45 years at least., Start: 0.00, End: 4.82\n",
            "Transcript:  My colleague Nazir joins us with more details., Start: 4.82, End: 7.46\n",
            "Transcript:  Nazir, if you could take us through the Prime Minister's visit, Start: 7.46, End: 9.78\n",
            "Transcript:  and the big campaign for the BJP in Jambon Kashmir., Start: 9.78, End: 14.34\n",
            "Transcript:  Well, it is Prime Minister Narendra Modi's first election rally, Start: 14.34, End: 18.60\n",
            "Transcript:  and in Jammu and Kashmir Assembly elections,, Start: 18.60, End: 22.36\n",
            "Transcript:  four days ahead of the first phase of assembly polling., Start: 22.36, End: 27.10\n",
            "Transcript:  So, very significant rally as far as the BJN., Start: 27.10, End: 0.00\n",
            "Transcript:  JP's election campaign is concerned., Start: 0.00, End: 4.18\n",
            "Transcript:  He is seen as the biggest vote catcher and who could move., Start: 4.18, End: 60.00\n",
            "time: 6.63 s (started: 2024-09-19 10:53:22 +00:00)\n"
          ]
        }
      ]
    },
    {
      "cell_type": "code",
      "source": [
        "# Input audio sample\n",
        "sample = \"https://storage.googleapis.com/imagestg-bucket/noise_free_audio/1010834_2024.09.14_08.02.27-2024.09.14_08.03.27.wav\"\n",
        "\n",
        "# Perform speech recognition with timestamps\n",
        "result = pipe(sample, batch_size=8, return_timestamps=True)\n",
        "\n",
        "# Print the full transcript\n",
        "print(\"Full Transcript:\", result[\"text\"])\n",
        "\n",
        "# Adjust timestamps\n",
        "num_chunks = len(result['chunks'])\n",
        "total_duration = 60  # Total duration in seconds\n",
        "adjusted_chunks = []\n",
        "\n",
        "# Set the start time for the first chunk\n",
        "start_time = 0.0\n",
        "\n",
        "# Calculate adjusted timestamps\n",
        "for i in range(num_chunks):\n",
        "    # Get the end time based on the chunk's existing end time or next chunk's start time\n",
        "    if i < num_chunks - 1:\n",
        "        end_time = result[\"chunks\"][i + 1]['timestamp'][0]  # Start time of the next chunk\n",
        "    else:\n",
        "        end_time = total_duration  # Last chunk should end at total duration\n",
        "\n",
        "    # Ensure that we maintain the original chunk text and interpolate if necessary\n",
        "    adjusted_chunks.append({\n",
        "        'text': result['chunks'][i]['text'],\n",
        "        'timestamp': (start_time, end_time)\n",
        "    })\n",
        "\n",
        "    # Update the start time for the next chunk\n",
        "    start_time = end_time\n",
        "\n",
        "# Print each adjusted chunk with timestamps\n",
        "for chunk in adjusted_chunks:\n",
        "    start, end = chunk['timestamp']\n",
        "    print(f\"Transcript: {chunk['text']}, Start: {start:.2f}, End: {end:.2f}\")"
      ],
      "metadata": {
        "colab": {
          "base_uri": "https://localhost:8080/"
        },
        "id": "uprt5Zy76kcw",
        "outputId": "e5f3ac98-12d6-4845-b39c-c931b8296e0a"
      },
      "id": "uprt5Zy76kcw",
      "execution_count": 24,
      "outputs": [
        {
          "output_type": "stream",
          "name": "stderr",
          "text": [
            "/usr/local/lib/python3.10/dist-packages/transformers/models/whisper/generation_whisper.py:496: FutureWarning: The input name `inputs` is deprecated. Please make sure to use `input_features` instead.\n",
            "  warnings.warn(\n"
          ]
        },
        {
          "output_type": "stream",
          "name": "stdout",
          "text": [
            "Full Transcript:  Nazi speeches and marching music have been used as background sound on tens of thousands of TikTok videos as far-right groups try and spread their message. To appeal to a wider audience, most of the speeches are set to a type of music popular on TikTok called Drift Fong, without the creator's permission or knowledge. And that could be all sorts, cat videos, gym post, gaming or cars here. There's a few of the most popular categories we have seen. It's a way to get content shared widely before offering the user more sinister stuff if they hit the sound button in the corner of a post, which shows them other videos using the same sound. For example, this is a more innocuous video of a cat that looks like Hitler. We'll put that back into the stack and this is a huge stack here. Have a look at another type we've seen gaming. This video was made using Minecraft, the German dictator, recreated in the game. Now, this is popular with children and the owner of Minecraft. Microsoft told us that hate speech and terrorist content is\n",
            "Transcript:  Nazi speeches and marching music have been used as background sound on tens of thousands, Start: 0.00, End: 6.24\n",
            "Transcript:  of TikTok videos as far-right groups try and spread their message., Start: 6.24, End: 10.00\n",
            "Transcript:  To appeal to a wider audience, most of the speeches are set to a type of music popular, Start: 10.00, End: 18.12\n",
            "Transcript:  on TikTok called Drift Fong, without the creator's permission or knowledge., Start: 18.12, End: 22.68\n",
            "Transcript:  And that could be all sorts, cat videos, gym post, gaming or cars here., Start: 22.68, End: 27.32\n",
            "Transcript:  There's a few of the most popular categories we have seen., Start: 27.32, End: 0.00\n",
            "Transcript:  It's a way to get content shared widely before offering the user more sinister stuff if they hit the sound button in the corner of a post, which shows them other videos using the same sound., Start: 0.00, End: 9.88\n",
            "Transcript:  For example, this is a more innocuous video of a cat that looks like Hitler., Start: 9.88, End: 13.92\n",
            "Transcript:  We'll put that back into the stack and this is a huge stack here., Start: 13.92, End: 17.00\n",
            "Transcript:  Have a look at another type we've seen gaming., Start: 17.00, End: 19.00\n",
            "Transcript:  This video was made using Minecraft, the German dictator, recreated in the game., Start: 19.00, End: 24.00\n",
            "Transcript:  Now, this is popular with children and the owner of Minecraft., Start: 24.00, End: 0.00\n",
            "Transcript:  Microsoft told us that hate speech and terrorist content is, Start: 0.00, End: 60.00\n",
            "time: 5.97 s (started: 2024-09-19 10:54:02 +00:00)\n"
          ]
        }
      ]
    },
    {
      "cell_type": "code",
      "source": [
        "# Input audio sample\n",
        "sample = \"https://storage.googleapis.com/imagestg-bucket/noise_free_audio/1010259_2024.09.14_08.01.27-2024.09.14_08.02.27.wav\"\n",
        "\n",
        "# Perform speech recognition with timestamps\n",
        "result = pipe(sample, batch_size=8, return_timestamps=True)\n",
        "\n",
        "# Print the full transcript\n",
        "print(\"Full Transcript:\", result[\"text\"])\n",
        "\n",
        "# Adjust timestamps\n",
        "num_chunks = len(result['chunks'])\n",
        "total_duration = 60  # Total duration in seconds\n",
        "adjusted_chunks = []\n",
        "\n",
        "# Set the start time for the first chunk\n",
        "start_time = 0.0\n",
        "\n",
        "# Calculate adjusted timestamps\n",
        "for i in range(num_chunks):\n",
        "    # Get the end time based on the chunk's existing end time or next chunk's start time\n",
        "    if i < num_chunks - 1:\n",
        "        end_time = result[\"chunks\"][i + 1]['timestamp'][0]  # Start time of the next chunk\n",
        "    else:\n",
        "        end_time = total_duration  # Last chunk should end at total duration\n",
        "\n",
        "    # Ensure that we maintain the original chunk text and interpolate if necessary\n",
        "    adjusted_chunks.append({\n",
        "        'text': result['chunks'][i]['text'],\n",
        "        'timestamp': (start_time, end_time)\n",
        "    })\n",
        "\n",
        "    # Update the start time for the next chunk\n",
        "    start_time = end_time\n",
        "\n",
        "# Print each adjusted chunk with timestamps\n",
        "for chunk in adjusted_chunks:\n",
        "    start, end = chunk['timestamp']\n",
        "    print(f\"Transcript: {chunk['text']}, Start: {start:.2f}, End: {end:.2f}\")"
      ],
      "metadata": {
        "colab": {
          "base_uri": "https://localhost:8080/"
        },
        "id": "diL2_GLO6uZr",
        "outputId": "64d8551e-0521-4437-d3f8-87c5922b02b7"
      },
      "id": "diL2_GLO6uZr",
      "execution_count": 25,
      "outputs": [
        {
          "output_type": "stream",
          "name": "stderr",
          "text": [
            "/usr/local/lib/python3.10/dist-packages/transformers/models/whisper/generation_whisper.py:496: FutureWarning: The input name `inputs` is deprecated. Please make sure to use `input_features` instead.\n",
            "  warnings.warn(\n"
          ]
        },
        {
          "output_type": "stream",
          "name": "stdout",
          "text": [
            "Full Transcript:  probe continues into the Delhi gym owner's death. Six suspects detained two country-made pistols recovered of Khan origin gym owner were shot dead in GK. Adani listed among world's best companies of 2024 prestigious global industrial industrial industrial industrial industrial industrial list features Adani's eight company. A top focused Prime Minister Modi, said to address an election rally in Doda today, this is the first election Thank you.\n",
            "Transcript:  probe continues into the Delhi gym owner's death., Start: 0.00, End: 6.44\n",
            "Transcript:  Six suspects detained two country-made pistols recovered of Khan origin gym owner were shot dead in GK., Start: 6.44, End: 25.50\n",
            "Transcript:  Adani listed among world's best companies of 2024 prestigious global industrial industrial industrial industrial industrial industrial, Start: 25.50, End: 0.00\n",
            "Transcript:  list features Adani's eight company., Start: 0.00, End: 24.44\n",
            "Transcript:  A top focused Prime Minister Modi, said to address an election rally in Doda today, this is the first election, Start: 24.44, End: 0.00\n",
            "Transcript:  Thank you., Start: 0.00, End: 60.00\n",
            "time: 6.8 s (started: 2024-09-19 10:54:44 +00:00)\n"
          ]
        }
      ]
    },
    {
      "cell_type": "code",
      "source": [],
      "metadata": {
        "id": "mapKt8gP64VL"
      },
      "id": "mapKt8gP64VL",
      "execution_count": null,
      "outputs": []
    }
  ],
  "metadata": {
    "kernelspec": {
      "display_name": "Python 3",
      "name": "python3"
    },
    "language_info": {
      "codemirror_mode": {
        "name": "ipython",
        "version": 3
      },
      "file_extension": ".py",
      "mimetype": "text/x-python",
      "name": "python",
      "nbconvert_exporter": "python",
      "pygments_lexer": "ipython3",
      "version": "3.10.15"
    },
    "colab": {
      "provenance": [],
      "gpuType": "T4"
    },
    "accelerator": "GPU",
    "widgets": {
      "application/vnd.jupyter.widget-state+json": {
        "54b98080b159468eac823ef8af645c7e": {
          "model_module": "@jupyter-widgets/controls",
          "model_name": "HBoxModel",
          "model_module_version": "1.5.0",
          "state": {
            "_dom_classes": [],
            "_model_module": "@jupyter-widgets/controls",
            "_model_module_version": "1.5.0",
            "_model_name": "HBoxModel",
            "_view_count": null,
            "_view_module": "@jupyter-widgets/controls",
            "_view_module_version": "1.5.0",
            "_view_name": "HBoxView",
            "box_style": "",
            "children": [
              "IPY_MODEL_94a00bf18a85441d853e2d0d79a50df5",
              "IPY_MODEL_7b69046ab6324fb5b160d1cf4246124f",
              "IPY_MODEL_385d1f964f144b7295ed5ce03f6ceb43"
            ],
            "layout": "IPY_MODEL_00be339c9a254fd7aa41f235c1933992"
          }
        },
        "94a00bf18a85441d853e2d0d79a50df5": {
          "model_module": "@jupyter-widgets/controls",
          "model_name": "HTMLModel",
          "model_module_version": "1.5.0",
          "state": {
            "_dom_classes": [],
            "_model_module": "@jupyter-widgets/controls",
            "_model_module_version": "1.5.0",
            "_model_name": "HTMLModel",
            "_view_count": null,
            "_view_module": "@jupyter-widgets/controls",
            "_view_module_version": "1.5.0",
            "_view_name": "HTMLView",
            "description": "",
            "description_tooltip": null,
            "layout": "IPY_MODEL_28791a3c70af4ea0b62c3151539f12f4",
            "placeholder": "​",
            "style": "IPY_MODEL_358e2480046d4f5180b7e69703118e25",
            "value": "config.json: 100%"
          }
        },
        "7b69046ab6324fb5b160d1cf4246124f": {
          "model_module": "@jupyter-widgets/controls",
          "model_name": "FloatProgressModel",
          "model_module_version": "1.5.0",
          "state": {
            "_dom_classes": [],
            "_model_module": "@jupyter-widgets/controls",
            "_model_module_version": "1.5.0",
            "_model_name": "FloatProgressModel",
            "_view_count": null,
            "_view_module": "@jupyter-widgets/controls",
            "_view_module_version": "1.5.0",
            "_view_name": "ProgressView",
            "bar_style": "success",
            "description": "",
            "description_tooltip": null,
            "layout": "IPY_MODEL_6686a209e9364859bfcd7ccde1febbd1",
            "max": 1265,
            "min": 0,
            "orientation": "horizontal",
            "style": "IPY_MODEL_b2bb9ea773e44e64831f8cd77a1539f7",
            "value": 1265
          }
        },
        "385d1f964f144b7295ed5ce03f6ceb43": {
          "model_module": "@jupyter-widgets/controls",
          "model_name": "HTMLModel",
          "model_module_version": "1.5.0",
          "state": {
            "_dom_classes": [],
            "_model_module": "@jupyter-widgets/controls",
            "_model_module_version": "1.5.0",
            "_model_name": "HTMLModel",
            "_view_count": null,
            "_view_module": "@jupyter-widgets/controls",
            "_view_module_version": "1.5.0",
            "_view_name": "HTMLView",
            "description": "",
            "description_tooltip": null,
            "layout": "IPY_MODEL_7a2392d13b6a495590f89278a0eed357",
            "placeholder": "​",
            "style": "IPY_MODEL_07fbbbded93e4aea8091616739e0588a",
            "value": " 1.26k/1.26k [00:00&lt;00:00, 51.9kB/s]"
          }
        },
        "00be339c9a254fd7aa41f235c1933992": {
          "model_module": "@jupyter-widgets/base",
          "model_name": "LayoutModel",
          "model_module_version": "1.2.0",
          "state": {
            "_model_module": "@jupyter-widgets/base",
            "_model_module_version": "1.2.0",
            "_model_name": "LayoutModel",
            "_view_count": null,
            "_view_module": "@jupyter-widgets/base",
            "_view_module_version": "1.2.0",
            "_view_name": "LayoutView",
            "align_content": null,
            "align_items": null,
            "align_self": null,
            "border": null,
            "bottom": null,
            "display": null,
            "flex": null,
            "flex_flow": null,
            "grid_area": null,
            "grid_auto_columns": null,
            "grid_auto_flow": null,
            "grid_auto_rows": null,
            "grid_column": null,
            "grid_gap": null,
            "grid_row": null,
            "grid_template_areas": null,
            "grid_template_columns": null,
            "grid_template_rows": null,
            "height": null,
            "justify_content": null,
            "justify_items": null,
            "left": null,
            "margin": null,
            "max_height": null,
            "max_width": null,
            "min_height": null,
            "min_width": null,
            "object_fit": null,
            "object_position": null,
            "order": null,
            "overflow": null,
            "overflow_x": null,
            "overflow_y": null,
            "padding": null,
            "right": null,
            "top": null,
            "visibility": null,
            "width": null
          }
        },
        "28791a3c70af4ea0b62c3151539f12f4": {
          "model_module": "@jupyter-widgets/base",
          "model_name": "LayoutModel",
          "model_module_version": "1.2.0",
          "state": {
            "_model_module": "@jupyter-widgets/base",
            "_model_module_version": "1.2.0",
            "_model_name": "LayoutModel",
            "_view_count": null,
            "_view_module": "@jupyter-widgets/base",
            "_view_module_version": "1.2.0",
            "_view_name": "LayoutView",
            "align_content": null,
            "align_items": null,
            "align_self": null,
            "border": null,
            "bottom": null,
            "display": null,
            "flex": null,
            "flex_flow": null,
            "grid_area": null,
            "grid_auto_columns": null,
            "grid_auto_flow": null,
            "grid_auto_rows": null,
            "grid_column": null,
            "grid_gap": null,
            "grid_row": null,
            "grid_template_areas": null,
            "grid_template_columns": null,
            "grid_template_rows": null,
            "height": null,
            "justify_content": null,
            "justify_items": null,
            "left": null,
            "margin": null,
            "max_height": null,
            "max_width": null,
            "min_height": null,
            "min_width": null,
            "object_fit": null,
            "object_position": null,
            "order": null,
            "overflow": null,
            "overflow_x": null,
            "overflow_y": null,
            "padding": null,
            "right": null,
            "top": null,
            "visibility": null,
            "width": null
          }
        },
        "358e2480046d4f5180b7e69703118e25": {
          "model_module": "@jupyter-widgets/controls",
          "model_name": "DescriptionStyleModel",
          "model_module_version": "1.5.0",
          "state": {
            "_model_module": "@jupyter-widgets/controls",
            "_model_module_version": "1.5.0",
            "_model_name": "DescriptionStyleModel",
            "_view_count": null,
            "_view_module": "@jupyter-widgets/base",
            "_view_module_version": "1.2.0",
            "_view_name": "StyleView",
            "description_width": ""
          }
        },
        "6686a209e9364859bfcd7ccde1febbd1": {
          "model_module": "@jupyter-widgets/base",
          "model_name": "LayoutModel",
          "model_module_version": "1.2.0",
          "state": {
            "_model_module": "@jupyter-widgets/base",
            "_model_module_version": "1.2.0",
            "_model_name": "LayoutModel",
            "_view_count": null,
            "_view_module": "@jupyter-widgets/base",
            "_view_module_version": "1.2.0",
            "_view_name": "LayoutView",
            "align_content": null,
            "align_items": null,
            "align_self": null,
            "border": null,
            "bottom": null,
            "display": null,
            "flex": null,
            "flex_flow": null,
            "grid_area": null,
            "grid_auto_columns": null,
            "grid_auto_flow": null,
            "grid_auto_rows": null,
            "grid_column": null,
            "grid_gap": null,
            "grid_row": null,
            "grid_template_areas": null,
            "grid_template_columns": null,
            "grid_template_rows": null,
            "height": null,
            "justify_content": null,
            "justify_items": null,
            "left": null,
            "margin": null,
            "max_height": null,
            "max_width": null,
            "min_height": null,
            "min_width": null,
            "object_fit": null,
            "object_position": null,
            "order": null,
            "overflow": null,
            "overflow_x": null,
            "overflow_y": null,
            "padding": null,
            "right": null,
            "top": null,
            "visibility": null,
            "width": null
          }
        },
        "b2bb9ea773e44e64831f8cd77a1539f7": {
          "model_module": "@jupyter-widgets/controls",
          "model_name": "ProgressStyleModel",
          "model_module_version": "1.5.0",
          "state": {
            "_model_module": "@jupyter-widgets/controls",
            "_model_module_version": "1.5.0",
            "_model_name": "ProgressStyleModel",
            "_view_count": null,
            "_view_module": "@jupyter-widgets/base",
            "_view_module_version": "1.2.0",
            "_view_name": "StyleView",
            "bar_color": null,
            "description_width": ""
          }
        },
        "7a2392d13b6a495590f89278a0eed357": {
          "model_module": "@jupyter-widgets/base",
          "model_name": "LayoutModel",
          "model_module_version": "1.2.0",
          "state": {
            "_model_module": "@jupyter-widgets/base",
            "_model_module_version": "1.2.0",
            "_model_name": "LayoutModel",
            "_view_count": null,
            "_view_module": "@jupyter-widgets/base",
            "_view_module_version": "1.2.0",
            "_view_name": "LayoutView",
            "align_content": null,
            "align_items": null,
            "align_self": null,
            "border": null,
            "bottom": null,
            "display": null,
            "flex": null,
            "flex_flow": null,
            "grid_area": null,
            "grid_auto_columns": null,
            "grid_auto_flow": null,
            "grid_auto_rows": null,
            "grid_column": null,
            "grid_gap": null,
            "grid_row": null,
            "grid_template_areas": null,
            "grid_template_columns": null,
            "grid_template_rows": null,
            "height": null,
            "justify_content": null,
            "justify_items": null,
            "left": null,
            "margin": null,
            "max_height": null,
            "max_width": null,
            "min_height": null,
            "min_width": null,
            "object_fit": null,
            "object_position": null,
            "order": null,
            "overflow": null,
            "overflow_x": null,
            "overflow_y": null,
            "padding": null,
            "right": null,
            "top": null,
            "visibility": null,
            "width": null
          }
        },
        "07fbbbded93e4aea8091616739e0588a": {
          "model_module": "@jupyter-widgets/controls",
          "model_name": "DescriptionStyleModel",
          "model_module_version": "1.5.0",
          "state": {
            "_model_module": "@jupyter-widgets/controls",
            "_model_module_version": "1.5.0",
            "_model_name": "DescriptionStyleModel",
            "_view_count": null,
            "_view_module": "@jupyter-widgets/base",
            "_view_module_version": "1.2.0",
            "_view_name": "StyleView",
            "description_width": ""
          }
        },
        "e747ced9e6434941ad8eeee0ccd6aeb3": {
          "model_module": "@jupyter-widgets/controls",
          "model_name": "HBoxModel",
          "model_module_version": "1.5.0",
          "state": {
            "_dom_classes": [],
            "_model_module": "@jupyter-widgets/controls",
            "_model_module_version": "1.5.0",
            "_model_name": "HBoxModel",
            "_view_count": null,
            "_view_module": "@jupyter-widgets/controls",
            "_view_module_version": "1.5.0",
            "_view_name": "HBoxView",
            "box_style": "",
            "children": [
              "IPY_MODEL_8f2f7e1fb3ce48dc92716f319c29498a",
              "IPY_MODEL_ee626e4b5d6a4a6db4b5ca4f11289fce",
              "IPY_MODEL_3937b9580c6c458f828df4f04c8eb144"
            ],
            "layout": "IPY_MODEL_93d8a931fec6446398d40a6571f2d576"
          }
        },
        "8f2f7e1fb3ce48dc92716f319c29498a": {
          "model_module": "@jupyter-widgets/controls",
          "model_name": "HTMLModel",
          "model_module_version": "1.5.0",
          "state": {
            "_dom_classes": [],
            "_model_module": "@jupyter-widgets/controls",
            "_model_module_version": "1.5.0",
            "_model_name": "HTMLModel",
            "_view_count": null,
            "_view_module": "@jupyter-widgets/controls",
            "_view_module_version": "1.5.0",
            "_view_name": "HTMLView",
            "description": "",
            "description_tooltip": null,
            "layout": "IPY_MODEL_a12616d19cf743799f233a4a62e374e7",
            "placeholder": "​",
            "style": "IPY_MODEL_5e18f339115d4365b38f284e4b948f17",
            "value": "model.safetensors: 100%"
          }
        },
        "ee626e4b5d6a4a6db4b5ca4f11289fce": {
          "model_module": "@jupyter-widgets/controls",
          "model_name": "FloatProgressModel",
          "model_module_version": "1.5.0",
          "state": {
            "_dom_classes": [],
            "_model_module": "@jupyter-widgets/controls",
            "_model_module_version": "1.5.0",
            "_model_name": "FloatProgressModel",
            "_view_count": null,
            "_view_module": "@jupyter-widgets/controls",
            "_view_module_version": "1.5.0",
            "_view_name": "ProgressView",
            "bar_style": "success",
            "description": "",
            "description_tooltip": null,
            "layout": "IPY_MODEL_ce7e4e43432a4fc8b26c589a76b2b1e8",
            "max": 1512874472,
            "min": 0,
            "orientation": "horizontal",
            "style": "IPY_MODEL_9f4d159fa33940ccac8efafd91de8551",
            "value": 1512874472
          }
        },
        "3937b9580c6c458f828df4f04c8eb144": {
          "model_module": "@jupyter-widgets/controls",
          "model_name": "HTMLModel",
          "model_module_version": "1.5.0",
          "state": {
            "_dom_classes": [],
            "_model_module": "@jupyter-widgets/controls",
            "_model_module_version": "1.5.0",
            "_model_name": "HTMLModel",
            "_view_count": null,
            "_view_module": "@jupyter-widgets/controls",
            "_view_module_version": "1.5.0",
            "_view_name": "HTMLView",
            "description": "",
            "description_tooltip": null,
            "layout": "IPY_MODEL_75b909d244fb487085f7852bd7f99ced",
            "placeholder": "​",
            "style": "IPY_MODEL_6e7490fbc7d0425da6e93df604549a0b",
            "value": " 1.51G/1.51G [00:07&lt;00:00, 246MB/s]"
          }
        },
        "93d8a931fec6446398d40a6571f2d576": {
          "model_module": "@jupyter-widgets/base",
          "model_name": "LayoutModel",
          "model_module_version": "1.2.0",
          "state": {
            "_model_module": "@jupyter-widgets/base",
            "_model_module_version": "1.2.0",
            "_model_name": "LayoutModel",
            "_view_count": null,
            "_view_module": "@jupyter-widgets/base",
            "_view_module_version": "1.2.0",
            "_view_name": "LayoutView",
            "align_content": null,
            "align_items": null,
            "align_self": null,
            "border": null,
            "bottom": null,
            "display": null,
            "flex": null,
            "flex_flow": null,
            "grid_area": null,
            "grid_auto_columns": null,
            "grid_auto_flow": null,
            "grid_auto_rows": null,
            "grid_column": null,
            "grid_gap": null,
            "grid_row": null,
            "grid_template_areas": null,
            "grid_template_columns": null,
            "grid_template_rows": null,
            "height": null,
            "justify_content": null,
            "justify_items": null,
            "left": null,
            "margin": null,
            "max_height": null,
            "max_width": null,
            "min_height": null,
            "min_width": null,
            "object_fit": null,
            "object_position": null,
            "order": null,
            "overflow": null,
            "overflow_x": null,
            "overflow_y": null,
            "padding": null,
            "right": null,
            "top": null,
            "visibility": null,
            "width": null
          }
        },
        "a12616d19cf743799f233a4a62e374e7": {
          "model_module": "@jupyter-widgets/base",
          "model_name": "LayoutModel",
          "model_module_version": "1.2.0",
          "state": {
            "_model_module": "@jupyter-widgets/base",
            "_model_module_version": "1.2.0",
            "_model_name": "LayoutModel",
            "_view_count": null,
            "_view_module": "@jupyter-widgets/base",
            "_view_module_version": "1.2.0",
            "_view_name": "LayoutView",
            "align_content": null,
            "align_items": null,
            "align_self": null,
            "border": null,
            "bottom": null,
            "display": null,
            "flex": null,
            "flex_flow": null,
            "grid_area": null,
            "grid_auto_columns": null,
            "grid_auto_flow": null,
            "grid_auto_rows": null,
            "grid_column": null,
            "grid_gap": null,
            "grid_row": null,
            "grid_template_areas": null,
            "grid_template_columns": null,
            "grid_template_rows": null,
            "height": null,
            "justify_content": null,
            "justify_items": null,
            "left": null,
            "margin": null,
            "max_height": null,
            "max_width": null,
            "min_height": null,
            "min_width": null,
            "object_fit": null,
            "object_position": null,
            "order": null,
            "overflow": null,
            "overflow_x": null,
            "overflow_y": null,
            "padding": null,
            "right": null,
            "top": null,
            "visibility": null,
            "width": null
          }
        },
        "5e18f339115d4365b38f284e4b948f17": {
          "model_module": "@jupyter-widgets/controls",
          "model_name": "DescriptionStyleModel",
          "model_module_version": "1.5.0",
          "state": {
            "_model_module": "@jupyter-widgets/controls",
            "_model_module_version": "1.5.0",
            "_model_name": "DescriptionStyleModel",
            "_view_count": null,
            "_view_module": "@jupyter-widgets/base",
            "_view_module_version": "1.2.0",
            "_view_name": "StyleView",
            "description_width": ""
          }
        },
        "ce7e4e43432a4fc8b26c589a76b2b1e8": {
          "model_module": "@jupyter-widgets/base",
          "model_name": "LayoutModel",
          "model_module_version": "1.2.0",
          "state": {
            "_model_module": "@jupyter-widgets/base",
            "_model_module_version": "1.2.0",
            "_model_name": "LayoutModel",
            "_view_count": null,
            "_view_module": "@jupyter-widgets/base",
            "_view_module_version": "1.2.0",
            "_view_name": "LayoutView",
            "align_content": null,
            "align_items": null,
            "align_self": null,
            "border": null,
            "bottom": null,
            "display": null,
            "flex": null,
            "flex_flow": null,
            "grid_area": null,
            "grid_auto_columns": null,
            "grid_auto_flow": null,
            "grid_auto_rows": null,
            "grid_column": null,
            "grid_gap": null,
            "grid_row": null,
            "grid_template_areas": null,
            "grid_template_columns": null,
            "grid_template_rows": null,
            "height": null,
            "justify_content": null,
            "justify_items": null,
            "left": null,
            "margin": null,
            "max_height": null,
            "max_width": null,
            "min_height": null,
            "min_width": null,
            "object_fit": null,
            "object_position": null,
            "order": null,
            "overflow": null,
            "overflow_x": null,
            "overflow_y": null,
            "padding": null,
            "right": null,
            "top": null,
            "visibility": null,
            "width": null
          }
        },
        "9f4d159fa33940ccac8efafd91de8551": {
          "model_module": "@jupyter-widgets/controls",
          "model_name": "ProgressStyleModel",
          "model_module_version": "1.5.0",
          "state": {
            "_model_module": "@jupyter-widgets/controls",
            "_model_module_version": "1.5.0",
            "_model_name": "ProgressStyleModel",
            "_view_count": null,
            "_view_module": "@jupyter-widgets/base",
            "_view_module_version": "1.2.0",
            "_view_name": "StyleView",
            "bar_color": null,
            "description_width": ""
          }
        },
        "75b909d244fb487085f7852bd7f99ced": {
          "model_module": "@jupyter-widgets/base",
          "model_name": "LayoutModel",
          "model_module_version": "1.2.0",
          "state": {
            "_model_module": "@jupyter-widgets/base",
            "_model_module_version": "1.2.0",
            "_model_name": "LayoutModel",
            "_view_count": null,
            "_view_module": "@jupyter-widgets/base",
            "_view_module_version": "1.2.0",
            "_view_name": "LayoutView",
            "align_content": null,
            "align_items": null,
            "align_self": null,
            "border": null,
            "bottom": null,
            "display": null,
            "flex": null,
            "flex_flow": null,
            "grid_area": null,
            "grid_auto_columns": null,
            "grid_auto_flow": null,
            "grid_auto_rows": null,
            "grid_column": null,
            "grid_gap": null,
            "grid_row": null,
            "grid_template_areas": null,
            "grid_template_columns": null,
            "grid_template_rows": null,
            "height": null,
            "justify_content": null,
            "justify_items": null,
            "left": null,
            "margin": null,
            "max_height": null,
            "max_width": null,
            "min_height": null,
            "min_width": null,
            "object_fit": null,
            "object_position": null,
            "order": null,
            "overflow": null,
            "overflow_x": null,
            "overflow_y": null,
            "padding": null,
            "right": null,
            "top": null,
            "visibility": null,
            "width": null
          }
        },
        "6e7490fbc7d0425da6e93df604549a0b": {
          "model_module": "@jupyter-widgets/controls",
          "model_name": "DescriptionStyleModel",
          "model_module_version": "1.5.0",
          "state": {
            "_model_module": "@jupyter-widgets/controls",
            "_model_module_version": "1.5.0",
            "_model_name": "DescriptionStyleModel",
            "_view_count": null,
            "_view_module": "@jupyter-widgets/base",
            "_view_module_version": "1.2.0",
            "_view_name": "StyleView",
            "description_width": ""
          }
        },
        "ba6b9bf753414a4289dd1f35731474b5": {
          "model_module": "@jupyter-widgets/controls",
          "model_name": "HBoxModel",
          "model_module_version": "1.5.0",
          "state": {
            "_dom_classes": [],
            "_model_module": "@jupyter-widgets/controls",
            "_model_module_version": "1.5.0",
            "_model_name": "HBoxModel",
            "_view_count": null,
            "_view_module": "@jupyter-widgets/controls",
            "_view_module_version": "1.5.0",
            "_view_name": "HBoxView",
            "box_style": "",
            "children": [
              "IPY_MODEL_11a3a0b010f041c8bbe8456e92aafdac",
              "IPY_MODEL_432409f34f90446ab6ddbf4c1c70cb55",
              "IPY_MODEL_d5424fad021140eb8ad1d8cb69122ff4"
            ],
            "layout": "IPY_MODEL_cc1524abfc374674a7659f081de572d8"
          }
        },
        "11a3a0b010f041c8bbe8456e92aafdac": {
          "model_module": "@jupyter-widgets/controls",
          "model_name": "HTMLModel",
          "model_module_version": "1.5.0",
          "state": {
            "_dom_classes": [],
            "_model_module": "@jupyter-widgets/controls",
            "_model_module_version": "1.5.0",
            "_model_name": "HTMLModel",
            "_view_count": null,
            "_view_module": "@jupyter-widgets/controls",
            "_view_module_version": "1.5.0",
            "_view_name": "HTMLView",
            "description": "",
            "description_tooltip": null,
            "layout": "IPY_MODEL_14908675b3ec4439afd4f7fa2c095874",
            "placeholder": "​",
            "style": "IPY_MODEL_038a8ec3b4a2428a972bb68ade7db3a2",
            "value": "generation_config.json: 100%"
          }
        },
        "432409f34f90446ab6ddbf4c1c70cb55": {
          "model_module": "@jupyter-widgets/controls",
          "model_name": "FloatProgressModel",
          "model_module_version": "1.5.0",
          "state": {
            "_dom_classes": [],
            "_model_module": "@jupyter-widgets/controls",
            "_model_module_version": "1.5.0",
            "_model_name": "FloatProgressModel",
            "_view_count": null,
            "_view_module": "@jupyter-widgets/controls",
            "_view_module_version": "1.5.0",
            "_view_name": "ProgressView",
            "bar_style": "success",
            "description": "",
            "description_tooltip": null,
            "layout": "IPY_MODEL_01a5094983104211b816e90391472d76",
            "max": 4247,
            "min": 0,
            "orientation": "horizontal",
            "style": "IPY_MODEL_b9cf5bd96c6c43039f924a8bfbefde43",
            "value": 4247
          }
        },
        "d5424fad021140eb8ad1d8cb69122ff4": {
          "model_module": "@jupyter-widgets/controls",
          "model_name": "HTMLModel",
          "model_module_version": "1.5.0",
          "state": {
            "_dom_classes": [],
            "_model_module": "@jupyter-widgets/controls",
            "_model_module_version": "1.5.0",
            "_model_name": "HTMLModel",
            "_view_count": null,
            "_view_module": "@jupyter-widgets/controls",
            "_view_module_version": "1.5.0",
            "_view_name": "HTMLView",
            "description": "",
            "description_tooltip": null,
            "layout": "IPY_MODEL_b8791c5ce2b84b81a44a32440856620f",
            "placeholder": "​",
            "style": "IPY_MODEL_6a6ff65f9f3b452082c8b0cc1a8efd03",
            "value": " 4.25k/4.25k [00:00&lt;00:00, 227kB/s]"
          }
        },
        "cc1524abfc374674a7659f081de572d8": {
          "model_module": "@jupyter-widgets/base",
          "model_name": "LayoutModel",
          "model_module_version": "1.2.0",
          "state": {
            "_model_module": "@jupyter-widgets/base",
            "_model_module_version": "1.2.0",
            "_model_name": "LayoutModel",
            "_view_count": null,
            "_view_module": "@jupyter-widgets/base",
            "_view_module_version": "1.2.0",
            "_view_name": "LayoutView",
            "align_content": null,
            "align_items": null,
            "align_self": null,
            "border": null,
            "bottom": null,
            "display": null,
            "flex": null,
            "flex_flow": null,
            "grid_area": null,
            "grid_auto_columns": null,
            "grid_auto_flow": null,
            "grid_auto_rows": null,
            "grid_column": null,
            "grid_gap": null,
            "grid_row": null,
            "grid_template_areas": null,
            "grid_template_columns": null,
            "grid_template_rows": null,
            "height": null,
            "justify_content": null,
            "justify_items": null,
            "left": null,
            "margin": null,
            "max_height": null,
            "max_width": null,
            "min_height": null,
            "min_width": null,
            "object_fit": null,
            "object_position": null,
            "order": null,
            "overflow": null,
            "overflow_x": null,
            "overflow_y": null,
            "padding": null,
            "right": null,
            "top": null,
            "visibility": null,
            "width": null
          }
        },
        "14908675b3ec4439afd4f7fa2c095874": {
          "model_module": "@jupyter-widgets/base",
          "model_name": "LayoutModel",
          "model_module_version": "1.2.0",
          "state": {
            "_model_module": "@jupyter-widgets/base",
            "_model_module_version": "1.2.0",
            "_model_name": "LayoutModel",
            "_view_count": null,
            "_view_module": "@jupyter-widgets/base",
            "_view_module_version": "1.2.0",
            "_view_name": "LayoutView",
            "align_content": null,
            "align_items": null,
            "align_self": null,
            "border": null,
            "bottom": null,
            "display": null,
            "flex": null,
            "flex_flow": null,
            "grid_area": null,
            "grid_auto_columns": null,
            "grid_auto_flow": null,
            "grid_auto_rows": null,
            "grid_column": null,
            "grid_gap": null,
            "grid_row": null,
            "grid_template_areas": null,
            "grid_template_columns": null,
            "grid_template_rows": null,
            "height": null,
            "justify_content": null,
            "justify_items": null,
            "left": null,
            "margin": null,
            "max_height": null,
            "max_width": null,
            "min_height": null,
            "min_width": null,
            "object_fit": null,
            "object_position": null,
            "order": null,
            "overflow": null,
            "overflow_x": null,
            "overflow_y": null,
            "padding": null,
            "right": null,
            "top": null,
            "visibility": null,
            "width": null
          }
        },
        "038a8ec3b4a2428a972bb68ade7db3a2": {
          "model_module": "@jupyter-widgets/controls",
          "model_name": "DescriptionStyleModel",
          "model_module_version": "1.5.0",
          "state": {
            "_model_module": "@jupyter-widgets/controls",
            "_model_module_version": "1.5.0",
            "_model_name": "DescriptionStyleModel",
            "_view_count": null,
            "_view_module": "@jupyter-widgets/base",
            "_view_module_version": "1.2.0",
            "_view_name": "StyleView",
            "description_width": ""
          }
        },
        "01a5094983104211b816e90391472d76": {
          "model_module": "@jupyter-widgets/base",
          "model_name": "LayoutModel",
          "model_module_version": "1.2.0",
          "state": {
            "_model_module": "@jupyter-widgets/base",
            "_model_module_version": "1.2.0",
            "_model_name": "LayoutModel",
            "_view_count": null,
            "_view_module": "@jupyter-widgets/base",
            "_view_module_version": "1.2.0",
            "_view_name": "LayoutView",
            "align_content": null,
            "align_items": null,
            "align_self": null,
            "border": null,
            "bottom": null,
            "display": null,
            "flex": null,
            "flex_flow": null,
            "grid_area": null,
            "grid_auto_columns": null,
            "grid_auto_flow": null,
            "grid_auto_rows": null,
            "grid_column": null,
            "grid_gap": null,
            "grid_row": null,
            "grid_template_areas": null,
            "grid_template_columns": null,
            "grid_template_rows": null,
            "height": null,
            "justify_content": null,
            "justify_items": null,
            "left": null,
            "margin": null,
            "max_height": null,
            "max_width": null,
            "min_height": null,
            "min_width": null,
            "object_fit": null,
            "object_position": null,
            "order": null,
            "overflow": null,
            "overflow_x": null,
            "overflow_y": null,
            "padding": null,
            "right": null,
            "top": null,
            "visibility": null,
            "width": null
          }
        },
        "b9cf5bd96c6c43039f924a8bfbefde43": {
          "model_module": "@jupyter-widgets/controls",
          "model_name": "ProgressStyleModel",
          "model_module_version": "1.5.0",
          "state": {
            "_model_module": "@jupyter-widgets/controls",
            "_model_module_version": "1.5.0",
            "_model_name": "ProgressStyleModel",
            "_view_count": null,
            "_view_module": "@jupyter-widgets/base",
            "_view_module_version": "1.2.0",
            "_view_name": "StyleView",
            "bar_color": null,
            "description_width": ""
          }
        },
        "b8791c5ce2b84b81a44a32440856620f": {
          "model_module": "@jupyter-widgets/base",
          "model_name": "LayoutModel",
          "model_module_version": "1.2.0",
          "state": {
            "_model_module": "@jupyter-widgets/base",
            "_model_module_version": "1.2.0",
            "_model_name": "LayoutModel",
            "_view_count": null,
            "_view_module": "@jupyter-widgets/base",
            "_view_module_version": "1.2.0",
            "_view_name": "LayoutView",
            "align_content": null,
            "align_items": null,
            "align_self": null,
            "border": null,
            "bottom": null,
            "display": null,
            "flex": null,
            "flex_flow": null,
            "grid_area": null,
            "grid_auto_columns": null,
            "grid_auto_flow": null,
            "grid_auto_rows": null,
            "grid_column": null,
            "grid_gap": null,
            "grid_row": null,
            "grid_template_areas": null,
            "grid_template_columns": null,
            "grid_template_rows": null,
            "height": null,
            "justify_content": null,
            "justify_items": null,
            "left": null,
            "margin": null,
            "max_height": null,
            "max_width": null,
            "min_height": null,
            "min_width": null,
            "object_fit": null,
            "object_position": null,
            "order": null,
            "overflow": null,
            "overflow_x": null,
            "overflow_y": null,
            "padding": null,
            "right": null,
            "top": null,
            "visibility": null,
            "width": null
          }
        },
        "6a6ff65f9f3b452082c8b0cc1a8efd03": {
          "model_module": "@jupyter-widgets/controls",
          "model_name": "DescriptionStyleModel",
          "model_module_version": "1.5.0",
          "state": {
            "_model_module": "@jupyter-widgets/controls",
            "_model_module_version": "1.5.0",
            "_model_name": "DescriptionStyleModel",
            "_view_count": null,
            "_view_module": "@jupyter-widgets/base",
            "_view_module_version": "1.2.0",
            "_view_name": "StyleView",
            "description_width": ""
          }
        },
        "b61a8fe92aab4525b09bab226b77a3bd": {
          "model_module": "@jupyter-widgets/controls",
          "model_name": "HBoxModel",
          "model_module_version": "1.5.0",
          "state": {
            "_dom_classes": [],
            "_model_module": "@jupyter-widgets/controls",
            "_model_module_version": "1.5.0",
            "_model_name": "HBoxModel",
            "_view_count": null,
            "_view_module": "@jupyter-widgets/controls",
            "_view_module_version": "1.5.0",
            "_view_name": "HBoxView",
            "box_style": "",
            "children": [
              "IPY_MODEL_2503083645ab40e0bcec61afd96f5c72",
              "IPY_MODEL_c964aa6916114844aad5ce0c703f629a",
              "IPY_MODEL_195b19a2579e4dbfa6a0cb076855e394"
            ],
            "layout": "IPY_MODEL_caff4eb4e1fc44f0a65db3c4d49a13fd"
          }
        },
        "2503083645ab40e0bcec61afd96f5c72": {
          "model_module": "@jupyter-widgets/controls",
          "model_name": "HTMLModel",
          "model_module_version": "1.5.0",
          "state": {
            "_dom_classes": [],
            "_model_module": "@jupyter-widgets/controls",
            "_model_module_version": "1.5.0",
            "_model_name": "HTMLModel",
            "_view_count": null,
            "_view_module": "@jupyter-widgets/controls",
            "_view_module_version": "1.5.0",
            "_view_name": "HTMLView",
            "description": "",
            "description_tooltip": null,
            "layout": "IPY_MODEL_f0dc0a4efd684a80b57891e4bcd5c39e",
            "placeholder": "​",
            "style": "IPY_MODEL_a2d4c6fd7ed1482b9a723a59e258e222",
            "value": "preprocessor_config.json: 100%"
          }
        },
        "c964aa6916114844aad5ce0c703f629a": {
          "model_module": "@jupyter-widgets/controls",
          "model_name": "FloatProgressModel",
          "model_module_version": "1.5.0",
          "state": {
            "_dom_classes": [],
            "_model_module": "@jupyter-widgets/controls",
            "_model_module_version": "1.5.0",
            "_model_name": "FloatProgressModel",
            "_view_count": null,
            "_view_module": "@jupyter-widgets/controls",
            "_view_module_version": "1.5.0",
            "_view_name": "ProgressView",
            "bar_style": "success",
            "description": "",
            "description_tooltip": null,
            "layout": "IPY_MODEL_9e0c845eb75d469e832798a78795280a",
            "max": 340,
            "min": 0,
            "orientation": "horizontal",
            "style": "IPY_MODEL_14516608e33f421187568acb2e249395",
            "value": 340
          }
        },
        "195b19a2579e4dbfa6a0cb076855e394": {
          "model_module": "@jupyter-widgets/controls",
          "model_name": "HTMLModel",
          "model_module_version": "1.5.0",
          "state": {
            "_dom_classes": [],
            "_model_module": "@jupyter-widgets/controls",
            "_model_module_version": "1.5.0",
            "_model_name": "HTMLModel",
            "_view_count": null,
            "_view_module": "@jupyter-widgets/controls",
            "_view_module_version": "1.5.0",
            "_view_name": "HTMLView",
            "description": "",
            "description_tooltip": null,
            "layout": "IPY_MODEL_d3925b2e6b8348299bfc939a7ccac6ac",
            "placeholder": "​",
            "style": "IPY_MODEL_03392a2b63394dbf9655450c48855c4b",
            "value": " 340/340 [00:00&lt;00:00, 22.7kB/s]"
          }
        },
        "caff4eb4e1fc44f0a65db3c4d49a13fd": {
          "model_module": "@jupyter-widgets/base",
          "model_name": "LayoutModel",
          "model_module_version": "1.2.0",
          "state": {
            "_model_module": "@jupyter-widgets/base",
            "_model_module_version": "1.2.0",
            "_model_name": "LayoutModel",
            "_view_count": null,
            "_view_module": "@jupyter-widgets/base",
            "_view_module_version": "1.2.0",
            "_view_name": "LayoutView",
            "align_content": null,
            "align_items": null,
            "align_self": null,
            "border": null,
            "bottom": null,
            "display": null,
            "flex": null,
            "flex_flow": null,
            "grid_area": null,
            "grid_auto_columns": null,
            "grid_auto_flow": null,
            "grid_auto_rows": null,
            "grid_column": null,
            "grid_gap": null,
            "grid_row": null,
            "grid_template_areas": null,
            "grid_template_columns": null,
            "grid_template_rows": null,
            "height": null,
            "justify_content": null,
            "justify_items": null,
            "left": null,
            "margin": null,
            "max_height": null,
            "max_width": null,
            "min_height": null,
            "min_width": null,
            "object_fit": null,
            "object_position": null,
            "order": null,
            "overflow": null,
            "overflow_x": null,
            "overflow_y": null,
            "padding": null,
            "right": null,
            "top": null,
            "visibility": null,
            "width": null
          }
        },
        "f0dc0a4efd684a80b57891e4bcd5c39e": {
          "model_module": "@jupyter-widgets/base",
          "model_name": "LayoutModel",
          "model_module_version": "1.2.0",
          "state": {
            "_model_module": "@jupyter-widgets/base",
            "_model_module_version": "1.2.0",
            "_model_name": "LayoutModel",
            "_view_count": null,
            "_view_module": "@jupyter-widgets/base",
            "_view_module_version": "1.2.0",
            "_view_name": "LayoutView",
            "align_content": null,
            "align_items": null,
            "align_self": null,
            "border": null,
            "bottom": null,
            "display": null,
            "flex": null,
            "flex_flow": null,
            "grid_area": null,
            "grid_auto_columns": null,
            "grid_auto_flow": null,
            "grid_auto_rows": null,
            "grid_column": null,
            "grid_gap": null,
            "grid_row": null,
            "grid_template_areas": null,
            "grid_template_columns": null,
            "grid_template_rows": null,
            "height": null,
            "justify_content": null,
            "justify_items": null,
            "left": null,
            "margin": null,
            "max_height": null,
            "max_width": null,
            "min_height": null,
            "min_width": null,
            "object_fit": null,
            "object_position": null,
            "order": null,
            "overflow": null,
            "overflow_x": null,
            "overflow_y": null,
            "padding": null,
            "right": null,
            "top": null,
            "visibility": null,
            "width": null
          }
        },
        "a2d4c6fd7ed1482b9a723a59e258e222": {
          "model_module": "@jupyter-widgets/controls",
          "model_name": "DescriptionStyleModel",
          "model_module_version": "1.5.0",
          "state": {
            "_model_module": "@jupyter-widgets/controls",
            "_model_module_version": "1.5.0",
            "_model_name": "DescriptionStyleModel",
            "_view_count": null,
            "_view_module": "@jupyter-widgets/base",
            "_view_module_version": "1.2.0",
            "_view_name": "StyleView",
            "description_width": ""
          }
        },
        "9e0c845eb75d469e832798a78795280a": {
          "model_module": "@jupyter-widgets/base",
          "model_name": "LayoutModel",
          "model_module_version": "1.2.0",
          "state": {
            "_model_module": "@jupyter-widgets/base",
            "_model_module_version": "1.2.0",
            "_model_name": "LayoutModel",
            "_view_count": null,
            "_view_module": "@jupyter-widgets/base",
            "_view_module_version": "1.2.0",
            "_view_name": "LayoutView",
            "align_content": null,
            "align_items": null,
            "align_self": null,
            "border": null,
            "bottom": null,
            "display": null,
            "flex": null,
            "flex_flow": null,
            "grid_area": null,
            "grid_auto_columns": null,
            "grid_auto_flow": null,
            "grid_auto_rows": null,
            "grid_column": null,
            "grid_gap": null,
            "grid_row": null,
            "grid_template_areas": null,
            "grid_template_columns": null,
            "grid_template_rows": null,
            "height": null,
            "justify_content": null,
            "justify_items": null,
            "left": null,
            "margin": null,
            "max_height": null,
            "max_width": null,
            "min_height": null,
            "min_width": null,
            "object_fit": null,
            "object_position": null,
            "order": null,
            "overflow": null,
            "overflow_x": null,
            "overflow_y": null,
            "padding": null,
            "right": null,
            "top": null,
            "visibility": null,
            "width": null
          }
        },
        "14516608e33f421187568acb2e249395": {
          "model_module": "@jupyter-widgets/controls",
          "model_name": "ProgressStyleModel",
          "model_module_version": "1.5.0",
          "state": {
            "_model_module": "@jupyter-widgets/controls",
            "_model_module_version": "1.5.0",
            "_model_name": "ProgressStyleModel",
            "_view_count": null,
            "_view_module": "@jupyter-widgets/base",
            "_view_module_version": "1.2.0",
            "_view_name": "StyleView",
            "bar_color": null,
            "description_width": ""
          }
        },
        "d3925b2e6b8348299bfc939a7ccac6ac": {
          "model_module": "@jupyter-widgets/base",
          "model_name": "LayoutModel",
          "model_module_version": "1.2.0",
          "state": {
            "_model_module": "@jupyter-widgets/base",
            "_model_module_version": "1.2.0",
            "_model_name": "LayoutModel",
            "_view_count": null,
            "_view_module": "@jupyter-widgets/base",
            "_view_module_version": "1.2.0",
            "_view_name": "LayoutView",
            "align_content": null,
            "align_items": null,
            "align_self": null,
            "border": null,
            "bottom": null,
            "display": null,
            "flex": null,
            "flex_flow": null,
            "grid_area": null,
            "grid_auto_columns": null,
            "grid_auto_flow": null,
            "grid_auto_rows": null,
            "grid_column": null,
            "grid_gap": null,
            "grid_row": null,
            "grid_template_areas": null,
            "grid_template_columns": null,
            "grid_template_rows": null,
            "height": null,
            "justify_content": null,
            "justify_items": null,
            "left": null,
            "margin": null,
            "max_height": null,
            "max_width": null,
            "min_height": null,
            "min_width": null,
            "object_fit": null,
            "object_position": null,
            "order": null,
            "overflow": null,
            "overflow_x": null,
            "overflow_y": null,
            "padding": null,
            "right": null,
            "top": null,
            "visibility": null,
            "width": null
          }
        },
        "03392a2b63394dbf9655450c48855c4b": {
          "model_module": "@jupyter-widgets/controls",
          "model_name": "DescriptionStyleModel",
          "model_module_version": "1.5.0",
          "state": {
            "_model_module": "@jupyter-widgets/controls",
            "_model_module_version": "1.5.0",
            "_model_name": "DescriptionStyleModel",
            "_view_count": null,
            "_view_module": "@jupyter-widgets/base",
            "_view_module_version": "1.2.0",
            "_view_name": "StyleView",
            "description_width": ""
          }
        },
        "341c1b9d37c44d2dbcca2cf06b2ae2a5": {
          "model_module": "@jupyter-widgets/controls",
          "model_name": "HBoxModel",
          "model_module_version": "1.5.0",
          "state": {
            "_dom_classes": [],
            "_model_module": "@jupyter-widgets/controls",
            "_model_module_version": "1.5.0",
            "_model_name": "HBoxModel",
            "_view_count": null,
            "_view_module": "@jupyter-widgets/controls",
            "_view_module_version": "1.5.0",
            "_view_name": "HBoxView",
            "box_style": "",
            "children": [
              "IPY_MODEL_bb7c4d447eaf4a76a597cf98bb964d22",
              "IPY_MODEL_fa74b33286f6450282d8c88d0823400c",
              "IPY_MODEL_430904674571459a9ef05dd172a6e81a"
            ],
            "layout": "IPY_MODEL_61ad19c362a74d79b20f26805c0f0396"
          }
        },
        "bb7c4d447eaf4a76a597cf98bb964d22": {
          "model_module": "@jupyter-widgets/controls",
          "model_name": "HTMLModel",
          "model_module_version": "1.5.0",
          "state": {
            "_dom_classes": [],
            "_model_module": "@jupyter-widgets/controls",
            "_model_module_version": "1.5.0",
            "_model_name": "HTMLModel",
            "_view_count": null,
            "_view_module": "@jupyter-widgets/controls",
            "_view_module_version": "1.5.0",
            "_view_name": "HTMLView",
            "description": "",
            "description_tooltip": null,
            "layout": "IPY_MODEL_9f5075193e694026b02b040f87703fdc",
            "placeholder": "​",
            "style": "IPY_MODEL_2693d0ad57f74213a55975d90165a58a",
            "value": "tokenizer_config.json: 100%"
          }
        },
        "fa74b33286f6450282d8c88d0823400c": {
          "model_module": "@jupyter-widgets/controls",
          "model_name": "FloatProgressModel",
          "model_module_version": "1.5.0",
          "state": {
            "_dom_classes": [],
            "_model_module": "@jupyter-widgets/controls",
            "_model_module_version": "1.5.0",
            "_model_name": "FloatProgressModel",
            "_view_count": null,
            "_view_module": "@jupyter-widgets/controls",
            "_view_module_version": "1.5.0",
            "_view_name": "ProgressView",
            "bar_style": "success",
            "description": "",
            "description_tooltip": null,
            "layout": "IPY_MODEL_fe7dfc5824544fef87eec6e404bc68bb",
            "max": 282843,
            "min": 0,
            "orientation": "horizontal",
            "style": "IPY_MODEL_b53bd72a9e144d8ab607df0dc3b2981c",
            "value": 282843
          }
        },
        "430904674571459a9ef05dd172a6e81a": {
          "model_module": "@jupyter-widgets/controls",
          "model_name": "HTMLModel",
          "model_module_version": "1.5.0",
          "state": {
            "_dom_classes": [],
            "_model_module": "@jupyter-widgets/controls",
            "_model_module_version": "1.5.0",
            "_model_name": "HTMLModel",
            "_view_count": null,
            "_view_module": "@jupyter-widgets/controls",
            "_view_module_version": "1.5.0",
            "_view_name": "HTMLView",
            "description": "",
            "description_tooltip": null,
            "layout": "IPY_MODEL_afed96a4ee784255a3e07da72a6dca51",
            "placeholder": "​",
            "style": "IPY_MODEL_a6a148fc5d83457bad90e72c9f37bd7d",
            "value": " 283k/283k [00:00&lt;00:00, 9.23MB/s]"
          }
        },
        "61ad19c362a74d79b20f26805c0f0396": {
          "model_module": "@jupyter-widgets/base",
          "model_name": "LayoutModel",
          "model_module_version": "1.2.0",
          "state": {
            "_model_module": "@jupyter-widgets/base",
            "_model_module_version": "1.2.0",
            "_model_name": "LayoutModel",
            "_view_count": null,
            "_view_module": "@jupyter-widgets/base",
            "_view_module_version": "1.2.0",
            "_view_name": "LayoutView",
            "align_content": null,
            "align_items": null,
            "align_self": null,
            "border": null,
            "bottom": null,
            "display": null,
            "flex": null,
            "flex_flow": null,
            "grid_area": null,
            "grid_auto_columns": null,
            "grid_auto_flow": null,
            "grid_auto_rows": null,
            "grid_column": null,
            "grid_gap": null,
            "grid_row": null,
            "grid_template_areas": null,
            "grid_template_columns": null,
            "grid_template_rows": null,
            "height": null,
            "justify_content": null,
            "justify_items": null,
            "left": null,
            "margin": null,
            "max_height": null,
            "max_width": null,
            "min_height": null,
            "min_width": null,
            "object_fit": null,
            "object_position": null,
            "order": null,
            "overflow": null,
            "overflow_x": null,
            "overflow_y": null,
            "padding": null,
            "right": null,
            "top": null,
            "visibility": null,
            "width": null
          }
        },
        "9f5075193e694026b02b040f87703fdc": {
          "model_module": "@jupyter-widgets/base",
          "model_name": "LayoutModel",
          "model_module_version": "1.2.0",
          "state": {
            "_model_module": "@jupyter-widgets/base",
            "_model_module_version": "1.2.0",
            "_model_name": "LayoutModel",
            "_view_count": null,
            "_view_module": "@jupyter-widgets/base",
            "_view_module_version": "1.2.0",
            "_view_name": "LayoutView",
            "align_content": null,
            "align_items": null,
            "align_self": null,
            "border": null,
            "bottom": null,
            "display": null,
            "flex": null,
            "flex_flow": null,
            "grid_area": null,
            "grid_auto_columns": null,
            "grid_auto_flow": null,
            "grid_auto_rows": null,
            "grid_column": null,
            "grid_gap": null,
            "grid_row": null,
            "grid_template_areas": null,
            "grid_template_columns": null,
            "grid_template_rows": null,
            "height": null,
            "justify_content": null,
            "justify_items": null,
            "left": null,
            "margin": null,
            "max_height": null,
            "max_width": null,
            "min_height": null,
            "min_width": null,
            "object_fit": null,
            "object_position": null,
            "order": null,
            "overflow": null,
            "overflow_x": null,
            "overflow_y": null,
            "padding": null,
            "right": null,
            "top": null,
            "visibility": null,
            "width": null
          }
        },
        "2693d0ad57f74213a55975d90165a58a": {
          "model_module": "@jupyter-widgets/controls",
          "model_name": "DescriptionStyleModel",
          "model_module_version": "1.5.0",
          "state": {
            "_model_module": "@jupyter-widgets/controls",
            "_model_module_version": "1.5.0",
            "_model_name": "DescriptionStyleModel",
            "_view_count": null,
            "_view_module": "@jupyter-widgets/base",
            "_view_module_version": "1.2.0",
            "_view_name": "StyleView",
            "description_width": ""
          }
        },
        "fe7dfc5824544fef87eec6e404bc68bb": {
          "model_module": "@jupyter-widgets/base",
          "model_name": "LayoutModel",
          "model_module_version": "1.2.0",
          "state": {
            "_model_module": "@jupyter-widgets/base",
            "_model_module_version": "1.2.0",
            "_model_name": "LayoutModel",
            "_view_count": null,
            "_view_module": "@jupyter-widgets/base",
            "_view_module_version": "1.2.0",
            "_view_name": "LayoutView",
            "align_content": null,
            "align_items": null,
            "align_self": null,
            "border": null,
            "bottom": null,
            "display": null,
            "flex": null,
            "flex_flow": null,
            "grid_area": null,
            "grid_auto_columns": null,
            "grid_auto_flow": null,
            "grid_auto_rows": null,
            "grid_column": null,
            "grid_gap": null,
            "grid_row": null,
            "grid_template_areas": null,
            "grid_template_columns": null,
            "grid_template_rows": null,
            "height": null,
            "justify_content": null,
            "justify_items": null,
            "left": null,
            "margin": null,
            "max_height": null,
            "max_width": null,
            "min_height": null,
            "min_width": null,
            "object_fit": null,
            "object_position": null,
            "order": null,
            "overflow": null,
            "overflow_x": null,
            "overflow_y": null,
            "padding": null,
            "right": null,
            "top": null,
            "visibility": null,
            "width": null
          }
        },
        "b53bd72a9e144d8ab607df0dc3b2981c": {
          "model_module": "@jupyter-widgets/controls",
          "model_name": "ProgressStyleModel",
          "model_module_version": "1.5.0",
          "state": {
            "_model_module": "@jupyter-widgets/controls",
            "_model_module_version": "1.5.0",
            "_model_name": "ProgressStyleModel",
            "_view_count": null,
            "_view_module": "@jupyter-widgets/base",
            "_view_module_version": "1.2.0",
            "_view_name": "StyleView",
            "bar_color": null,
            "description_width": ""
          }
        },
        "afed96a4ee784255a3e07da72a6dca51": {
          "model_module": "@jupyter-widgets/base",
          "model_name": "LayoutModel",
          "model_module_version": "1.2.0",
          "state": {
            "_model_module": "@jupyter-widgets/base",
            "_model_module_version": "1.2.0",
            "_model_name": "LayoutModel",
            "_view_count": null,
            "_view_module": "@jupyter-widgets/base",
            "_view_module_version": "1.2.0",
            "_view_name": "LayoutView",
            "align_content": null,
            "align_items": null,
            "align_self": null,
            "border": null,
            "bottom": null,
            "display": null,
            "flex": null,
            "flex_flow": null,
            "grid_area": null,
            "grid_auto_columns": null,
            "grid_auto_flow": null,
            "grid_auto_rows": null,
            "grid_column": null,
            "grid_gap": null,
            "grid_row": null,
            "grid_template_areas": null,
            "grid_template_columns": null,
            "grid_template_rows": null,
            "height": null,
            "justify_content": null,
            "justify_items": null,
            "left": null,
            "margin": null,
            "max_height": null,
            "max_width": null,
            "min_height": null,
            "min_width": null,
            "object_fit": null,
            "object_position": null,
            "order": null,
            "overflow": null,
            "overflow_x": null,
            "overflow_y": null,
            "padding": null,
            "right": null,
            "top": null,
            "visibility": null,
            "width": null
          }
        },
        "a6a148fc5d83457bad90e72c9f37bd7d": {
          "model_module": "@jupyter-widgets/controls",
          "model_name": "DescriptionStyleModel",
          "model_module_version": "1.5.0",
          "state": {
            "_model_module": "@jupyter-widgets/controls",
            "_model_module_version": "1.5.0",
            "_model_name": "DescriptionStyleModel",
            "_view_count": null,
            "_view_module": "@jupyter-widgets/base",
            "_view_module_version": "1.2.0",
            "_view_name": "StyleView",
            "description_width": ""
          }
        },
        "168406d76e6f466681deaf5b5025a195": {
          "model_module": "@jupyter-widgets/controls",
          "model_name": "HBoxModel",
          "model_module_version": "1.5.0",
          "state": {
            "_dom_classes": [],
            "_model_module": "@jupyter-widgets/controls",
            "_model_module_version": "1.5.0",
            "_model_name": "HBoxModel",
            "_view_count": null,
            "_view_module": "@jupyter-widgets/controls",
            "_view_module_version": "1.5.0",
            "_view_name": "HBoxView",
            "box_style": "",
            "children": [
              "IPY_MODEL_84bc8efea0854b40a07fce444e189396",
              "IPY_MODEL_b2828c8660c842458e10c648820e413f",
              "IPY_MODEL_9a1ecf0c3b67450294b7d04288864063"
            ],
            "layout": "IPY_MODEL_e9687875fc184e969934401eafe58d07"
          }
        },
        "84bc8efea0854b40a07fce444e189396": {
          "model_module": "@jupyter-widgets/controls",
          "model_name": "HTMLModel",
          "model_module_version": "1.5.0",
          "state": {
            "_dom_classes": [],
            "_model_module": "@jupyter-widgets/controls",
            "_model_module_version": "1.5.0",
            "_model_name": "HTMLModel",
            "_view_count": null,
            "_view_module": "@jupyter-widgets/controls",
            "_view_module_version": "1.5.0",
            "_view_name": "HTMLView",
            "description": "",
            "description_tooltip": null,
            "layout": "IPY_MODEL_e3b86ea1a12341b1aceed5f26a3b1771",
            "placeholder": "​",
            "style": "IPY_MODEL_12e6bc9d073d46ca9c26bc15dc64603c",
            "value": "vocab.json: 100%"
          }
        },
        "b2828c8660c842458e10c648820e413f": {
          "model_module": "@jupyter-widgets/controls",
          "model_name": "FloatProgressModel",
          "model_module_version": "1.5.0",
          "state": {
            "_dom_classes": [],
            "_model_module": "@jupyter-widgets/controls",
            "_model_module_version": "1.5.0",
            "_model_name": "FloatProgressModel",
            "_view_count": null,
            "_view_module": "@jupyter-widgets/controls",
            "_view_module_version": "1.5.0",
            "_view_name": "ProgressView",
            "bar_style": "success",
            "description": "",
            "description_tooltip": null,
            "layout": "IPY_MODEL_2e79b6e1a95142a8a3a02fca5b450c7f",
            "max": 1036558,
            "min": 0,
            "orientation": "horizontal",
            "style": "IPY_MODEL_54175222b3244570b39bd711ee7ad8cf",
            "value": 1036558
          }
        },
        "9a1ecf0c3b67450294b7d04288864063": {
          "model_module": "@jupyter-widgets/controls",
          "model_name": "HTMLModel",
          "model_module_version": "1.5.0",
          "state": {
            "_dom_classes": [],
            "_model_module": "@jupyter-widgets/controls",
            "_model_module_version": "1.5.0",
            "_model_name": "HTMLModel",
            "_view_count": null,
            "_view_module": "@jupyter-widgets/controls",
            "_view_module_version": "1.5.0",
            "_view_name": "HTMLView",
            "description": "",
            "description_tooltip": null,
            "layout": "IPY_MODEL_b8d2ef6b3efa4336aa4b33b23349c30e",
            "placeholder": "​",
            "style": "IPY_MODEL_453227606dcd43558dd39464845636e4",
            "value": " 1.04M/1.04M [00:00&lt;00:00, 13.2MB/s]"
          }
        },
        "e9687875fc184e969934401eafe58d07": {
          "model_module": "@jupyter-widgets/base",
          "model_name": "LayoutModel",
          "model_module_version": "1.2.0",
          "state": {
            "_model_module": "@jupyter-widgets/base",
            "_model_module_version": "1.2.0",
            "_model_name": "LayoutModel",
            "_view_count": null,
            "_view_module": "@jupyter-widgets/base",
            "_view_module_version": "1.2.0",
            "_view_name": "LayoutView",
            "align_content": null,
            "align_items": null,
            "align_self": null,
            "border": null,
            "bottom": null,
            "display": null,
            "flex": null,
            "flex_flow": null,
            "grid_area": null,
            "grid_auto_columns": null,
            "grid_auto_flow": null,
            "grid_auto_rows": null,
            "grid_column": null,
            "grid_gap": null,
            "grid_row": null,
            "grid_template_areas": null,
            "grid_template_columns": null,
            "grid_template_rows": null,
            "height": null,
            "justify_content": null,
            "justify_items": null,
            "left": null,
            "margin": null,
            "max_height": null,
            "max_width": null,
            "min_height": null,
            "min_width": null,
            "object_fit": null,
            "object_position": null,
            "order": null,
            "overflow": null,
            "overflow_x": null,
            "overflow_y": null,
            "padding": null,
            "right": null,
            "top": null,
            "visibility": null,
            "width": null
          }
        },
        "e3b86ea1a12341b1aceed5f26a3b1771": {
          "model_module": "@jupyter-widgets/base",
          "model_name": "LayoutModel",
          "model_module_version": "1.2.0",
          "state": {
            "_model_module": "@jupyter-widgets/base",
            "_model_module_version": "1.2.0",
            "_model_name": "LayoutModel",
            "_view_count": null,
            "_view_module": "@jupyter-widgets/base",
            "_view_module_version": "1.2.0",
            "_view_name": "LayoutView",
            "align_content": null,
            "align_items": null,
            "align_self": null,
            "border": null,
            "bottom": null,
            "display": null,
            "flex": null,
            "flex_flow": null,
            "grid_area": null,
            "grid_auto_columns": null,
            "grid_auto_flow": null,
            "grid_auto_rows": null,
            "grid_column": null,
            "grid_gap": null,
            "grid_row": null,
            "grid_template_areas": null,
            "grid_template_columns": null,
            "grid_template_rows": null,
            "height": null,
            "justify_content": null,
            "justify_items": null,
            "left": null,
            "margin": null,
            "max_height": null,
            "max_width": null,
            "min_height": null,
            "min_width": null,
            "object_fit": null,
            "object_position": null,
            "order": null,
            "overflow": null,
            "overflow_x": null,
            "overflow_y": null,
            "padding": null,
            "right": null,
            "top": null,
            "visibility": null,
            "width": null
          }
        },
        "12e6bc9d073d46ca9c26bc15dc64603c": {
          "model_module": "@jupyter-widgets/controls",
          "model_name": "DescriptionStyleModel",
          "model_module_version": "1.5.0",
          "state": {
            "_model_module": "@jupyter-widgets/controls",
            "_model_module_version": "1.5.0",
            "_model_name": "DescriptionStyleModel",
            "_view_count": null,
            "_view_module": "@jupyter-widgets/base",
            "_view_module_version": "1.2.0",
            "_view_name": "StyleView",
            "description_width": ""
          }
        },
        "2e79b6e1a95142a8a3a02fca5b450c7f": {
          "model_module": "@jupyter-widgets/base",
          "model_name": "LayoutModel",
          "model_module_version": "1.2.0",
          "state": {
            "_model_module": "@jupyter-widgets/base",
            "_model_module_version": "1.2.0",
            "_model_name": "LayoutModel",
            "_view_count": null,
            "_view_module": "@jupyter-widgets/base",
            "_view_module_version": "1.2.0",
            "_view_name": "LayoutView",
            "align_content": null,
            "align_items": null,
            "align_self": null,
            "border": null,
            "bottom": null,
            "display": null,
            "flex": null,
            "flex_flow": null,
            "grid_area": null,
            "grid_auto_columns": null,
            "grid_auto_flow": null,
            "grid_auto_rows": null,
            "grid_column": null,
            "grid_gap": null,
            "grid_row": null,
            "grid_template_areas": null,
            "grid_template_columns": null,
            "grid_template_rows": null,
            "height": null,
            "justify_content": null,
            "justify_items": null,
            "left": null,
            "margin": null,
            "max_height": null,
            "max_width": null,
            "min_height": null,
            "min_width": null,
            "object_fit": null,
            "object_position": null,
            "order": null,
            "overflow": null,
            "overflow_x": null,
            "overflow_y": null,
            "padding": null,
            "right": null,
            "top": null,
            "visibility": null,
            "width": null
          }
        },
        "54175222b3244570b39bd711ee7ad8cf": {
          "model_module": "@jupyter-widgets/controls",
          "model_name": "ProgressStyleModel",
          "model_module_version": "1.5.0",
          "state": {
            "_model_module": "@jupyter-widgets/controls",
            "_model_module_version": "1.5.0",
            "_model_name": "ProgressStyleModel",
            "_view_count": null,
            "_view_module": "@jupyter-widgets/base",
            "_view_module_version": "1.2.0",
            "_view_name": "StyleView",
            "bar_color": null,
            "description_width": ""
          }
        },
        "b8d2ef6b3efa4336aa4b33b23349c30e": {
          "model_module": "@jupyter-widgets/base",
          "model_name": "LayoutModel",
          "model_module_version": "1.2.0",
          "state": {
            "_model_module": "@jupyter-widgets/base",
            "_model_module_version": "1.2.0",
            "_model_name": "LayoutModel",
            "_view_count": null,
            "_view_module": "@jupyter-widgets/base",
            "_view_module_version": "1.2.0",
            "_view_name": "LayoutView",
            "align_content": null,
            "align_items": null,
            "align_self": null,
            "border": null,
            "bottom": null,
            "display": null,
            "flex": null,
            "flex_flow": null,
            "grid_area": null,
            "grid_auto_columns": null,
            "grid_auto_flow": null,
            "grid_auto_rows": null,
            "grid_column": null,
            "grid_gap": null,
            "grid_row": null,
            "grid_template_areas": null,
            "grid_template_columns": null,
            "grid_template_rows": null,
            "height": null,
            "justify_content": null,
            "justify_items": null,
            "left": null,
            "margin": null,
            "max_height": null,
            "max_width": null,
            "min_height": null,
            "min_width": null,
            "object_fit": null,
            "object_position": null,
            "order": null,
            "overflow": null,
            "overflow_x": null,
            "overflow_y": null,
            "padding": null,
            "right": null,
            "top": null,
            "visibility": null,
            "width": null
          }
        },
        "453227606dcd43558dd39464845636e4": {
          "model_module": "@jupyter-widgets/controls",
          "model_name": "DescriptionStyleModel",
          "model_module_version": "1.5.0",
          "state": {
            "_model_module": "@jupyter-widgets/controls",
            "_model_module_version": "1.5.0",
            "_model_name": "DescriptionStyleModel",
            "_view_count": null,
            "_view_module": "@jupyter-widgets/base",
            "_view_module_version": "1.2.0",
            "_view_name": "StyleView",
            "description_width": ""
          }
        },
        "5d2cba639c8642f9a879c33a342d53e4": {
          "model_module": "@jupyter-widgets/controls",
          "model_name": "HBoxModel",
          "model_module_version": "1.5.0",
          "state": {
            "_dom_classes": [],
            "_model_module": "@jupyter-widgets/controls",
            "_model_module_version": "1.5.0",
            "_model_name": "HBoxModel",
            "_view_count": null,
            "_view_module": "@jupyter-widgets/controls",
            "_view_module_version": "1.5.0",
            "_view_name": "HBoxView",
            "box_style": "",
            "children": [
              "IPY_MODEL_e40663f30a8942b793447addc3b1a699",
              "IPY_MODEL_2fd7070877bc4c2a896fbe99237e39e0",
              "IPY_MODEL_28fc794be47c48d8a33d84a69f3c60fd"
            ],
            "layout": "IPY_MODEL_eabc45cd50234c29b85f89ee6413b771"
          }
        },
        "e40663f30a8942b793447addc3b1a699": {
          "model_module": "@jupyter-widgets/controls",
          "model_name": "HTMLModel",
          "model_module_version": "1.5.0",
          "state": {
            "_dom_classes": [],
            "_model_module": "@jupyter-widgets/controls",
            "_model_module_version": "1.5.0",
            "_model_name": "HTMLModel",
            "_view_count": null,
            "_view_module": "@jupyter-widgets/controls",
            "_view_module_version": "1.5.0",
            "_view_name": "HTMLView",
            "description": "",
            "description_tooltip": null,
            "layout": "IPY_MODEL_8f8ccf73305246fcb95de49c0aca307e",
            "placeholder": "​",
            "style": "IPY_MODEL_478b5a81681049d79c6f9b3e937d20eb",
            "value": "tokenizer.json: 100%"
          }
        },
        "2fd7070877bc4c2a896fbe99237e39e0": {
          "model_module": "@jupyter-widgets/controls",
          "model_name": "FloatProgressModel",
          "model_module_version": "1.5.0",
          "state": {
            "_dom_classes": [],
            "_model_module": "@jupyter-widgets/controls",
            "_model_module_version": "1.5.0",
            "_model_name": "FloatProgressModel",
            "_view_count": null,
            "_view_module": "@jupyter-widgets/controls",
            "_view_module_version": "1.5.0",
            "_view_name": "ProgressView",
            "bar_style": "success",
            "description": "",
            "description_tooltip": null,
            "layout": "IPY_MODEL_2aaf641021cc41c0ac873b7389db0a2c",
            "max": 2480617,
            "min": 0,
            "orientation": "horizontal",
            "style": "IPY_MODEL_959c5de70ff1475798c27bf09e89f84c",
            "value": 2480617
          }
        },
        "28fc794be47c48d8a33d84a69f3c60fd": {
          "model_module": "@jupyter-widgets/controls",
          "model_name": "HTMLModel",
          "model_module_version": "1.5.0",
          "state": {
            "_dom_classes": [],
            "_model_module": "@jupyter-widgets/controls",
            "_model_module_version": "1.5.0",
            "_model_name": "HTMLModel",
            "_view_count": null,
            "_view_module": "@jupyter-widgets/controls",
            "_view_module_version": "1.5.0",
            "_view_name": "HTMLView",
            "description": "",
            "description_tooltip": null,
            "layout": "IPY_MODEL_b167e96e0cf541f494794a6585acc84b",
            "placeholder": "​",
            "style": "IPY_MODEL_a96e4b9bf3fb4d0cbc6475e788fb1e99",
            "value": " 2.48M/2.48M [00:00&lt;00:00, 12.4MB/s]"
          }
        },
        "eabc45cd50234c29b85f89ee6413b771": {
          "model_module": "@jupyter-widgets/base",
          "model_name": "LayoutModel",
          "model_module_version": "1.2.0",
          "state": {
            "_model_module": "@jupyter-widgets/base",
            "_model_module_version": "1.2.0",
            "_model_name": "LayoutModel",
            "_view_count": null,
            "_view_module": "@jupyter-widgets/base",
            "_view_module_version": "1.2.0",
            "_view_name": "LayoutView",
            "align_content": null,
            "align_items": null,
            "align_self": null,
            "border": null,
            "bottom": null,
            "display": null,
            "flex": null,
            "flex_flow": null,
            "grid_area": null,
            "grid_auto_columns": null,
            "grid_auto_flow": null,
            "grid_auto_rows": null,
            "grid_column": null,
            "grid_gap": null,
            "grid_row": null,
            "grid_template_areas": null,
            "grid_template_columns": null,
            "grid_template_rows": null,
            "height": null,
            "justify_content": null,
            "justify_items": null,
            "left": null,
            "margin": null,
            "max_height": null,
            "max_width": null,
            "min_height": null,
            "min_width": null,
            "object_fit": null,
            "object_position": null,
            "order": null,
            "overflow": null,
            "overflow_x": null,
            "overflow_y": null,
            "padding": null,
            "right": null,
            "top": null,
            "visibility": null,
            "width": null
          }
        },
        "8f8ccf73305246fcb95de49c0aca307e": {
          "model_module": "@jupyter-widgets/base",
          "model_name": "LayoutModel",
          "model_module_version": "1.2.0",
          "state": {
            "_model_module": "@jupyter-widgets/base",
            "_model_module_version": "1.2.0",
            "_model_name": "LayoutModel",
            "_view_count": null,
            "_view_module": "@jupyter-widgets/base",
            "_view_module_version": "1.2.0",
            "_view_name": "LayoutView",
            "align_content": null,
            "align_items": null,
            "align_self": null,
            "border": null,
            "bottom": null,
            "display": null,
            "flex": null,
            "flex_flow": null,
            "grid_area": null,
            "grid_auto_columns": null,
            "grid_auto_flow": null,
            "grid_auto_rows": null,
            "grid_column": null,
            "grid_gap": null,
            "grid_row": null,
            "grid_template_areas": null,
            "grid_template_columns": null,
            "grid_template_rows": null,
            "height": null,
            "justify_content": null,
            "justify_items": null,
            "left": null,
            "margin": null,
            "max_height": null,
            "max_width": null,
            "min_height": null,
            "min_width": null,
            "object_fit": null,
            "object_position": null,
            "order": null,
            "overflow": null,
            "overflow_x": null,
            "overflow_y": null,
            "padding": null,
            "right": null,
            "top": null,
            "visibility": null,
            "width": null
          }
        },
        "478b5a81681049d79c6f9b3e937d20eb": {
          "model_module": "@jupyter-widgets/controls",
          "model_name": "DescriptionStyleModel",
          "model_module_version": "1.5.0",
          "state": {
            "_model_module": "@jupyter-widgets/controls",
            "_model_module_version": "1.5.0",
            "_model_name": "DescriptionStyleModel",
            "_view_count": null,
            "_view_module": "@jupyter-widgets/base",
            "_view_module_version": "1.2.0",
            "_view_name": "StyleView",
            "description_width": ""
          }
        },
        "2aaf641021cc41c0ac873b7389db0a2c": {
          "model_module": "@jupyter-widgets/base",
          "model_name": "LayoutModel",
          "model_module_version": "1.2.0",
          "state": {
            "_model_module": "@jupyter-widgets/base",
            "_model_module_version": "1.2.0",
            "_model_name": "LayoutModel",
            "_view_count": null,
            "_view_module": "@jupyter-widgets/base",
            "_view_module_version": "1.2.0",
            "_view_name": "LayoutView",
            "align_content": null,
            "align_items": null,
            "align_self": null,
            "border": null,
            "bottom": null,
            "display": null,
            "flex": null,
            "flex_flow": null,
            "grid_area": null,
            "grid_auto_columns": null,
            "grid_auto_flow": null,
            "grid_auto_rows": null,
            "grid_column": null,
            "grid_gap": null,
            "grid_row": null,
            "grid_template_areas": null,
            "grid_template_columns": null,
            "grid_template_rows": null,
            "height": null,
            "justify_content": null,
            "justify_items": null,
            "left": null,
            "margin": null,
            "max_height": null,
            "max_width": null,
            "min_height": null,
            "min_width": null,
            "object_fit": null,
            "object_position": null,
            "order": null,
            "overflow": null,
            "overflow_x": null,
            "overflow_y": null,
            "padding": null,
            "right": null,
            "top": null,
            "visibility": null,
            "width": null
          }
        },
        "959c5de70ff1475798c27bf09e89f84c": {
          "model_module": "@jupyter-widgets/controls",
          "model_name": "ProgressStyleModel",
          "model_module_version": "1.5.0",
          "state": {
            "_model_module": "@jupyter-widgets/controls",
            "_model_module_version": "1.5.0",
            "_model_name": "ProgressStyleModel",
            "_view_count": null,
            "_view_module": "@jupyter-widgets/base",
            "_view_module_version": "1.2.0",
            "_view_name": "StyleView",
            "bar_color": null,
            "description_width": ""
          }
        },
        "b167e96e0cf541f494794a6585acc84b": {
          "model_module": "@jupyter-widgets/base",
          "model_name": "LayoutModel",
          "model_module_version": "1.2.0",
          "state": {
            "_model_module": "@jupyter-widgets/base",
            "_model_module_version": "1.2.0",
            "_model_name": "LayoutModel",
            "_view_count": null,
            "_view_module": "@jupyter-widgets/base",
            "_view_module_version": "1.2.0",
            "_view_name": "LayoutView",
            "align_content": null,
            "align_items": null,
            "align_self": null,
            "border": null,
            "bottom": null,
            "display": null,
            "flex": null,
            "flex_flow": null,
            "grid_area": null,
            "grid_auto_columns": null,
            "grid_auto_flow": null,
            "grid_auto_rows": null,
            "grid_column": null,
            "grid_gap": null,
            "grid_row": null,
            "grid_template_areas": null,
            "grid_template_columns": null,
            "grid_template_rows": null,
            "height": null,
            "justify_content": null,
            "justify_items": null,
            "left": null,
            "margin": null,
            "max_height": null,
            "max_width": null,
            "min_height": null,
            "min_width": null,
            "object_fit": null,
            "object_position": null,
            "order": null,
            "overflow": null,
            "overflow_x": null,
            "overflow_y": null,
            "padding": null,
            "right": null,
            "top": null,
            "visibility": null,
            "width": null
          }
        },
        "a96e4b9bf3fb4d0cbc6475e788fb1e99": {
          "model_module": "@jupyter-widgets/controls",
          "model_name": "DescriptionStyleModel",
          "model_module_version": "1.5.0",
          "state": {
            "_model_module": "@jupyter-widgets/controls",
            "_model_module_version": "1.5.0",
            "_model_name": "DescriptionStyleModel",
            "_view_count": null,
            "_view_module": "@jupyter-widgets/base",
            "_view_module_version": "1.2.0",
            "_view_name": "StyleView",
            "description_width": ""
          }
        },
        "e11710173c5a4b59b6b3707916cd8070": {
          "model_module": "@jupyter-widgets/controls",
          "model_name": "HBoxModel",
          "model_module_version": "1.5.0",
          "state": {
            "_dom_classes": [],
            "_model_module": "@jupyter-widgets/controls",
            "_model_module_version": "1.5.0",
            "_model_name": "HBoxModel",
            "_view_count": null,
            "_view_module": "@jupyter-widgets/controls",
            "_view_module_version": "1.5.0",
            "_view_name": "HBoxView",
            "box_style": "",
            "children": [
              "IPY_MODEL_a5025f0e69064344a3c3dc96383b2b8e",
              "IPY_MODEL_c8c71b7a5a7d4826ab0f0e2e935962cb",
              "IPY_MODEL_76067ac6827e41c98e971897d26061f6"
            ],
            "layout": "IPY_MODEL_6847987381694d32828578febea2db1f"
          }
        },
        "a5025f0e69064344a3c3dc96383b2b8e": {
          "model_module": "@jupyter-widgets/controls",
          "model_name": "HTMLModel",
          "model_module_version": "1.5.0",
          "state": {
            "_dom_classes": [],
            "_model_module": "@jupyter-widgets/controls",
            "_model_module_version": "1.5.0",
            "_model_name": "HTMLModel",
            "_view_count": null,
            "_view_module": "@jupyter-widgets/controls",
            "_view_module_version": "1.5.0",
            "_view_name": "HTMLView",
            "description": "",
            "description_tooltip": null,
            "layout": "IPY_MODEL_e838f3d61b534ad2a220a7f5030531b5",
            "placeholder": "​",
            "style": "IPY_MODEL_24153224ef1a4bf69fad69ce44125ed4",
            "value": "merges.txt: 100%"
          }
        },
        "c8c71b7a5a7d4826ab0f0e2e935962cb": {
          "model_module": "@jupyter-widgets/controls",
          "model_name": "FloatProgressModel",
          "model_module_version": "1.5.0",
          "state": {
            "_dom_classes": [],
            "_model_module": "@jupyter-widgets/controls",
            "_model_module_version": "1.5.0",
            "_model_name": "FloatProgressModel",
            "_view_count": null,
            "_view_module": "@jupyter-widgets/controls",
            "_view_module_version": "1.5.0",
            "_view_name": "ProgressView",
            "bar_style": "success",
            "description": "",
            "description_tooltip": null,
            "layout": "IPY_MODEL_849c1f85a64f439aa8e8e86a7c398fa2",
            "max": 493869,
            "min": 0,
            "orientation": "horizontal",
            "style": "IPY_MODEL_d898dfd393ce4927a7e2feb23d930f14",
            "value": 493869
          }
        },
        "76067ac6827e41c98e971897d26061f6": {
          "model_module": "@jupyter-widgets/controls",
          "model_name": "HTMLModel",
          "model_module_version": "1.5.0",
          "state": {
            "_dom_classes": [],
            "_model_module": "@jupyter-widgets/controls",
            "_model_module_version": "1.5.0",
            "_model_name": "HTMLModel",
            "_view_count": null,
            "_view_module": "@jupyter-widgets/controls",
            "_view_module_version": "1.5.0",
            "_view_name": "HTMLView",
            "description": "",
            "description_tooltip": null,
            "layout": "IPY_MODEL_b6ff3ca24f16406a954fa0a5a1ab980e",
            "placeholder": "​",
            "style": "IPY_MODEL_42c09faa7b024278839674e6bc1f660c",
            "value": " 494k/494k [00:00&lt;00:00, 28.7MB/s]"
          }
        },
        "6847987381694d32828578febea2db1f": {
          "model_module": "@jupyter-widgets/base",
          "model_name": "LayoutModel",
          "model_module_version": "1.2.0",
          "state": {
            "_model_module": "@jupyter-widgets/base",
            "_model_module_version": "1.2.0",
            "_model_name": "LayoutModel",
            "_view_count": null,
            "_view_module": "@jupyter-widgets/base",
            "_view_module_version": "1.2.0",
            "_view_name": "LayoutView",
            "align_content": null,
            "align_items": null,
            "align_self": null,
            "border": null,
            "bottom": null,
            "display": null,
            "flex": null,
            "flex_flow": null,
            "grid_area": null,
            "grid_auto_columns": null,
            "grid_auto_flow": null,
            "grid_auto_rows": null,
            "grid_column": null,
            "grid_gap": null,
            "grid_row": null,
            "grid_template_areas": null,
            "grid_template_columns": null,
            "grid_template_rows": null,
            "height": null,
            "justify_content": null,
            "justify_items": null,
            "left": null,
            "margin": null,
            "max_height": null,
            "max_width": null,
            "min_height": null,
            "min_width": null,
            "object_fit": null,
            "object_position": null,
            "order": null,
            "overflow": null,
            "overflow_x": null,
            "overflow_y": null,
            "padding": null,
            "right": null,
            "top": null,
            "visibility": null,
            "width": null
          }
        },
        "e838f3d61b534ad2a220a7f5030531b5": {
          "model_module": "@jupyter-widgets/base",
          "model_name": "LayoutModel",
          "model_module_version": "1.2.0",
          "state": {
            "_model_module": "@jupyter-widgets/base",
            "_model_module_version": "1.2.0",
            "_model_name": "LayoutModel",
            "_view_count": null,
            "_view_module": "@jupyter-widgets/base",
            "_view_module_version": "1.2.0",
            "_view_name": "LayoutView",
            "align_content": null,
            "align_items": null,
            "align_self": null,
            "border": null,
            "bottom": null,
            "display": null,
            "flex": null,
            "flex_flow": null,
            "grid_area": null,
            "grid_auto_columns": null,
            "grid_auto_flow": null,
            "grid_auto_rows": null,
            "grid_column": null,
            "grid_gap": null,
            "grid_row": null,
            "grid_template_areas": null,
            "grid_template_columns": null,
            "grid_template_rows": null,
            "height": null,
            "justify_content": null,
            "justify_items": null,
            "left": null,
            "margin": null,
            "max_height": null,
            "max_width": null,
            "min_height": null,
            "min_width": null,
            "object_fit": null,
            "object_position": null,
            "order": null,
            "overflow": null,
            "overflow_x": null,
            "overflow_y": null,
            "padding": null,
            "right": null,
            "top": null,
            "visibility": null,
            "width": null
          }
        },
        "24153224ef1a4bf69fad69ce44125ed4": {
          "model_module": "@jupyter-widgets/controls",
          "model_name": "DescriptionStyleModel",
          "model_module_version": "1.5.0",
          "state": {
            "_model_module": "@jupyter-widgets/controls",
            "_model_module_version": "1.5.0",
            "_model_name": "DescriptionStyleModel",
            "_view_count": null,
            "_view_module": "@jupyter-widgets/base",
            "_view_module_version": "1.2.0",
            "_view_name": "StyleView",
            "description_width": ""
          }
        },
        "849c1f85a64f439aa8e8e86a7c398fa2": {
          "model_module": "@jupyter-widgets/base",
          "model_name": "LayoutModel",
          "model_module_version": "1.2.0",
          "state": {
            "_model_module": "@jupyter-widgets/base",
            "_model_module_version": "1.2.0",
            "_model_name": "LayoutModel",
            "_view_count": null,
            "_view_module": "@jupyter-widgets/base",
            "_view_module_version": "1.2.0",
            "_view_name": "LayoutView",
            "align_content": null,
            "align_items": null,
            "align_self": null,
            "border": null,
            "bottom": null,
            "display": null,
            "flex": null,
            "flex_flow": null,
            "grid_area": null,
            "grid_auto_columns": null,
            "grid_auto_flow": null,
            "grid_auto_rows": null,
            "grid_column": null,
            "grid_gap": null,
            "grid_row": null,
            "grid_template_areas": null,
            "grid_template_columns": null,
            "grid_template_rows": null,
            "height": null,
            "justify_content": null,
            "justify_items": null,
            "left": null,
            "margin": null,
            "max_height": null,
            "max_width": null,
            "min_height": null,
            "min_width": null,
            "object_fit": null,
            "object_position": null,
            "order": null,
            "overflow": null,
            "overflow_x": null,
            "overflow_y": null,
            "padding": null,
            "right": null,
            "top": null,
            "visibility": null,
            "width": null
          }
        },
        "d898dfd393ce4927a7e2feb23d930f14": {
          "model_module": "@jupyter-widgets/controls",
          "model_name": "ProgressStyleModel",
          "model_module_version": "1.5.0",
          "state": {
            "_model_module": "@jupyter-widgets/controls",
            "_model_module_version": "1.5.0",
            "_model_name": "ProgressStyleModel",
            "_view_count": null,
            "_view_module": "@jupyter-widgets/base",
            "_view_module_version": "1.2.0",
            "_view_name": "StyleView",
            "bar_color": null,
            "description_width": ""
          }
        },
        "b6ff3ca24f16406a954fa0a5a1ab980e": {
          "model_module": "@jupyter-widgets/base",
          "model_name": "LayoutModel",
          "model_module_version": "1.2.0",
          "state": {
            "_model_module": "@jupyter-widgets/base",
            "_model_module_version": "1.2.0",
            "_model_name": "LayoutModel",
            "_view_count": null,
            "_view_module": "@jupyter-widgets/base",
            "_view_module_version": "1.2.0",
            "_view_name": "LayoutView",
            "align_content": null,
            "align_items": null,
            "align_self": null,
            "border": null,
            "bottom": null,
            "display": null,
            "flex": null,
            "flex_flow": null,
            "grid_area": null,
            "grid_auto_columns": null,
            "grid_auto_flow": null,
            "grid_auto_rows": null,
            "grid_column": null,
            "grid_gap": null,
            "grid_row": null,
            "grid_template_areas": null,
            "grid_template_columns": null,
            "grid_template_rows": null,
            "height": null,
            "justify_content": null,
            "justify_items": null,
            "left": null,
            "margin": null,
            "max_height": null,
            "max_width": null,
            "min_height": null,
            "min_width": null,
            "object_fit": null,
            "object_position": null,
            "order": null,
            "overflow": null,
            "overflow_x": null,
            "overflow_y": null,
            "padding": null,
            "right": null,
            "top": null,
            "visibility": null,
            "width": null
          }
        },
        "42c09faa7b024278839674e6bc1f660c": {
          "model_module": "@jupyter-widgets/controls",
          "model_name": "DescriptionStyleModel",
          "model_module_version": "1.5.0",
          "state": {
            "_model_module": "@jupyter-widgets/controls",
            "_model_module_version": "1.5.0",
            "_model_name": "DescriptionStyleModel",
            "_view_count": null,
            "_view_module": "@jupyter-widgets/base",
            "_view_module_version": "1.2.0",
            "_view_name": "StyleView",
            "description_width": ""
          }
        },
        "9ba7e16ed3ef46a8bf0011cd06af2745": {
          "model_module": "@jupyter-widgets/controls",
          "model_name": "HBoxModel",
          "model_module_version": "1.5.0",
          "state": {
            "_dom_classes": [],
            "_model_module": "@jupyter-widgets/controls",
            "_model_module_version": "1.5.0",
            "_model_name": "HBoxModel",
            "_view_count": null,
            "_view_module": "@jupyter-widgets/controls",
            "_view_module_version": "1.5.0",
            "_view_name": "HBoxView",
            "box_style": "",
            "children": [
              "IPY_MODEL_d6f2a09180a344e790985736f8d67f96",
              "IPY_MODEL_10c25e3a45e64360b77e35e7c19ec80a",
              "IPY_MODEL_406e541144454b4c89d13084be4fcd4b"
            ],
            "layout": "IPY_MODEL_56efeec5db85454c816b4e4588e49e92"
          }
        },
        "d6f2a09180a344e790985736f8d67f96": {
          "model_module": "@jupyter-widgets/controls",
          "model_name": "HTMLModel",
          "model_module_version": "1.5.0",
          "state": {
            "_dom_classes": [],
            "_model_module": "@jupyter-widgets/controls",
            "_model_module_version": "1.5.0",
            "_model_name": "HTMLModel",
            "_view_count": null,
            "_view_module": "@jupyter-widgets/controls",
            "_view_module_version": "1.5.0",
            "_view_name": "HTMLView",
            "description": "",
            "description_tooltip": null,
            "layout": "IPY_MODEL_d03b021e3b3c448f8eba333ba9f614bc",
            "placeholder": "​",
            "style": "IPY_MODEL_d320fb9892b94318ae69817c94ae0fb4",
            "value": "normalizer.json: 100%"
          }
        },
        "10c25e3a45e64360b77e35e7c19ec80a": {
          "model_module": "@jupyter-widgets/controls",
          "model_name": "FloatProgressModel",
          "model_module_version": "1.5.0",
          "state": {
            "_dom_classes": [],
            "_model_module": "@jupyter-widgets/controls",
            "_model_module_version": "1.5.0",
            "_model_name": "FloatProgressModel",
            "_view_count": null,
            "_view_module": "@jupyter-widgets/controls",
            "_view_module_version": "1.5.0",
            "_view_name": "ProgressView",
            "bar_style": "success",
            "description": "",
            "description_tooltip": null,
            "layout": "IPY_MODEL_405c7e99650a4cfd90be38b291284f3e",
            "max": 52666,
            "min": 0,
            "orientation": "horizontal",
            "style": "IPY_MODEL_07c21112a2a04735bf232568efee4a23",
            "value": 52666
          }
        },
        "406e541144454b4c89d13084be4fcd4b": {
          "model_module": "@jupyter-widgets/controls",
          "model_name": "HTMLModel",
          "model_module_version": "1.5.0",
          "state": {
            "_dom_classes": [],
            "_model_module": "@jupyter-widgets/controls",
            "_model_module_version": "1.5.0",
            "_model_name": "HTMLModel",
            "_view_count": null,
            "_view_module": "@jupyter-widgets/controls",
            "_view_module_version": "1.5.0",
            "_view_name": "HTMLView",
            "description": "",
            "description_tooltip": null,
            "layout": "IPY_MODEL_973542c67bf248b586fe011f9821bdfe",
            "placeholder": "​",
            "style": "IPY_MODEL_3757fb749d544d0b8336627806846d51",
            "value": " 52.7k/52.7k [00:00&lt;00:00, 3.46MB/s]"
          }
        },
        "56efeec5db85454c816b4e4588e49e92": {
          "model_module": "@jupyter-widgets/base",
          "model_name": "LayoutModel",
          "model_module_version": "1.2.0",
          "state": {
            "_model_module": "@jupyter-widgets/base",
            "_model_module_version": "1.2.0",
            "_model_name": "LayoutModel",
            "_view_count": null,
            "_view_module": "@jupyter-widgets/base",
            "_view_module_version": "1.2.0",
            "_view_name": "LayoutView",
            "align_content": null,
            "align_items": null,
            "align_self": null,
            "border": null,
            "bottom": null,
            "display": null,
            "flex": null,
            "flex_flow": null,
            "grid_area": null,
            "grid_auto_columns": null,
            "grid_auto_flow": null,
            "grid_auto_rows": null,
            "grid_column": null,
            "grid_gap": null,
            "grid_row": null,
            "grid_template_areas": null,
            "grid_template_columns": null,
            "grid_template_rows": null,
            "height": null,
            "justify_content": null,
            "justify_items": null,
            "left": null,
            "margin": null,
            "max_height": null,
            "max_width": null,
            "min_height": null,
            "min_width": null,
            "object_fit": null,
            "object_position": null,
            "order": null,
            "overflow": null,
            "overflow_x": null,
            "overflow_y": null,
            "padding": null,
            "right": null,
            "top": null,
            "visibility": null,
            "width": null
          }
        },
        "d03b021e3b3c448f8eba333ba9f614bc": {
          "model_module": "@jupyter-widgets/base",
          "model_name": "LayoutModel",
          "model_module_version": "1.2.0",
          "state": {
            "_model_module": "@jupyter-widgets/base",
            "_model_module_version": "1.2.0",
            "_model_name": "LayoutModel",
            "_view_count": null,
            "_view_module": "@jupyter-widgets/base",
            "_view_module_version": "1.2.0",
            "_view_name": "LayoutView",
            "align_content": null,
            "align_items": null,
            "align_self": null,
            "border": null,
            "bottom": null,
            "display": null,
            "flex": null,
            "flex_flow": null,
            "grid_area": null,
            "grid_auto_columns": null,
            "grid_auto_flow": null,
            "grid_auto_rows": null,
            "grid_column": null,
            "grid_gap": null,
            "grid_row": null,
            "grid_template_areas": null,
            "grid_template_columns": null,
            "grid_template_rows": null,
            "height": null,
            "justify_content": null,
            "justify_items": null,
            "left": null,
            "margin": null,
            "max_height": null,
            "max_width": null,
            "min_height": null,
            "min_width": null,
            "object_fit": null,
            "object_position": null,
            "order": null,
            "overflow": null,
            "overflow_x": null,
            "overflow_y": null,
            "padding": null,
            "right": null,
            "top": null,
            "visibility": null,
            "width": null
          }
        },
        "d320fb9892b94318ae69817c94ae0fb4": {
          "model_module": "@jupyter-widgets/controls",
          "model_name": "DescriptionStyleModel",
          "model_module_version": "1.5.0",
          "state": {
            "_model_module": "@jupyter-widgets/controls",
            "_model_module_version": "1.5.0",
            "_model_name": "DescriptionStyleModel",
            "_view_count": null,
            "_view_module": "@jupyter-widgets/base",
            "_view_module_version": "1.2.0",
            "_view_name": "StyleView",
            "description_width": ""
          }
        },
        "405c7e99650a4cfd90be38b291284f3e": {
          "model_module": "@jupyter-widgets/base",
          "model_name": "LayoutModel",
          "model_module_version": "1.2.0",
          "state": {
            "_model_module": "@jupyter-widgets/base",
            "_model_module_version": "1.2.0",
            "_model_name": "LayoutModel",
            "_view_count": null,
            "_view_module": "@jupyter-widgets/base",
            "_view_module_version": "1.2.0",
            "_view_name": "LayoutView",
            "align_content": null,
            "align_items": null,
            "align_self": null,
            "border": null,
            "bottom": null,
            "display": null,
            "flex": null,
            "flex_flow": null,
            "grid_area": null,
            "grid_auto_columns": null,
            "grid_auto_flow": null,
            "grid_auto_rows": null,
            "grid_column": null,
            "grid_gap": null,
            "grid_row": null,
            "grid_template_areas": null,
            "grid_template_columns": null,
            "grid_template_rows": null,
            "height": null,
            "justify_content": null,
            "justify_items": null,
            "left": null,
            "margin": null,
            "max_height": null,
            "max_width": null,
            "min_height": null,
            "min_width": null,
            "object_fit": null,
            "object_position": null,
            "order": null,
            "overflow": null,
            "overflow_x": null,
            "overflow_y": null,
            "padding": null,
            "right": null,
            "top": null,
            "visibility": null,
            "width": null
          }
        },
        "07c21112a2a04735bf232568efee4a23": {
          "model_module": "@jupyter-widgets/controls",
          "model_name": "ProgressStyleModel",
          "model_module_version": "1.5.0",
          "state": {
            "_model_module": "@jupyter-widgets/controls",
            "_model_module_version": "1.5.0",
            "_model_name": "ProgressStyleModel",
            "_view_count": null,
            "_view_module": "@jupyter-widgets/base",
            "_view_module_version": "1.2.0",
            "_view_name": "StyleView",
            "bar_color": null,
            "description_width": ""
          }
        },
        "973542c67bf248b586fe011f9821bdfe": {
          "model_module": "@jupyter-widgets/base",
          "model_name": "LayoutModel",
          "model_module_version": "1.2.0",
          "state": {
            "_model_module": "@jupyter-widgets/base",
            "_model_module_version": "1.2.0",
            "_model_name": "LayoutModel",
            "_view_count": null,
            "_view_module": "@jupyter-widgets/base",
            "_view_module_version": "1.2.0",
            "_view_name": "LayoutView",
            "align_content": null,
            "align_items": null,
            "align_self": null,
            "border": null,
            "bottom": null,
            "display": null,
            "flex": null,
            "flex_flow": null,
            "grid_area": null,
            "grid_auto_columns": null,
            "grid_auto_flow": null,
            "grid_auto_rows": null,
            "grid_column": null,
            "grid_gap": null,
            "grid_row": null,
            "grid_template_areas": null,
            "grid_template_columns": null,
            "grid_template_rows": null,
            "height": null,
            "justify_content": null,
            "justify_items": null,
            "left": null,
            "margin": null,
            "max_height": null,
            "max_width": null,
            "min_height": null,
            "min_width": null,
            "object_fit": null,
            "object_position": null,
            "order": null,
            "overflow": null,
            "overflow_x": null,
            "overflow_y": null,
            "padding": null,
            "right": null,
            "top": null,
            "visibility": null,
            "width": null
          }
        },
        "3757fb749d544d0b8336627806846d51": {
          "model_module": "@jupyter-widgets/controls",
          "model_name": "DescriptionStyleModel",
          "model_module_version": "1.5.0",
          "state": {
            "_model_module": "@jupyter-widgets/controls",
            "_model_module_version": "1.5.0",
            "_model_name": "DescriptionStyleModel",
            "_view_count": null,
            "_view_module": "@jupyter-widgets/base",
            "_view_module_version": "1.2.0",
            "_view_name": "StyleView",
            "description_width": ""
          }
        },
        "d63db6685d5444caa90b80729b0eb4ec": {
          "model_module": "@jupyter-widgets/controls",
          "model_name": "HBoxModel",
          "model_module_version": "1.5.0",
          "state": {
            "_dom_classes": [],
            "_model_module": "@jupyter-widgets/controls",
            "_model_module_version": "1.5.0",
            "_model_name": "HBoxModel",
            "_view_count": null,
            "_view_module": "@jupyter-widgets/controls",
            "_view_module_version": "1.5.0",
            "_view_name": "HBoxView",
            "box_style": "",
            "children": [
              "IPY_MODEL_bcc24ca95b2540338aa77e7177e8b9c5",
              "IPY_MODEL_18e3bd3a8d3d48d2bd52ea5cbeade74b",
              "IPY_MODEL_73927cae95234d2eb0fc16e5def30120"
            ],
            "layout": "IPY_MODEL_a379d69a310e45e990817a58d074ecfb"
          }
        },
        "bcc24ca95b2540338aa77e7177e8b9c5": {
          "model_module": "@jupyter-widgets/controls",
          "model_name": "HTMLModel",
          "model_module_version": "1.5.0",
          "state": {
            "_dom_classes": [],
            "_model_module": "@jupyter-widgets/controls",
            "_model_module_version": "1.5.0",
            "_model_name": "HTMLModel",
            "_view_count": null,
            "_view_module": "@jupyter-widgets/controls",
            "_view_module_version": "1.5.0",
            "_view_name": "HTMLView",
            "description": "",
            "description_tooltip": null,
            "layout": "IPY_MODEL_171d9fba394f4469ac1141a9107d9854",
            "placeholder": "​",
            "style": "IPY_MODEL_74d49ed28d7940809c7be5d33c539e85",
            "value": "added_tokens.json: 100%"
          }
        },
        "18e3bd3a8d3d48d2bd52ea5cbeade74b": {
          "model_module": "@jupyter-widgets/controls",
          "model_name": "FloatProgressModel",
          "model_module_version": "1.5.0",
          "state": {
            "_dom_classes": [],
            "_model_module": "@jupyter-widgets/controls",
            "_model_module_version": "1.5.0",
            "_model_name": "FloatProgressModel",
            "_view_count": null,
            "_view_module": "@jupyter-widgets/controls",
            "_view_module_version": "1.5.0",
            "_view_name": "ProgressView",
            "bar_style": "success",
            "description": "",
            "description_tooltip": null,
            "layout": "IPY_MODEL_cdd8d1de41b849508b3b06800fee2f90",
            "max": 34648,
            "min": 0,
            "orientation": "horizontal",
            "style": "IPY_MODEL_2ed337814f844b5991e0c136fd77ffbc",
            "value": 34648
          }
        },
        "73927cae95234d2eb0fc16e5def30120": {
          "model_module": "@jupyter-widgets/controls",
          "model_name": "HTMLModel",
          "model_module_version": "1.5.0",
          "state": {
            "_dom_classes": [],
            "_model_module": "@jupyter-widgets/controls",
            "_model_module_version": "1.5.0",
            "_model_name": "HTMLModel",
            "_view_count": null,
            "_view_module": "@jupyter-widgets/controls",
            "_view_module_version": "1.5.0",
            "_view_name": "HTMLView",
            "description": "",
            "description_tooltip": null,
            "layout": "IPY_MODEL_7f928ff3a93d42adbe032ba68decc2f4",
            "placeholder": "​",
            "style": "IPY_MODEL_584eceefebae484b85358b4794c3f222",
            "value": " 34.6k/34.6k [00:00&lt;00:00, 1.33MB/s]"
          }
        },
        "a379d69a310e45e990817a58d074ecfb": {
          "model_module": "@jupyter-widgets/base",
          "model_name": "LayoutModel",
          "model_module_version": "1.2.0",
          "state": {
            "_model_module": "@jupyter-widgets/base",
            "_model_module_version": "1.2.0",
            "_model_name": "LayoutModel",
            "_view_count": null,
            "_view_module": "@jupyter-widgets/base",
            "_view_module_version": "1.2.0",
            "_view_name": "LayoutView",
            "align_content": null,
            "align_items": null,
            "align_self": null,
            "border": null,
            "bottom": null,
            "display": null,
            "flex": null,
            "flex_flow": null,
            "grid_area": null,
            "grid_auto_columns": null,
            "grid_auto_flow": null,
            "grid_auto_rows": null,
            "grid_column": null,
            "grid_gap": null,
            "grid_row": null,
            "grid_template_areas": null,
            "grid_template_columns": null,
            "grid_template_rows": null,
            "height": null,
            "justify_content": null,
            "justify_items": null,
            "left": null,
            "margin": null,
            "max_height": null,
            "max_width": null,
            "min_height": null,
            "min_width": null,
            "object_fit": null,
            "object_position": null,
            "order": null,
            "overflow": null,
            "overflow_x": null,
            "overflow_y": null,
            "padding": null,
            "right": null,
            "top": null,
            "visibility": null,
            "width": null
          }
        },
        "171d9fba394f4469ac1141a9107d9854": {
          "model_module": "@jupyter-widgets/base",
          "model_name": "LayoutModel",
          "model_module_version": "1.2.0",
          "state": {
            "_model_module": "@jupyter-widgets/base",
            "_model_module_version": "1.2.0",
            "_model_name": "LayoutModel",
            "_view_count": null,
            "_view_module": "@jupyter-widgets/base",
            "_view_module_version": "1.2.0",
            "_view_name": "LayoutView",
            "align_content": null,
            "align_items": null,
            "align_self": null,
            "border": null,
            "bottom": null,
            "display": null,
            "flex": null,
            "flex_flow": null,
            "grid_area": null,
            "grid_auto_columns": null,
            "grid_auto_flow": null,
            "grid_auto_rows": null,
            "grid_column": null,
            "grid_gap": null,
            "grid_row": null,
            "grid_template_areas": null,
            "grid_template_columns": null,
            "grid_template_rows": null,
            "height": null,
            "justify_content": null,
            "justify_items": null,
            "left": null,
            "margin": null,
            "max_height": null,
            "max_width": null,
            "min_height": null,
            "min_width": null,
            "object_fit": null,
            "object_position": null,
            "order": null,
            "overflow": null,
            "overflow_x": null,
            "overflow_y": null,
            "padding": null,
            "right": null,
            "top": null,
            "visibility": null,
            "width": null
          }
        },
        "74d49ed28d7940809c7be5d33c539e85": {
          "model_module": "@jupyter-widgets/controls",
          "model_name": "DescriptionStyleModel",
          "model_module_version": "1.5.0",
          "state": {
            "_model_module": "@jupyter-widgets/controls",
            "_model_module_version": "1.5.0",
            "_model_name": "DescriptionStyleModel",
            "_view_count": null,
            "_view_module": "@jupyter-widgets/base",
            "_view_module_version": "1.2.0",
            "_view_name": "StyleView",
            "description_width": ""
          }
        },
        "cdd8d1de41b849508b3b06800fee2f90": {
          "model_module": "@jupyter-widgets/base",
          "model_name": "LayoutModel",
          "model_module_version": "1.2.0",
          "state": {
            "_model_module": "@jupyter-widgets/base",
            "_model_module_version": "1.2.0",
            "_model_name": "LayoutModel",
            "_view_count": null,
            "_view_module": "@jupyter-widgets/base",
            "_view_module_version": "1.2.0",
            "_view_name": "LayoutView",
            "align_content": null,
            "align_items": null,
            "align_self": null,
            "border": null,
            "bottom": null,
            "display": null,
            "flex": null,
            "flex_flow": null,
            "grid_area": null,
            "grid_auto_columns": null,
            "grid_auto_flow": null,
            "grid_auto_rows": null,
            "grid_column": null,
            "grid_gap": null,
            "grid_row": null,
            "grid_template_areas": null,
            "grid_template_columns": null,
            "grid_template_rows": null,
            "height": null,
            "justify_content": null,
            "justify_items": null,
            "left": null,
            "margin": null,
            "max_height": null,
            "max_width": null,
            "min_height": null,
            "min_width": null,
            "object_fit": null,
            "object_position": null,
            "order": null,
            "overflow": null,
            "overflow_x": null,
            "overflow_y": null,
            "padding": null,
            "right": null,
            "top": null,
            "visibility": null,
            "width": null
          }
        },
        "2ed337814f844b5991e0c136fd77ffbc": {
          "model_module": "@jupyter-widgets/controls",
          "model_name": "ProgressStyleModel",
          "model_module_version": "1.5.0",
          "state": {
            "_model_module": "@jupyter-widgets/controls",
            "_model_module_version": "1.5.0",
            "_model_name": "ProgressStyleModel",
            "_view_count": null,
            "_view_module": "@jupyter-widgets/base",
            "_view_module_version": "1.2.0",
            "_view_name": "StyleView",
            "bar_color": null,
            "description_width": ""
          }
        },
        "7f928ff3a93d42adbe032ba68decc2f4": {
          "model_module": "@jupyter-widgets/base",
          "model_name": "LayoutModel",
          "model_module_version": "1.2.0",
          "state": {
            "_model_module": "@jupyter-widgets/base",
            "_model_module_version": "1.2.0",
            "_model_name": "LayoutModel",
            "_view_count": null,
            "_view_module": "@jupyter-widgets/base",
            "_view_module_version": "1.2.0",
            "_view_name": "LayoutView",
            "align_content": null,
            "align_items": null,
            "align_self": null,
            "border": null,
            "bottom": null,
            "display": null,
            "flex": null,
            "flex_flow": null,
            "grid_area": null,
            "grid_auto_columns": null,
            "grid_auto_flow": null,
            "grid_auto_rows": null,
            "grid_column": null,
            "grid_gap": null,
            "grid_row": null,
            "grid_template_areas": null,
            "grid_template_columns": null,
            "grid_template_rows": null,
            "height": null,
            "justify_content": null,
            "justify_items": null,
            "left": null,
            "margin": null,
            "max_height": null,
            "max_width": null,
            "min_height": null,
            "min_width": null,
            "object_fit": null,
            "object_position": null,
            "order": null,
            "overflow": null,
            "overflow_x": null,
            "overflow_y": null,
            "padding": null,
            "right": null,
            "top": null,
            "visibility": null,
            "width": null
          }
        },
        "584eceefebae484b85358b4794c3f222": {
          "model_module": "@jupyter-widgets/controls",
          "model_name": "DescriptionStyleModel",
          "model_module_version": "1.5.0",
          "state": {
            "_model_module": "@jupyter-widgets/controls",
            "_model_module_version": "1.5.0",
            "_model_name": "DescriptionStyleModel",
            "_view_count": null,
            "_view_module": "@jupyter-widgets/base",
            "_view_module_version": "1.2.0",
            "_view_name": "StyleView",
            "description_width": ""
          }
        },
        "0c2bd04d7a774a65873d6d038cdb3ce6": {
          "model_module": "@jupyter-widgets/controls",
          "model_name": "HBoxModel",
          "model_module_version": "1.5.0",
          "state": {
            "_dom_classes": [],
            "_model_module": "@jupyter-widgets/controls",
            "_model_module_version": "1.5.0",
            "_model_name": "HBoxModel",
            "_view_count": null,
            "_view_module": "@jupyter-widgets/controls",
            "_view_module_version": "1.5.0",
            "_view_name": "HBoxView",
            "box_style": "",
            "children": [
              "IPY_MODEL_6586ca773306479c8f2021c4e167c43c",
              "IPY_MODEL_a150601b999843afa65f683fc502a448",
              "IPY_MODEL_20ab8a64ae1b4db386c8eee4b93a8dfe"
            ],
            "layout": "IPY_MODEL_fcb9e44a26974137a9b6fe5421709996"
          }
        },
        "6586ca773306479c8f2021c4e167c43c": {
          "model_module": "@jupyter-widgets/controls",
          "model_name": "HTMLModel",
          "model_module_version": "1.5.0",
          "state": {
            "_dom_classes": [],
            "_model_module": "@jupyter-widgets/controls",
            "_model_module_version": "1.5.0",
            "_model_name": "HTMLModel",
            "_view_count": null,
            "_view_module": "@jupyter-widgets/controls",
            "_view_module_version": "1.5.0",
            "_view_name": "HTMLView",
            "description": "",
            "description_tooltip": null,
            "layout": "IPY_MODEL_cd2b409b467541e2be87c4c1a2358d7c",
            "placeholder": "​",
            "style": "IPY_MODEL_4d4f8adcb21e4974b05000e92a7e636d",
            "value": "special_tokens_map.json: 100%"
          }
        },
        "a150601b999843afa65f683fc502a448": {
          "model_module": "@jupyter-widgets/controls",
          "model_name": "FloatProgressModel",
          "model_module_version": "1.5.0",
          "state": {
            "_dom_classes": [],
            "_model_module": "@jupyter-widgets/controls",
            "_model_module_version": "1.5.0",
            "_model_name": "FloatProgressModel",
            "_view_count": null,
            "_view_module": "@jupyter-widgets/controls",
            "_view_module_version": "1.5.0",
            "_view_name": "ProgressView",
            "bar_style": "success",
            "description": "",
            "description_tooltip": null,
            "layout": "IPY_MODEL_597942854e1448f8a6c12068e16cf4ee",
            "max": 2072,
            "min": 0,
            "orientation": "horizontal",
            "style": "IPY_MODEL_118f097df86048599c0925c2c8082e42",
            "value": 2072
          }
        },
        "20ab8a64ae1b4db386c8eee4b93a8dfe": {
          "model_module": "@jupyter-widgets/controls",
          "model_name": "HTMLModel",
          "model_module_version": "1.5.0",
          "state": {
            "_dom_classes": [],
            "_model_module": "@jupyter-widgets/controls",
            "_model_module_version": "1.5.0",
            "_model_name": "HTMLModel",
            "_view_count": null,
            "_view_module": "@jupyter-widgets/controls",
            "_view_module_version": "1.5.0",
            "_view_name": "HTMLView",
            "description": "",
            "description_tooltip": null,
            "layout": "IPY_MODEL_794c7c2f98ea4fd8bd1c578c359a02d2",
            "placeholder": "​",
            "style": "IPY_MODEL_8bed021f29dd449ebcc588d2ff058888",
            "value": " 2.07k/2.07k [00:00&lt;00:00, 148kB/s]"
          }
        },
        "fcb9e44a26974137a9b6fe5421709996": {
          "model_module": "@jupyter-widgets/base",
          "model_name": "LayoutModel",
          "model_module_version": "1.2.0",
          "state": {
            "_model_module": "@jupyter-widgets/base",
            "_model_module_version": "1.2.0",
            "_model_name": "LayoutModel",
            "_view_count": null,
            "_view_module": "@jupyter-widgets/base",
            "_view_module_version": "1.2.0",
            "_view_name": "LayoutView",
            "align_content": null,
            "align_items": null,
            "align_self": null,
            "border": null,
            "bottom": null,
            "display": null,
            "flex": null,
            "flex_flow": null,
            "grid_area": null,
            "grid_auto_columns": null,
            "grid_auto_flow": null,
            "grid_auto_rows": null,
            "grid_column": null,
            "grid_gap": null,
            "grid_row": null,
            "grid_template_areas": null,
            "grid_template_columns": null,
            "grid_template_rows": null,
            "height": null,
            "justify_content": null,
            "justify_items": null,
            "left": null,
            "margin": null,
            "max_height": null,
            "max_width": null,
            "min_height": null,
            "min_width": null,
            "object_fit": null,
            "object_position": null,
            "order": null,
            "overflow": null,
            "overflow_x": null,
            "overflow_y": null,
            "padding": null,
            "right": null,
            "top": null,
            "visibility": null,
            "width": null
          }
        },
        "cd2b409b467541e2be87c4c1a2358d7c": {
          "model_module": "@jupyter-widgets/base",
          "model_name": "LayoutModel",
          "model_module_version": "1.2.0",
          "state": {
            "_model_module": "@jupyter-widgets/base",
            "_model_module_version": "1.2.0",
            "_model_name": "LayoutModel",
            "_view_count": null,
            "_view_module": "@jupyter-widgets/base",
            "_view_module_version": "1.2.0",
            "_view_name": "LayoutView",
            "align_content": null,
            "align_items": null,
            "align_self": null,
            "border": null,
            "bottom": null,
            "display": null,
            "flex": null,
            "flex_flow": null,
            "grid_area": null,
            "grid_auto_columns": null,
            "grid_auto_flow": null,
            "grid_auto_rows": null,
            "grid_column": null,
            "grid_gap": null,
            "grid_row": null,
            "grid_template_areas": null,
            "grid_template_columns": null,
            "grid_template_rows": null,
            "height": null,
            "justify_content": null,
            "justify_items": null,
            "left": null,
            "margin": null,
            "max_height": null,
            "max_width": null,
            "min_height": null,
            "min_width": null,
            "object_fit": null,
            "object_position": null,
            "order": null,
            "overflow": null,
            "overflow_x": null,
            "overflow_y": null,
            "padding": null,
            "right": null,
            "top": null,
            "visibility": null,
            "width": null
          }
        },
        "4d4f8adcb21e4974b05000e92a7e636d": {
          "model_module": "@jupyter-widgets/controls",
          "model_name": "DescriptionStyleModel",
          "model_module_version": "1.5.0",
          "state": {
            "_model_module": "@jupyter-widgets/controls",
            "_model_module_version": "1.5.0",
            "_model_name": "DescriptionStyleModel",
            "_view_count": null,
            "_view_module": "@jupyter-widgets/base",
            "_view_module_version": "1.2.0",
            "_view_name": "StyleView",
            "description_width": ""
          }
        },
        "597942854e1448f8a6c12068e16cf4ee": {
          "model_module": "@jupyter-widgets/base",
          "model_name": "LayoutModel",
          "model_module_version": "1.2.0",
          "state": {
            "_model_module": "@jupyter-widgets/base",
            "_model_module_version": "1.2.0",
            "_model_name": "LayoutModel",
            "_view_count": null,
            "_view_module": "@jupyter-widgets/base",
            "_view_module_version": "1.2.0",
            "_view_name": "LayoutView",
            "align_content": null,
            "align_items": null,
            "align_self": null,
            "border": null,
            "bottom": null,
            "display": null,
            "flex": null,
            "flex_flow": null,
            "grid_area": null,
            "grid_auto_columns": null,
            "grid_auto_flow": null,
            "grid_auto_rows": null,
            "grid_column": null,
            "grid_gap": null,
            "grid_row": null,
            "grid_template_areas": null,
            "grid_template_columns": null,
            "grid_template_rows": null,
            "height": null,
            "justify_content": null,
            "justify_items": null,
            "left": null,
            "margin": null,
            "max_height": null,
            "max_width": null,
            "min_height": null,
            "min_width": null,
            "object_fit": null,
            "object_position": null,
            "order": null,
            "overflow": null,
            "overflow_x": null,
            "overflow_y": null,
            "padding": null,
            "right": null,
            "top": null,
            "visibility": null,
            "width": null
          }
        },
        "118f097df86048599c0925c2c8082e42": {
          "model_module": "@jupyter-widgets/controls",
          "model_name": "ProgressStyleModel",
          "model_module_version": "1.5.0",
          "state": {
            "_model_module": "@jupyter-widgets/controls",
            "_model_module_version": "1.5.0",
            "_model_name": "ProgressStyleModel",
            "_view_count": null,
            "_view_module": "@jupyter-widgets/base",
            "_view_module_version": "1.2.0",
            "_view_name": "StyleView",
            "bar_color": null,
            "description_width": ""
          }
        },
        "794c7c2f98ea4fd8bd1c578c359a02d2": {
          "model_module": "@jupyter-widgets/base",
          "model_name": "LayoutModel",
          "model_module_version": "1.2.0",
          "state": {
            "_model_module": "@jupyter-widgets/base",
            "_model_module_version": "1.2.0",
            "_model_name": "LayoutModel",
            "_view_count": null,
            "_view_module": "@jupyter-widgets/base",
            "_view_module_version": "1.2.0",
            "_view_name": "LayoutView",
            "align_content": null,
            "align_items": null,
            "align_self": null,
            "border": null,
            "bottom": null,
            "display": null,
            "flex": null,
            "flex_flow": null,
            "grid_area": null,
            "grid_auto_columns": null,
            "grid_auto_flow": null,
            "grid_auto_rows": null,
            "grid_column": null,
            "grid_gap": null,
            "grid_row": null,
            "grid_template_areas": null,
            "grid_template_columns": null,
            "grid_template_rows": null,
            "height": null,
            "justify_content": null,
            "justify_items": null,
            "left": null,
            "margin": null,
            "max_height": null,
            "max_width": null,
            "min_height": null,
            "min_width": null,
            "object_fit": null,
            "object_position": null,
            "order": null,
            "overflow": null,
            "overflow_x": null,
            "overflow_y": null,
            "padding": null,
            "right": null,
            "top": null,
            "visibility": null,
            "width": null
          }
        },
        "8bed021f29dd449ebcc588d2ff058888": {
          "model_module": "@jupyter-widgets/controls",
          "model_name": "DescriptionStyleModel",
          "model_module_version": "1.5.0",
          "state": {
            "_model_module": "@jupyter-widgets/controls",
            "_model_module_version": "1.5.0",
            "_model_name": "DescriptionStyleModel",
            "_view_count": null,
            "_view_module": "@jupyter-widgets/base",
            "_view_module_version": "1.2.0",
            "_view_name": "StyleView",
            "description_width": ""
          }
        }
      }
    }
  },
  "nbformat": 4,
  "nbformat_minor": 5
}