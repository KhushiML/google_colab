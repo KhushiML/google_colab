{
 "cells": [
  {
   "cell_type": "code",
   "execution_count": 1,
   "id": "da3c995e-649e-477d-8d5e-3f65aaa5f26e",
   "metadata": {},
   "outputs": [],
   "source": [
    "!pip install -q --upgrade transformers accelerate torch ipython-autotime"
   ]
  },
  {
   "cell_type": "code",
   "execution_count": 2,
   "id": "7943c192-aa2c-4923-8e30-ee5da6014e19",
   "metadata": {},
   "outputs": [
    {
     "name": "stdout",
     "output_type": "stream",
     "text": [
      "time: 85.3 μs (started: 2024-09-19 06:25:51 +00:00)\n"
     ]
    }
   ],
   "source": [
    "%load_ext autotime"
   ]
  },
  {
   "cell_type": "code",
   "execution_count": 3,
   "id": "a6daecdd-24ca-4a99-9664-65749379388b",
   "metadata": {},
   "outputs": [
    {
     "name": "stdout",
     "output_type": "stream",
     "text": [
      "time: 14.3 s (started: 2024-09-19 06:25:59 +00:00)\n"
     ]
    }
   ],
   "source": [
    "import torch\n",
    "from transformers import AutoModelForSpeechSeq2Seq, AutoProcessor, pipeline"
   ]
  },
  {
   "cell_type": "code",
   "execution_count": 4,
   "id": "5df41ba3-4e99-49a2-a8ed-1ae9d117039f",
   "metadata": {},
   "outputs": [
    {
     "data": {
      "application/vnd.jupyter.widget-view+json": {
       "model_id": "063bbecd63e94afd9746c4f710215cd4",
       "version_major": 2,
       "version_minor": 0
      },
      "text/plain": [
       "config.json:   0%|          | 0.00/1.26k [00:00<?, ?B/s]"
      ]
     },
     "metadata": {},
     "output_type": "display_data"
    },
    {
     "data": {
      "application/vnd.jupyter.widget-view+json": {
       "model_id": "31a83045ae1c4ea6a67c2427fb622319",
       "version_major": 2,
       "version_minor": 0
      },
      "text/plain": [
       "model.safetensors:   0%|          | 0.00/1.51G [00:00<?, ?B/s]"
      ]
     },
     "metadata": {},
     "output_type": "display_data"
    },
    {
     "data": {
      "application/vnd.jupyter.widget-view+json": {
       "model_id": "11676271eff144acbb2e5ed1283a5fe6",
       "version_major": 2,
       "version_minor": 0
      },
      "text/plain": [
       "generation_config.json:   0%|          | 0.00/4.25k [00:00<?, ?B/s]"
      ]
     },
     "metadata": {},
     "output_type": "display_data"
    },
    {
     "data": {
      "text/plain": [
       "WhisperForConditionalGeneration(\n",
       "  (model): WhisperModel(\n",
       "    (encoder): WhisperEncoder(\n",
       "      (conv1): Conv1d(128, 1280, kernel_size=(3,), stride=(1,), padding=(1,))\n",
       "      (conv2): Conv1d(1280, 1280, kernel_size=(3,), stride=(2,), padding=(1,))\n",
       "      (embed_positions): Embedding(1500, 1280)\n",
       "      (layers): ModuleList(\n",
       "        (0-31): 32 x WhisperEncoderLayer(\n",
       "          (self_attn): WhisperSdpaAttention(\n",
       "            (k_proj): Linear(in_features=1280, out_features=1280, bias=False)\n",
       "            (v_proj): Linear(in_features=1280, out_features=1280, bias=True)\n",
       "            (q_proj): Linear(in_features=1280, out_features=1280, bias=True)\n",
       "            (out_proj): Linear(in_features=1280, out_features=1280, bias=True)\n",
       "          )\n",
       "          (self_attn_layer_norm): LayerNorm((1280,), eps=1e-05, elementwise_affine=True)\n",
       "          (activation_fn): GELUActivation()\n",
       "          (fc1): Linear(in_features=1280, out_features=5120, bias=True)\n",
       "          (fc2): Linear(in_features=5120, out_features=1280, bias=True)\n",
       "          (final_layer_norm): LayerNorm((1280,), eps=1e-05, elementwise_affine=True)\n",
       "        )\n",
       "      )\n",
       "      (layer_norm): LayerNorm((1280,), eps=1e-05, elementwise_affine=True)\n",
       "    )\n",
       "    (decoder): WhisperDecoder(\n",
       "      (embed_tokens): Embedding(51866, 1280, padding_idx=50256)\n",
       "      (embed_positions): WhisperPositionalEmbedding(448, 1280)\n",
       "      (layers): ModuleList(\n",
       "        (0-1): 2 x WhisperDecoderLayer(\n",
       "          (self_attn): WhisperSdpaAttention(\n",
       "            (k_proj): Linear(in_features=1280, out_features=1280, bias=False)\n",
       "            (v_proj): Linear(in_features=1280, out_features=1280, bias=True)\n",
       "            (q_proj): Linear(in_features=1280, out_features=1280, bias=True)\n",
       "            (out_proj): Linear(in_features=1280, out_features=1280, bias=True)\n",
       "          )\n",
       "          (activation_fn): GELUActivation()\n",
       "          (self_attn_layer_norm): LayerNorm((1280,), eps=1e-05, elementwise_affine=True)\n",
       "          (encoder_attn): WhisperSdpaAttention(\n",
       "            (k_proj): Linear(in_features=1280, out_features=1280, bias=False)\n",
       "            (v_proj): Linear(in_features=1280, out_features=1280, bias=True)\n",
       "            (q_proj): Linear(in_features=1280, out_features=1280, bias=True)\n",
       "            (out_proj): Linear(in_features=1280, out_features=1280, bias=True)\n",
       "          )\n",
       "          (encoder_attn_layer_norm): LayerNorm((1280,), eps=1e-05, elementwise_affine=True)\n",
       "          (fc1): Linear(in_features=1280, out_features=5120, bias=True)\n",
       "          (fc2): Linear(in_features=5120, out_features=1280, bias=True)\n",
       "          (final_layer_norm): LayerNorm((1280,), eps=1e-05, elementwise_affine=True)\n",
       "        )\n",
       "      )\n",
       "      (layer_norm): LayerNorm((1280,), eps=1e-05, elementwise_affine=True)\n",
       "    )\n",
       "  )\n",
       "  (proj_out): Linear(in_features=1280, out_features=51866, bias=False)\n",
       ")"
      ]
     },
     "execution_count": 4,
     "metadata": {},
     "output_type": "execute_result"
    },
    {
     "name": "stdout",
     "output_type": "stream",
     "text": [
      "time: 8.58 s (started: 2024-09-19 06:26:15 +00:00)\n"
     ]
    }
   ],
   "source": [
    "device = \"cuda:0\" if torch.cuda.is_available() else \"cpu\"\n",
    "torch_dtype = torch.float16 if torch.cuda.is_available() else torch.float32\n",
    "\n",
    "model_id = \"distil-whisper/distil-large-v3\"\n",
    "\n",
    "model = AutoModelForSpeechSeq2Seq.from_pretrained(\n",
    "    model_id, torch_dtype=torch_dtype, low_cpu_mem_usage=True, use_safetensors=True, attn_implementation=\"sdpa\"\n",
    ")\n",
    "model.to(device)"
   ]
  },
  {
   "cell_type": "code",
   "execution_count": 5,
   "id": "1598aca8-c636-49f1-a3ed-4c707d79e0af",
   "metadata": {},
   "outputs": [
    {
     "data": {
      "application/vnd.jupyter.widget-view+json": {
       "model_id": "9b119d7687bc4e40a2c6fa2fb7b6e8a5",
       "version_major": 2,
       "version_minor": 0
      },
      "text/plain": [
       "preprocessor_config.json:   0%|          | 0.00/340 [00:00<?, ?B/s]"
      ]
     },
     "metadata": {},
     "output_type": "display_data"
    },
    {
     "data": {
      "application/vnd.jupyter.widget-view+json": {
       "model_id": "156afee825494cef87829d8c14ca9346",
       "version_major": 2,
       "version_minor": 0
      },
      "text/plain": [
       "tokenizer_config.json:   0%|          | 0.00/283k [00:00<?, ?B/s]"
      ]
     },
     "metadata": {},
     "output_type": "display_data"
    },
    {
     "data": {
      "application/vnd.jupyter.widget-view+json": {
       "model_id": "f1dc13d1ff954b75b09245dcab57a470",
       "version_major": 2,
       "version_minor": 0
      },
      "text/plain": [
       "vocab.json:   0%|          | 0.00/1.04M [00:00<?, ?B/s]"
      ]
     },
     "metadata": {},
     "output_type": "display_data"
    },
    {
     "data": {
      "application/vnd.jupyter.widget-view+json": {
       "model_id": "baafafe055c54c5aafd95fa5b8134b5d",
       "version_major": 2,
       "version_minor": 0
      },
      "text/plain": [
       "tokenizer.json:   0%|          | 0.00/2.48M [00:00<?, ?B/s]"
      ]
     },
     "metadata": {},
     "output_type": "display_data"
    },
    {
     "data": {
      "application/vnd.jupyter.widget-view+json": {
       "model_id": "f0e551bbad3d4112b6d8ed06bff5a41e",
       "version_major": 2,
       "version_minor": 0
      },
      "text/plain": [
       "merges.txt:   0%|          | 0.00/494k [00:00<?, ?B/s]"
      ]
     },
     "metadata": {},
     "output_type": "display_data"
    },
    {
     "data": {
      "application/vnd.jupyter.widget-view+json": {
       "model_id": "a6d6b56360f14919936540679d1c573b",
       "version_major": 2,
       "version_minor": 0
      },
      "text/plain": [
       "normalizer.json:   0%|          | 0.00/52.7k [00:00<?, ?B/s]"
      ]
     },
     "metadata": {},
     "output_type": "display_data"
    },
    {
     "data": {
      "application/vnd.jupyter.widget-view+json": {
       "model_id": "fe4d228afd3f41eba7603ec3a76d441e",
       "version_major": 2,
       "version_minor": 0
      },
      "text/plain": [
       "added_tokens.json:   0%|          | 0.00/34.6k [00:00<?, ?B/s]"
      ]
     },
     "metadata": {},
     "output_type": "display_data"
    },
    {
     "data": {
      "application/vnd.jupyter.widget-view+json": {
       "model_id": "7fccc712adbe44d09e4c0cb522e3cbfe",
       "version_major": 2,
       "version_minor": 0
      },
      "text/plain": [
       "special_tokens_map.json:   0%|          | 0.00/2.07k [00:00<?, ?B/s]"
      ]
     },
     "metadata": {},
     "output_type": "display_data"
    },
    {
     "name": "stdout",
     "output_type": "stream",
     "text": [
      "time: 5.95 s (started: 2024-09-19 06:26:35 +00:00)\n"
     ]
    }
   ],
   "source": [
    "processor = AutoProcessor.from_pretrained(model_id)\n",
    "\n",
    "pipe = pipeline(\n",
    "    \"automatic-speech-recognition\",\n",
    "    model=model,\n",
    "    tokenizer=processor.tokenizer,\n",
    "    feature_extractor=processor.feature_extractor,\n",
    "    max_new_tokens=128,\n",
    "    torch_dtype=torch_dtype,\n",
    "    device=device,\n",
    ")"
   ]
  },
  {
   "cell_type": "code",
   "execution_count": 6,
   "id": "e796c312-50a6-480f-920f-7bdd0b708b53",
   "metadata": {},
   "outputs": [
    {
     "name": "stdout",
     "output_type": "stream",
     "text": [
      "time: 267 μs (started: 2024-09-19 06:26:53 +00:00)\n"
     ]
    }
   ],
   "source": [
    "sample = \"https://huggingface.co/datasets/reach-vb/random-audios/resolve/main/4469669-10.mp3\""
   ]
  },
  {
   "cell_type": "code",
   "execution_count": 11,
   "id": "4ab65b34-9c4b-48ee-9888-35639dab54e1",
   "metadata": {},
   "outputs": [
    {
     "data": {
      "text/plain": [
       "'result = pipe(sample, batch_size=8)'"
      ]
     },
     "execution_count": 11,
     "metadata": {},
     "output_type": "execute_result"
    },
    {
     "name": "stdout",
     "output_type": "stream",
     "text": [
      "time: 1.76 ms (started: 2024-09-19 06:31:28 +00:00)\n"
     ]
    }
   ],
   "source": [
    "\"\"\"result = pipe(sample, batch_size=8)\"\"\""
   ]
  },
  {
   "cell_type": "code",
   "execution_count": 12,
   "id": "6f005b14-b4a1-4a80-a6ef-8a3f2f7c4d38",
   "metadata": {},
   "outputs": [
    {
     "data": {
      "text/plain": [
       "'print(result[\"text\"])'"
      ]
     },
     "execution_count": 12,
     "metadata": {},
     "output_type": "execute_result"
    },
    {
     "name": "stdout",
     "output_type": "stream",
     "text": [
      "time: 1.72 ms (started: 2024-09-19 06:31:33 +00:00)\n"
     ]
    }
   ],
   "source": [
    "\"\"\"print(result[\"text\"])\"\"\""
   ]
  },
  {
   "cell_type": "code",
   "execution_count": 9,
   "id": "1d9d0440-2741-4389-a39b-d8062c372a11",
   "metadata": {},
   "outputs": [
    {
     "name": "stderr",
     "output_type": "stream",
     "text": [
      "/home/vmadmin/myenv/lib/python3.10/site-packages/transformers/models/whisper/generation_whisper.py:496: FutureWarning: The input name `inputs` is deprecated. Please make sure to use `input_features` instead.\n",
      "  warnings.warn(\n",
      "You have passed task=transcribe, but also have set `forced_decoder_ids` to [[1, None], [2, 50360]] which creates a conflict. `forced_decoder_ids` will be ignored in favor of task=transcribe.\n",
      "The attention mask is not set and cannot be inferred from input because pad token is same as eos token. As a consequence, you may observe unexpected behavior. Please pass your input's `attention_mask` to obtain reliable results.\n"
     ]
    },
    {
     "name": "stdout",
     "output_type": "stream",
     "text": [
      "time: 12.3 s (started: 2024-09-19 06:30:07 +00:00)\n"
     ]
    }
   ],
   "source": [
    "result = pipe(sample, batch_size=8, return_timestamps=True)\n"
   ]
  },
  {
   "cell_type": "code",
   "execution_count": 10,
   "id": "7155541b-8c59-464c-8644-e5c1f3decb67",
   "metadata": {},
   "outputs": [
    {
     "name": "stdout",
     "output_type": "stream",
     "text": [
      " Now, it's time. May I start the presentation on transforming Toshiba to enhance your health value and FY21 second quarter consolidated business results. We are organized this presentation session on online basis. From 4 to 5 o'clock, we will be presenting from our side and followed by 30 minutes' question session for the middle of the media. The questions from Alice And investors will be accepted from 5.30 to 6 o'clock Japan time. Please be aware of that. Now, we will be collecting questions via telephone conferencing system. As is informed you beforehand, the conference call system will require the pre-registration beforehand. Let me introduce the presenter today. President and CEO, Satoshi Tsunakawa. Corporate Senior Executive Vice President, Mamor Hatazawa. Representative Executive Executive Vice President, Corporate Executive Vice President, NCFO, Masei Hiraeta. We have a chairperson of Strategic Review Committee outside director of Paul Broff. He is joining from Hong Kong on online. My name is Hara of Communications, Corporate Communication Department. We are providing simultaneous transition, so if you are watching the live streaming in Japanese, you will be able to hear translation's voice. Please be aware of that. First, before going into transforming Toshiba to enhance Heharo's value, may I have Mr. Tunaka to say a few words upon the receipt of the report from governance enhancement committee. today. Mr. Sunakawa, please. Now, first of all, I'd like to say a few words on behalf of the company upon the report of the Government and Ensenancement Committee. First off, I'd like to express profound appreciation to the members of the Governor Enhancing Committee who have made tremendous efforts and time since their appointment to investigate the root codes of the issue raised in the investigation report, clarify where the responsibility lies and compile recommendations for formulating the measures to repent recurrent. I recognize that the Toshiba's governance enhancement committee, based on the strong belief that restructuring of the governance is essential for the revival of the Toshiba, has compiled a report for our future. In fact, no issue of illegality was discovered, according to the report of the government enhancement committee. Having said that, I feel as a part of the senior management of the company, I am extremely ashamed and embarrassed that the, the senior members of the company and their actions was concluded that an act as a whole violates the corporate ethics demanded by the market. We have just received a final report of the governance Enhance Committee, but we will continue to discuss the governance seriously within the company based on the contents of the report, including recommendations for the formulation of the recurrence prevention measures. We believe that this recurrence prevention measures will form the very first step to restore the trust of the shareholders which have been restored so far. Now, one of the group's philosophy is doing the right thing. Many employees on the front lines of the operations are working day-to-day based on this value. On the other hand, I believe that some of the members of the Singe Management were acted quite differently from this philosophy, and that should be sincerely remorse over. The corporate management is established based on the trust relationship with all stakeholders. The Governor and Assessment Committee also pointed out that the importance of top-at-the-ton and organizational leaders demonstrating their commitment to value, ethics, and integrity. Until now, the culture to recognize the mistakes and the very good communication so that anyone can raise opinions escalated. higher level, but also we need to ensure the psychological safety of all employees. We will make persistent efforts in this regard. As I will announce today, our group decided to separate the energy infrastructure business and storage device business sets. There will be the separate companies and aim for the IPOs, accept independently. This is a drastic change, but because these business will be separated and being independent, and therefore, the committed to people and committed to the future, based on this philosophy, under the new corporate culture, each business is poised to grow, and this is a great opportunity. But beforehand, it is a critical mission of the senior management to enhance governance beforehand. I appreciate your continued support and asking for your cooperation. Thank you very much. Next, we'd like to present on the transforming Toshiba to enhance shareholders' value, and Mr. Tuna Kawa will make presentations. Next, I'd like to explain on our new management policy titled as Transforming Toshiba to Enhense Shelders value. The corporate executive vice president, Hatazawa, will also be presenting, and also on online, the chairperson of Strategic Review Committee, Mr. Paul, will also be attending as well. Now, today, Toshiba Group has decided on its significant transformation to further lead forward for the future. Let me first introduce why this is the best path forward for Toshiba and our shareholders and what it means for our business going forward. And then we would like to invite Mr. Brough to explain on the evaluation made by the Strategic Review Committee. After that, Mr. Hadza will talk on what the business outlook will be for the standalone companies after separation. First, about our path to unlocking the value that I'd like to explain. Now, at the Board of Directorial meeting held this morning, decision was made for Toshiba's strategic reorganization to separate the business into two businesses. As a result, there will be three standalone companies to be formulated. One is infrastructure service company. Second is device company. and the third is Toshiba. As we conclude, thus, strategic reorganization to be the best path forward for Toshiba and their stakeholders, we took into account the view of our important shareholders and other key stakeholders, as well as the business characteristics and the value chain of each of our diverse businesses. Over our history of over 140 years, Toshiba has constantly evolved to stay ahead of the times. Today's announcement is no different. Toshiba has built a portfolio of leading businesses, but in order to enhance our competitive positioning, each business needs greater flexibility to address its own market opportunities and challenges. The official names for the new companies will be announced in due course. Here is an overview of the three independent businesses. Infrastructure service company will consist of Toshiba and energy systems and solutions, infrastructure systems and solutions, building solutions, digital solutions, and battery businesses, and become a company with the forecasted net sales of 2.1 trillion yen according to this fiscal year's forecast. Its increased focus combined with its innovative technological solutions will enable it to play a lean role in driving the transition to ringable energy to meet ambitious global carbon neutrality goals and advancing infrastructure to resilience as a leading player. Device company will be comprised of Toshiba electric device and storage solutions business and become a company with forecasted net sales of 870 billion yen. Its products will be including power semiconductors, high-capacity, hard disk drives, HDD for data centers, and semiconductor manufacturing equipment. It will be a global leader in supporting the evolution of, social and IT infrastructure. Toshiba will continue to hold the company's ownership stake in Kiyokshia Holding Corporation and Toshab Tech Corporation. Kosovo will seek to monetize the share of Kiyokshia at an appropriate timing. The separation this time enables us to better align each new companies by its unique business characteristics. Infrastructure service company related to the technology. business focus on the direct sale of equipment and the provision of solutions to specific customers. It has long business cycles that are more heavily dependent on negotiations between business parties than the market conditions at large. In addition, it will be a capital light business, and there are also major differences to the extent in which we conduct customized production. In contrast, device company primarily, manufactures and sales devices such as semiconductors and other materials, its business cycles are shorter and can be impacted significantly by the market conditions. It will be a capital-intensive business that requires scale of continuous production across multiple customer orders. And relatively...\n",
      "time: 298 μs (started: 2024-09-19 06:30:27 +00:00)\n"
     ]
    }
   ],
   "source": [
    "print(result[\"text\"])"
   ]
  },
  {
   "cell_type": "markdown",
   "id": "469c462b-14c6-49ee-a8d6-4831d5ec17a5",
   "metadata": {},
   "source": [
    "# Testing"
   ]
  },
  {
   "cell_type": "code",
   "execution_count": 13,
   "id": "a4ed0f50-9a49-412d-8187-bf737f0752f1",
   "metadata": {},
   "outputs": [
    {
     "name": "stderr",
     "output_type": "stream",
     "text": [
      "/home/vmadmin/myenv/lib/python3.10/site-packages/transformers/models/whisper/generation_whisper.py:496: FutureWarning: The input name `inputs` is deprecated. Please make sure to use `input_features` instead.\n",
      "  warnings.warn(\n"
     ]
    },
    {
     "name": "stdout",
     "output_type": "stream",
     "text": [
      " Now, it's time. May I start the presentation on transforming Toshiba to enhance your health value and FY21 second quarter consolidated business results. We are organized this presentation session on online basis. From 4 to 5 o'clock, we will be presenting from our side and followed by 30 minutes' question session for the middle of the media. The questions from Alice And investors will be accepted from 5.30 to 6 o'clock Japan time. Please be aware of that. Now, we will be collecting questions via telephone conferencing system. As is informed you beforehand, the conference call system will require the pre-registration beforehand. Let me introduce the presenter today. President and CEO, Satoshi Tsunakawa. Corporate Senior Executive Vice President, Mamor Hatazawa. Representative Executive Executive Vice President, Corporate Executive Vice President, NCFO, Masei Hiraeta. We have a chairperson of Strategic Review Committee outside director of Paul Broff. He is joining from Hong Kong on online. My name is Hara of Communications, Corporate Communication Department. We are providing simultaneous transition, so if you are watching the live streaming in Japanese, you will be able to hear translation's voice. Please be aware of that. First, before going into transforming Toshiba to enhance Heharo's value, may I have Mr. Tunaka to say a few words upon the receipt of the report from governance enhancement committee. today. Mr. Sunakawa, please. Now, first of all, I'd like to say a few words on behalf of the company upon the report of the Government and Ensenancement Committee. First off, I'd like to express profound appreciation to the members of the Governor Enhancing Committee who have made tremendous efforts and time since their appointment to investigate the root codes of the issue raised in the investigation report, clarify where the responsibility lies and compile recommendations for formulating the measures to repent recurrent. I recognize that the Toshiba's governance enhancement committee, based on the strong belief that restructuring of the governance is essential for the revival of the Toshiba, has compiled a report for our future. In fact, no issue of illegality was discovered, according to the report of the government enhancement committee. Having said that, I feel as a part of the senior management of the company, I am extremely ashamed and embarrassed that the, the senior members of the company and their actions was concluded that an act as a whole violates the corporate ethics demanded by the market. We have just received a final report of the governance Enhance Committee, but we will continue to discuss the governance seriously within the company based on the contents of the report, including recommendations for the formulation of the recurrence prevention measures. We believe that this recurrence prevention measures will form the very first step to restore the trust of the shareholders which have been restored so far. Now, one of the group's philosophy is doing the right thing. Many employees on the front lines of the operations are working day-to-day based on this value. On the other hand, I believe that some of the members of the Singe Management were acted quite differently from this philosophy, and that should be sincerely remorse over. The corporate management is established based on the trust relationship with all stakeholders. The Governor and Assessment Committee also pointed out that the importance of top-at-the-ton and organizational leaders demonstrating their commitment to value, ethics, and integrity. Until now, the culture to recognize the mistakes and the very good communication so that anyone can raise opinions escalated. higher level, but also we need to ensure the psychological safety of all employees. We will make persistent efforts in this regard. As I will announce today, our group decided to separate the energy infrastructure business and storage device business sets. There will be the separate companies and aim for the IPOs, accept independently. This is a drastic change, but because these business will be separated and being independent, and therefore, the committed to people and committed to the future, based on this philosophy, under the new corporate culture, each business is poised to grow, and this is a great opportunity. But beforehand, it is a critical mission of the senior management to enhance governance beforehand. I appreciate your continued support and asking for your cooperation. Thank you very much. Next, we'd like to present on the transforming Toshiba to enhance shareholders' value, and Mr. Tuna Kawa will make presentations. Next, I'd like to explain on our new management policy titled as Transforming Toshiba to Enhense Shelders value. The corporate executive vice president, Hatazawa, will also be presenting, and also on online, the chairperson of Strategic Review Committee, Mr. Paul, will also be attending as well. Now, today, Toshiba Group has decided on its significant transformation to further lead forward for the future. Let me first introduce why this is the best path forward for Toshiba and our shareholders and what it means for our business going forward. And then we would like to invite Mr. Brough to explain on the evaluation made by the Strategic Review Committee. After that, Mr. Hadza will talk on what the business outlook will be for the standalone companies after separation. First, about our path to unlocking the value that I'd like to explain. Now, at the Board of Directorial meeting held this morning, decision was made for Toshiba's strategic reorganization to separate the business into two businesses. As a result, there will be three standalone companies to be formulated. One is infrastructure service company. Second is device company. and the third is Toshiba. As we conclude, thus, strategic reorganization to be the best path forward for Toshiba and their stakeholders, we took into account the view of our important shareholders and other key stakeholders, as well as the business characteristics and the value chain of each of our diverse businesses. Over our history of over 140 years, Toshiba has constantly evolved to stay ahead of the times. Today's announcement is no different. Toshiba has built a portfolio of leading businesses, but in order to enhance our competitive positioning, each business needs greater flexibility to address its own market opportunities and challenges. The official names for the new companies will be announced in due course. Here is an overview of the three independent businesses. Infrastructure service company will consist of Toshiba and energy systems and solutions, infrastructure systems and solutions, building solutions, digital solutions, and battery businesses, and become a company with the forecasted net sales of 2.1 trillion yen according to this fiscal year's forecast. Its increased focus combined with its innovative technological solutions will enable it to play a lean role in driving the transition to ringable energy to meet ambitious global carbon neutrality goals and advancing infrastructure to resilience as a leading player. Device company will be comprised of Toshiba electric device and storage solutions business and become a company with forecasted net sales of 870 billion yen. Its products will be including power semiconductors, high-capacity, hard disk drives, HDD for data centers, and semiconductor manufacturing equipment. It will be a global leader in supporting the evolution of, social and IT infrastructure. Toshiba will continue to hold the company's ownership stake in Kiyokshia Holding Corporation and Toshab Tech Corporation. Kosovo will seek to monetize the share of Kiyokshia at an appropriate timing. The separation this time enables us to better align each new companies by its unique business characteristics. Infrastructure service company related to the technology. business focus on the direct sale of equipment and the provision of solutions to specific customers. It has long business cycles that are more heavily dependent on negotiations between business parties than the market conditions at large. In addition, it will be a capital light business, and there are also major differences to the extent in which we conduct customized production. In contrast, device company primarily, manufactures and sales devices such as semiconductors and other materials, its business cycles are shorter and can be impacted significantly by the market conditions. It will be a capital-intensive business that requires scale of continuous production across multiple customer orders. And relatively...\n",
      "time: 9.53 s (started: 2024-09-19 06:32:25 +00:00)\n"
     ]
    }
   ],
   "source": [
    "sample = \"https://huggingface.co/datasets/reach-vb/random-audios/resolve/main/4469669-10.mp3\"\n",
    "result = pipe(sample, batch_size=8, return_timestamps=True)\n",
    "print(result[\"text\"])"
   ]
  },
  {
   "cell_type": "code",
   "execution_count": 14,
   "id": "0492e096-2486-46fb-8a6b-2bf337fa126f",
   "metadata": {},
   "outputs": [
    {
     "name": "stderr",
     "output_type": "stream",
     "text": [
      "/home/vmadmin/myenv/lib/python3.10/site-packages/transformers/models/whisper/generation_whisper.py:496: FutureWarning: The input name `inputs` is deprecated. Please make sure to use `input_features` instead.\n",
      "  warnings.warn(\n"
     ]
    },
    {
     "name": "stdout",
     "output_type": "stream",
     "text": [
      " And as I bring you all the latest from the world of sports. Take a look. An all-run performance by India beat Australia by 36 runs in the second semi-final of the ICC Women's World Cup on Thursday at Derby. Herman Preet Kor produced one of the greatest ever ODIHN Knox in women's cricket as India stormed into the. the final. Herman Preet's third ODIS century was embellished with 24s and as many as 7-6s. It is the second time that India has entered the summit clash of the global event having lost to Australia in the final of the 2005 edition. It was also the second highest individual score in ODIs for India's. behind Dippedi Sharma's unbeaten 188 runs against South Africa earlier this year. With enough runs on the board, confident Indian Seymers Goswami and Shikha Pandey came up with brilliant opening spells.\n",
      "time: 1.16 s (started: 2024-09-19 06:33:47 +00:00)\n"
     ]
    }
   ],
   "source": [
    "sample = \"/home/vmadmin/myenv/English/clip1.mp3\"\n",
    "result = pipe(sample, batch_size=8, return_timestamps=True)\n",
    "print(result[\"text\"])"
   ]
  },
  {
   "cell_type": "code",
   "execution_count": 27,
   "id": "b8949ba1-e732-40b6-849a-0c89f5d30e5e",
   "metadata": {},
   "outputs": [
    {
     "name": "stderr",
     "output_type": "stream",
     "text": [
      "/home/vmadmin/myenv/lib/python3.10/site-packages/transformers/models/whisper/generation_whisper.py:496: FutureWarning: The input name `inputs` is deprecated. Please make sure to use `input_features` instead.\n",
      "  warnings.warn(\n"
     ]
    },
    {
     "name": "stdout",
     "output_type": "stream",
     "text": [
      " Moving now to some tragic news coming in from Jammu and Kashmir. Well, right ahead of the Prime Minister's visit a major encounter in Jammun Kishmir's Kistvah. In fact, tragically, two soldiers have died in the line of duty. In fact, several other soldiers have been injured as well. There was a brief gunfight is what we can report at this moment in Jammu and Kishmir's Kistvahar and two soldiers have died. Of course, these are soldiers leading from the front and they've been killed in the line of action. Absolutely tragic there. And this comes after. There was a major arms hall as well in parts of Jammu and Kashmir. And the timing of the encounter is also extremely important given the fact that this comes right ahead of the assembly polls. The assembly pole is just a week away. Less than a week away perhaps the first phase will be held on the 18th of September. So extremely concerning there. and most tragic the fact that two soldiers have died in this gun battle.\n",
      "time: 1.21 s (started: 2024-09-19 06:56:57 +00:00)\n"
     ]
    }
   ],
   "source": [
    "sample = \"/home/vmadmin/myenv/English/clip2.mp3\"\n",
    "result = pipe(sample, batch_size=8, return_timestamps=True)\n",
    "print(result[\"text\"])"
   ]
  },
  {
   "cell_type": "code",
   "execution_count": 16,
   "id": "f92e3603-6a68-433f-9193-4603ad24e09e",
   "metadata": {},
   "outputs": [
    {
     "name": "stderr",
     "output_type": "stream",
     "text": [
      "/home/vmadmin/myenv/lib/python3.10/site-packages/transformers/models/whisper/generation_whisper.py:496: FutureWarning: The input name `inputs` is deprecated. Please make sure to use `input_features` instead.\n",
      "  warnings.warn(\n"
     ]
    },
    {
     "name": "stdout",
     "output_type": "stream",
     "text": [
      " When I was shocked how to how to climb up on the without hand, I'm a world championship medal, I got a medal, I got a real Paira RACI, then I knew I got to Paira are different and Abel Walsh. Then I got to know that I had there were a surgery also I thought I'd like I'd like to do I'm not even though then I'm not even though then said you can't you can't do you so I'm dumbed and I did then he got up so he made and he was it was easy it was easy strength six, seven days I practiced then I was I was a goal world number one. When I was in the first when I was in the I was always I would be I would be I could do something I'm too thing gave, I'm I'm a You know,\n",
      "time: 1.26 s (started: 2024-09-19 06:37:32 +00:00)\n"
     ]
    }
   ],
   "source": [
    "sample = \"/home/vmadmin/myenv/English/clip3.mp3\"\n",
    "result = pipe(sample, batch_size=8, return_timestamps=True)\n",
    "print(result[\"text\"])"
   ]
  },
  {
   "cell_type": "code",
   "execution_count": 17,
   "id": "4cfe665f-c4cc-40c2-a2a8-4cafe099e4a5",
   "metadata": {},
   "outputs": [
    {
     "name": "stderr",
     "output_type": "stream",
     "text": [
      "/home/vmadmin/myenv/lib/python3.10/site-packages/transformers/models/whisper/generation_whisper.py:496: FutureWarning: The input name `inputs` is deprecated. Please make sure to use `input_features` instead.\n",
      "  warnings.warn(\n"
     ]
    },
    {
     "name": "stdout",
     "output_type": "stream",
     "text": [
      " We are struggling with some issues. There's a big debate in our country about manufacturing. Now the fact is, I mean there are people who would say, why we're importing so much from China? Part of it is because we neglected manufacturing through the 1960s, 70s, 80s and 90s, maybe even the first decade of 2000. When, I mean, think back, I mean, all of you are as connected and have as good a memory about our country as our country as I'm. what our country is, I do. When did we actually have governments who made a major push on manufacturing? And yet there are people who today come and say, no, we need to find a fix, as though it's something you can do in Stentenously. And rather, by the way, people who actually also say that we're incapable of it. We should not even attempt it. So, now ask yourself, can you actually be a major power in the world without manufacturing? Because a major power needs technology. Nobody can develop technology without developing manufacturing. But yet you have that strain of thought also. So as I said, you know, it's, it requires, until we develop the human resources, it requires hard work, until you build the infrastructure, until you have those policies. So life is not khattakht. Life is hard work. Life is diligence. Anybody who's held a job and labelled at it, knows it.\n",
      "time: 1.69 s (started: 2024-09-19 06:37:46 +00:00)\n"
     ]
    }
   ],
   "source": [
    "sample = \"/home/vmadmin/myenv/English/clip4.mp3\"\n",
    "result = pipe(sample, batch_size=8, return_timestamps=True)\n",
    "print(result[\"text\"])"
   ]
  },
  {
   "cell_type": "code",
   "execution_count": 18,
   "id": "5c0e4569-89f6-44fa-a278-8924c911e9d1",
   "metadata": {},
   "outputs": [
    {
     "name": "stderr",
     "output_type": "stream",
     "text": [
      "/home/vmadmin/myenv/lib/python3.10/site-packages/transformers/models/whisper/generation_whisper.py:496: FutureWarning: The input name `inputs` is deprecated. Please make sure to use `input_features` instead.\n",
      "  warnings.warn(\n"
     ]
    },
    {
     "name": "stdout",
     "output_type": "stream",
     "text": [
      " On this former industrial site in Whitehaven, Cumbria, planned to produce 60 million tons of new coal. But since it was approved, a Supreme Court ruling found projects must consider carbon emissions from burning fossil fuels, not just digging them up. The mine was the first legal test of that. It's been a really important victory. But what frustrates me most is that the years the decision makers have been putting all their efforts and fighting for a coal mine in Whitehaven, they could have spent that time investing in green jobs. It was mining jobs the community expected. This site has sat empty for 20 years. It's devastating for the community. The jobs that were going to be created were possibly in the construction and supply chain surrounding it were probably around 2,000. And the long-term, well-paid jobs for running the facility were in excess of 500. The new government has been clear about its net zero ambitions, but judgments like this one could test them. We're still reliance on\n",
      "time: 1.2 s (started: 2024-09-19 06:38:38 +00:00)\n"
     ]
    }
   ],
   "source": [
    "sample = \"/home/vmadmin/myenv/English/1010834_2024.09.14_08.06.27-2024.09.14_08.07.27.wav\"\n",
    "result = pipe(sample, batch_size=8, return_timestamps=True)\n",
    "print(result[\"text\"])"
   ]
  },
  {
   "cell_type": "code",
   "execution_count": 19,
   "id": "16c89ba6-9c88-4a5d-a661-f8fc84c29cde",
   "metadata": {},
   "outputs": [
    {
     "name": "stderr",
     "output_type": "stream",
     "text": [
      "/home/vmadmin/myenv/lib/python3.10/site-packages/transformers/models/whisper/generation_whisper.py:496: FutureWarning: The input name `inputs` is deprecated. Please make sure to use `input_features` instead.\n",
      "  warnings.warn(\n"
     ]
    },
    {
     "name": "stdout",
     "output_type": "stream",
     "text": [
      " Content we flagged was taken down, but it's still possible to find more. A century-old ideology of hate pushed by cutting-edge algorithms to a massive modern audience. Tom Cheshire, Sky News. The UK's High Court has reversed the decision to approve the UK's first new coal mine in 30 years. It follows the confirmation this week that nearly 3,000 jobs will be lost at the Port Talbot Steelworks and potentially 400 at Scotland's only oil refinery Grangemouth. Our science and technology editor Tom Clark reports now on the UK's changing green credentials. Leave it in the ground. Their case argued UK coal has no future on a rapidly warming planet. We have won. The High Court pretty much agreed. It's a huge win. And this, the proposed coal mine that lost. The Woodhouse Colliery.\n",
      "time: 1.06 s (started: 2024-09-19 06:39:26 +00:00)\n"
     ]
    }
   ],
   "source": [
    "sample = \"/home/vmadmin/myenv/English/1010834_2024.09.14_08.05.27-2024.09.14_08.06.27.wav\"\n",
    "result = pipe(sample, batch_size=8, return_timestamps=True)\n",
    "print(result[\"text\"])"
   ]
  },
  {
   "cell_type": "code",
   "execution_count": 20,
   "id": "b41a036f-7f8c-4de5-b142-98493bf081d2",
   "metadata": {},
   "outputs": [
    {
     "name": "stderr",
     "output_type": "stream",
     "text": [
      "/home/vmadmin/myenv/lib/python3.10/site-packages/transformers/models/whisper/generation_whisper.py:496: FutureWarning: The input name `inputs` is deprecated. Please make sure to use `input_features` instead.\n",
      "  warnings.warn(\n"
     ]
    },
    {
     "name": "stdout",
     "output_type": "stream",
     "text": [
      " content to people who don't really understand but think it's cool or funny. However, the impact on the victim is the same, which is the kind of experience of hate of minority communities. This is one of the musicians whose songs have been bolted on to Nazi content without their knowledge. The artist, Pastel Goast, told us, I was not previously aware that my music was being used in this way, and I find it shocking and deplorable. Sky News previously reported about Islamic State supporters using the same sounds loophole to gain more traction on TikTok. We forwarded all the Nazi videos we found this time to TikTok and asked the company for comment. A spokesperson told us, this content was immediately removed for breaching our strict policies against hate speech. We regularly train our safety professionals and update our safeguards to detect hateful behavior on an ongoing basis and we remove 91% of this type of content before it is reported to us. Thank you.\n",
      "time: 1.12 s (started: 2024-09-19 06:39:54 +00:00)\n"
     ]
    }
   ],
   "source": [
    "sample = \"/home/vmadmin/myenv/English/1010834_2024.09.14_08.04.27-2024.09.14_08.05.27.wav\"\n",
    "result = pipe(sample, batch_size=8, return_timestamps=True)\n",
    "print(result[\"text\"])"
   ]
  },
  {
   "cell_type": "code",
   "execution_count": 21,
   "id": "ddda9d8d-6999-43b7-9183-f743bd26e7b0",
   "metadata": {},
   "outputs": [
    {
     "name": "stderr",
     "output_type": "stream",
     "text": [
      "You seem to be using the pipelines sequentially on GPU. In order to maximize efficiency please use a dataset\n",
      "/home/vmadmin/myenv/lib/python3.10/site-packages/transformers/models/whisper/generation_whisper.py:496: FutureWarning: The input name `inputs` is deprecated. Please make sure to use `input_features` instead.\n",
      "  warnings.warn(\n"
     ]
    },
    {
     "name": "stdout",
     "output_type": "stream",
     "text": [
      " popular with children and the owner of Minecraft, Microsoft told us that hate speech and terrorist content is strictly forbidden and they take action to remove such content. But on TikTok, there are posts that are just too graphic to show, specifically anti-Semitic. We've blurred this one here, which shows images from gas chambers set to the same type of audio. And there's much more of this graphic type of contact. In fact, Sky News has seen 72,000 posts used in this way. Not only is that number big, but the level of engagement is high too. Between them, these posts have racked up 21 million likes, showing people are engaging with the videos. Well, how are they engaging? This is a good example, an image of a Nuremberg rally, accompanied by a Hitler speech. It's been liked by more than 56,000 users. And in a comment, there's been liked 1,695 times, one user states, modern society needs him. Another says, we miss you. It's difficult to know the motivations of the people posting it. It's probably a range from people who are knowingly spreading white national.\n",
      "time: 1.23 s (started: 2024-09-19 06:40:18 +00:00)\n"
     ]
    }
   ],
   "source": [
    "sample = \"/home/vmadmin/myenv/English/1010834_2024.09.14_08.03.27-2024.09.14_08.04.27.wav\"\n",
    "result = pipe(sample, batch_size=8, return_timestamps=True)\n",
    "print(result[\"text\"])"
   ]
  },
  {
   "cell_type": "code",
   "execution_count": 22,
   "id": "fe100794-7a31-462d-ae34-fddb0b29659f",
   "metadata": {},
   "outputs": [
    {
     "name": "stderr",
     "output_type": "stream",
     "text": [
      "/home/vmadmin/myenv/lib/python3.10/site-packages/transformers/models/whisper/generation_whisper.py:496: FutureWarning: The input name `inputs` is deprecated. Please make sure to use `input_features` instead.\n",
      "  warnings.warn(\n"
     ]
    },
    {
     "name": "stdout",
     "output_type": "stream",
     "text": [
      " Nazi speeches and marching music have been used as background sound on tens of thousands of TikTok videos as far-right groups try and spread their message. To appeal to a wider audience, most of the speeches are set to a type of music popular on TikTok called Drift Fong, without the creator's permission or knowledge. And that could be all sorts, cat videos, gym post, gaming or cars here. There's a few of the most popular categories we have seen. It's a way to get content shared widely before offering the user more sinister stuff if they hit the sound button in the corner of a post, which shows them other videos using the same sound. For example, this is a more innocuous video of a cat that looks like Hitler. We'll put that back into the stack and this is a huge stack here. Have a look at another type we've seen gaming. This video was made using Minecraft, the German dictator, recreated in the game. Now, this is popular with children and the owner of Minecraft. Microsoft told us that hate speech and terrorist content is\n",
      "time: 1.17 s (started: 2024-09-19 06:41:04 +00:00)\n"
     ]
    }
   ],
   "source": [
    "sample = \"/home/vmadmin/myenv/English/1010834_2024.09.14_08.02.27-2024.09.14_08.03.27.wav\"\n",
    "result = pipe(sample, batch_size=8, return_timestamps=True)\n",
    "print(result[\"text\"])"
   ]
  },
  {
   "cell_type": "code",
   "execution_count": 23,
   "id": "fd2567c0-3330-441b-a229-c8ca7331e7c4",
   "metadata": {},
   "outputs": [
    {
     "name": "stderr",
     "output_type": "stream",
     "text": [
      "/home/vmadmin/myenv/lib/python3.10/site-packages/transformers/models/whisper/generation_whisper.py:496: FutureWarning: The input name `inputs` is deprecated. Please make sure to use `input_features` instead.\n",
      "  warnings.warn(\n"
     ]
    },
    {
     "name": "stdout",
     "output_type": "stream",
     "text": [
      " assembly seats. And in second and third phase prime minister would be campaigning in Riyasi district, in Katra, Vaishna, Wayshan Devi Connoosgency, Kutwa, Jammu. So, an extensive campaigning, whom Mr. Amit Shah has already addressed Raleigh is here. He is coming here again in next few days. So, other senior leaders, BJP President, JAP, Nanda, defense minister Rajnaz Singh recently addressed Riley in Ramban and Banha as well so top leaders, top guns of the BJP are comparing in Jammanyahu as the first phase of polling is approaching to just four days away. Nazir, stay on with us. There's some more news coming in from Jammu and Kashmir. Like you had mentioned, there was an encounter that took place in Jambun Kashmir, right ahead of the Prime Minister's visit. Three separate encounters, in fact. In Kishwar, two soldiers have unfortunately died. Two terrorists were killed in Katwa in the encounter and an encounter underway in Barok Mullar.\n",
      "time: 1.22 s (started: 2024-09-19 06:47:16 +00:00)\n"
     ]
    }
   ],
   "source": [
    "sample = \"/home/vmadmin/myenv/English/1010259_2024.09.14_08.04.28-2024.09.14_08.05.28.wav\"\n",
    "result = pipe(sample, batch_size=8, return_timestamps=True)\n",
    "print(result[\"text\"])"
   ]
  },
  {
   "cell_type": "code",
   "execution_count": 24,
   "id": "af0ba292-1002-45d6-938f-59c43477ed18",
   "metadata": {},
   "outputs": [
    {
     "name": "stderr",
     "output_type": "stream",
     "text": [
      "/home/vmadmin/myenv/lib/python3.10/site-packages/transformers/models/whisper/generation_whisper.py:496: FutureWarning: The input name `inputs` is deprecated. Please make sure to use `input_features` instead.\n",
      "  warnings.warn(\n"
     ]
    },
    {
     "name": "stdout",
     "output_type": "stream",
     "text": [
      " voters and galvanize them get win seats for the BJP. Doda-Khistvar area is a very significant important region for the BJP when it comes to increasing the number of seats in Jammu province. So, besides addressing this rally in Duda and Kistewar and Ramban are part of it because it was essentially one district until 2008 and then they were. were two more districts were carved out of us while Doda district. So it has eight assembly segments and BJP is fighting from all the eight even as these are Muslim majority region but some of the during the delimitation some of the conestrances have been carved out which have become the Hindu majority seats of BJP is hoping to win big from this this election from Doda, Kishdhwara Ramban district which has eight Thank you.\n",
      "time: 1.01 s (started: 2024-09-19 06:47:46 +00:00)\n"
     ]
    }
   ],
   "source": [
    "sample = \"/home/vmadmin/myenv/English/1010259_2024.09.14_08.03.28-2024.09.14_08.04.28.wav\"\n",
    "result = pipe(sample, batch_size=8, return_timestamps=True)\n",
    "print(result[\"text\"])"
   ]
  },
  {
   "cell_type": "code",
   "execution_count": 25,
   "id": "9994001d-fcf5-4ffb-8a3f-8bab8deaa4be",
   "metadata": {},
   "outputs": [
    {
     "name": "stderr",
     "output_type": "stream",
     "text": [
      "/home/vmadmin/myenv/lib/python3.10/site-packages/transformers/models/whisper/generation_whisper.py:496: FutureWarning: The input name `inputs` is deprecated. Please make sure to use `input_features` instead.\n",
      "  warnings.warn(\n"
     ]
    },
    {
     "name": "stdout",
     "output_type": "stream",
     "text": [
      " to be addressed by the Prime Minister in Duda near Kishhtwar of Jammu and Kashmir ahead of the first phase of polling on the 18th of September. Now, Prime Minister Modi had last campaign for the BJP in the Chenab region during the 2014 Assembly elections when the party had won four of the six seats. Remember, the number of seats after de-limitation has increased to eight. Ahead of the Prime Minister's visit, there was an encounter that broke Cartoon Kishwar as well, the Prime Minister will be visiting Duda after 45 years at least. My colleague Nazir joins us with more details. Nazir, if you could take us through the Prime Minister's visit and the big campaign for the BJP in Jambon Kashmir. Well, it is Prime Minister Narendra Modi's first election rally and in Jammu and Kashmir Assembly elections, four days ahead of the first phase of assembly polling. So, very significant rally as far as the BJN. JP's election campaign is concerned. He is seen as the biggest vote catcher and who could move.\n",
      "time: 1.29 s (started: 2024-09-19 06:48:37 +00:00)\n"
     ]
    }
   ],
   "source": [
    "sample = \"/home/vmadmin/myenv/English/1010259_2024.09.14_08.02.28-2024.09.14_08.03.28.wav\"\n",
    "result = pipe(sample, batch_size=8, return_timestamps=True)\n",
    "print(result[\"text\"])"
   ]
  },
  {
   "cell_type": "code",
   "execution_count": 26,
   "id": "b5cb7c35-b433-4eff-9249-35267a142b58",
   "metadata": {},
   "outputs": [
    {
     "name": "stderr",
     "output_type": "stream",
     "text": [
      "/home/vmadmin/myenv/lib/python3.10/site-packages/transformers/models/whisper/generation_whisper.py:496: FutureWarning: The input name `inputs` is deprecated. Please make sure to use `input_features` instead.\n",
      "  warnings.warn(\n"
     ]
    },
    {
     "name": "stdout",
     "output_type": "stream",
     "text": [
      " probe continues into the Delhi gym owner's death. Six suspects detained two country-made pistols recovered of Khan origin gym owner were shot dead in GK. Adani listed among world's best companies of 2024 prestigious global industrial industrial industrial industrial industrial industrial list features Adani's eight company. A top focused Prime Minister Modi, said to address an election rally in Doda today, this is the first election Thank you.\n",
      "time: 667 ms (started: 2024-09-19 06:49:06 +00:00)\n"
     ]
    }
   ],
   "source": [
    "sample = \"/home/vmadmin/myenv/English/1010259_2024.09.14_08.01.27-2024.09.14_08.02.27.wav\"\n",
    "result = pipe(sample, batch_size=8, return_timestamps=True)\n",
    "print(result[\"text\"])"
   ]
  },
  {
   "cell_type": "markdown",
   "id": "91c62c6a-2fc2-4ee4-bd2b-ced07815f89d",
   "metadata": {},
   "source": [
    "# Timestamping"
   ]
  },
  {
   "cell_type": "code",
   "execution_count": 29,
   "id": "5a661be8-e081-4a6e-9c2c-b8f3be8c1bee",
   "metadata": {},
   "outputs": [
    {
     "name": "stderr",
     "output_type": "stream",
     "text": [
      "/home/vmadmin/myenv/lib/python3.10/site-packages/transformers/models/whisper/generation_whisper.py:496: FutureWarning: The input name `inputs` is deprecated. Please make sure to use `input_features` instead.\n",
      "  warnings.warn(\n"
     ]
    },
    {
     "name": "stdout",
     "output_type": "stream",
     "text": [
      "{'text': \" probe continues into the Delhi gym owner's death. Six suspects detained two country-made pistols recovered of Khan origin gym owner were shot dead in GK. Adani listed among world's best companies of 2024 prestigious global industrial industrial industrial industrial industrial industrial list features Adani's eight company. A top focused Prime Minister Modi, said to address an election rally in Doda today, this is the first election Thank you.\", 'chunks': [{'timestamp': (0.0, 6.44), 'text': \" probe continues into the Delhi gym owner's death.\"}, {'timestamp': (6.44, 12.38), 'text': ' Six suspects detained two country-made pistols recovered of Khan origin gym owner were shot dead in GK.'}, {'timestamp': (25.5, 29.98), 'text': \" Adani listed among world's best companies of 2024 prestigious global industrial industrial industrial industrial industrial industrial\"}, {'timestamp': (0.0, 2.14), 'text': \" list features Adani's eight company.\"}, {'timestamp': (24.44, 29.94), 'text': ' A top focused Prime Minister Modi, said to address an election rally in Doda today, this is the first election'}, {'timestamp': (0.0, 2.0), 'text': ' Thank you.'}]}\n",
      "Full Transcript:  probe continues into the Delhi gym owner's death. Six suspects detained two country-made pistols recovered of Khan origin gym owner were shot dead in GK. Adani listed among world's best companies of 2024 prestigious global industrial industrial industrial industrial industrial industrial list features Adani's eight company. A top focused Prime Minister Modi, said to address an election rally in Doda today, this is the first election Thank you.\n",
      "time: 627 ms (started: 2024-09-19 07:15:41 +00:00)\n"
     ]
    }
   ],
   "source": [
    "# Input audio sample\n",
    "sample = \"/home/vmadmin/myenv/English/1010259_2024.09.14_08.01.27-2024.09.14_08.02.27.wav\"\n",
    "\n",
    "# Perform speech recognition with timestamps\n",
    "result = pipe(sample, batch_size=8, return_timestamps=True)\n",
    "\n",
    "# Check the structure of the result\n",
    "print(result)\n",
    "\n",
    "# Assuming the result is a dictionary with 'text' and 'timestamps'\n",
    "if isinstance(result, dict):\n",
    "    # Print the full transcript\n",
    "    print(\"Full Transcript:\", result[\"text\"])\n",
    "\n",
    "    # Print each segment if timestamps are provided\n",
    "    if \"timestamps\" in result:\n",
    "        for segment in result[\"timestamps\"]:\n",
    "            print(f\"Transcript: {segment['text']}, Start: {segment['start']}, End: {segment['end']}\")\n",
    "else:\n",
    "    print(\"Unexpected result format:\", result)"
   ]
  },
  {
   "cell_type": "code",
   "execution_count": 30,
   "id": "9455b9b4-5794-49c9-a31b-18ab04c3ba19",
   "metadata": {},
   "outputs": [
    {
     "name": "stderr",
     "output_type": "stream",
     "text": [
      "/home/vmadmin/myenv/lib/python3.10/site-packages/transformers/models/whisper/generation_whisper.py:496: FutureWarning: The input name `inputs` is deprecated. Please make sure to use `input_features` instead.\n",
      "  warnings.warn(\n"
     ]
    },
    {
     "name": "stdout",
     "output_type": "stream",
     "text": [
      "Full Transcript:  probe continues into the Delhi gym owner's death. Six suspects detained two country-made pistols recovered of Khan origin gym owner were shot dead in GK. Adani listed among world's best companies of 2024 prestigious global industrial industrial industrial industrial industrial industrial list features Adani's eight company. A top focused Prime Minister Modi, said to address an election rally in Doda today, this is the first election Thank you.\n",
      "Transcript:  probe continues into the Delhi gym owner's death., Start: 0.00, End: 6.44\n",
      "Transcript:  Six suspects detained two country-made pistols recovered of Khan origin gym owner were shot dead in GK., Start: 6.44, End: 25.50\n",
      "Transcript:  Adani listed among world's best companies of 2024 prestigious global industrial industrial industrial industrial industrial industrial, Start: 25.50, End: 0.00\n",
      "Transcript:  list features Adani's eight company., Start: 0.00, End: 24.44\n",
      "Transcript:  A top focused Prime Minister Modi, said to address an election rally in Doda today, this is the first election, Start: 24.44, End: 0.00\n",
      "Transcript:  Thank you., Start: 0.00, End: 60.00\n",
      "time: 645 ms (started: 2024-09-19 07:21:59 +00:00)\n"
     ]
    }
   ],
   "source": [
    "# Input audio sample\n",
    "sample = \"/home/vmadmin/myenv/English/1010259_2024.09.14_08.01.27-2024.09.14_08.02.27.wav\"\n",
    "\n",
    "# Perform speech recognition with timestamps\n",
    "result = pipe(sample, batch_size=8, return_timestamps=True)\n",
    "\n",
    "# Print the full transcript\n",
    "print(\"Full Transcript:\", result[\"text\"])\n",
    "\n",
    "# Adjust timestamps\n",
    "num_chunks = len(result['chunks'])\n",
    "total_duration = 60  # Total duration in seconds\n",
    "adjusted_chunks = []\n",
    "\n",
    "# Set the start time for the first chunk\n",
    "start_time = 0.0\n",
    "\n",
    "# Calculate adjusted timestamps\n",
    "for i, chunk in enumerate(result[\"chunks\"]):\n",
    "    # End time is the start time of the next chunk, or total duration for the last chunk\n",
    "    if i < num_chunks - 1:\n",
    "        end_time = result[\"chunks\"][i + 1]['timestamp'][0]  # Start time of next chunk\n",
    "    else:\n",
    "        end_time = total_duration  # Last chunk should end at total duration\n",
    "    \n",
    "    adjusted_chunks.append({\n",
    "        'text': chunk['text'],\n",
    "        'timestamp': (start_time, end_time)\n",
    "    })\n",
    "    \n",
    "    # Update the start time for the next chunk\n",
    "    start_time = end_time\n",
    "\n",
    "# Print each adjusted chunk with timestamps\n",
    "for chunk in adjusted_chunks:\n",
    "    start, end = chunk['timestamp']\n",
    "    print(f\"Transcript: {chunk['text']}, Start: {start:.2f}, End: {end:.2f}\")"
   ]
  },
  {
   "cell_type": "code",
   "execution_count": 31,
   "id": "cc1a042b-8fcb-4864-96cf-5ea2588bbb43",
   "metadata": {},
   "outputs": [
    {
     "name": "stderr",
     "output_type": "stream",
     "text": [
      "/home/vmadmin/myenv/lib/python3.10/site-packages/transformers/models/whisper/generation_whisper.py:496: FutureWarning: The input name `inputs` is deprecated. Please make sure to use `input_features` instead.\n",
      "  warnings.warn(\n"
     ]
    },
    {
     "name": "stdout",
     "output_type": "stream",
     "text": [
      "Full Transcript:  probe continues into the Delhi gym owner's death. Six suspects detained two country-made pistols recovered of Khan origin gym owner were shot dead in GK. Adani listed among world's best companies of 2024 prestigious global industrial industrial industrial industrial industrial industrial list features Adani's eight company. A top focused Prime Minister Modi, said to address an election rally in Doda today, this is the first election Thank you.\n",
      "Transcript:  probe continues into the Delhi gym owner's death., Start: 0.00, End: 6.44\n",
      "Transcript:  Six suspects detained two country-made pistols recovered of Khan origin gym owner were shot dead in GK., Start: 6.44, End: 25.50\n",
      "Transcript:  Adani listed among world's best companies of 2024 prestigious global industrial industrial industrial industrial industrial industrial, Start: 25.50, End: 0.00\n",
      "Transcript:  list features Adani's eight company., Start: 0.00, End: 24.44\n",
      "Transcript:  A top focused Prime Minister Modi, said to address an election rally in Doda today, this is the first election, Start: 24.44, End: 0.00\n",
      "Transcript:  Thank you., Start: 0.00, End: 60.00\n",
      "time: 642 ms (started: 2024-09-19 07:26:22 +00:00)\n"
     ]
    }
   ],
   "source": [
    "# Input audio sample\n",
    "sample = \"/home/vmadmin/myenv/English/1010259_2024.09.14_08.01.27-2024.09.14_08.02.27.wav\"\n",
    "\n",
    "# Perform speech recognition with timestamps\n",
    "result = pipe(sample, batch_size=8, return_timestamps=True)\n",
    "\n",
    "# Print the full transcript\n",
    "print(\"Full Transcript:\", result[\"text\"])\n",
    "\n",
    "# Adjust timestamps\n",
    "num_chunks = len(result['chunks'])\n",
    "total_duration = 60  # Total duration in seconds\n",
    "adjusted_chunks = []\n",
    "\n",
    "# Set the start time for the first chunk\n",
    "start_time = 0.0\n",
    "\n",
    "# Calculate adjusted timestamps\n",
    "for i, chunk in enumerate(result[\"chunks\"]):\n",
    "    # If it's the last chunk, set the end time to total duration\n",
    "    if i == num_chunks - 1:\n",
    "        end_time = total_duration\n",
    "    else:\n",
    "        # End time is the start time of the next chunk\n",
    "        end_time = result[\"chunks\"][i + 1]['timestamp'][0]\n",
    "\n",
    "    # Append the adjusted chunk\n",
    "    adjusted_chunks.append({\n",
    "        'text': chunk['text'],\n",
    "        'timestamp': (start_time, end_time)\n",
    "    })\n",
    "    \n",
    "    # Update the start time for the next chunk\n",
    "    start_time = end_time\n",
    "\n",
    "# Print each adjusted chunk with timestamps\n",
    "for chunk in adjusted_chunks:\n",
    "    start, end = chunk['timestamp']\n",
    "    print(f\"Transcript: {chunk['text']}, Start: {start:.2f}, End: {end:.2f}\")"
   ]
  },
  {
   "cell_type": "code",
   "execution_count": 32,
   "id": "8cd1544b-3529-4e60-a867-eaedf62320fc",
   "metadata": {},
   "outputs": [
    {
     "name": "stderr",
     "output_type": "stream",
     "text": [
      "/home/vmadmin/myenv/lib/python3.10/site-packages/transformers/models/whisper/generation_whisper.py:496: FutureWarning: The input name `inputs` is deprecated. Please make sure to use `input_features` instead.\n",
      "  warnings.warn(\n"
     ]
    },
    {
     "name": "stdout",
     "output_type": "stream",
     "text": [
      "Full Transcript:  probe continues into the Delhi gym owner's death. Six suspects detained two country-made pistols recovered of Khan origin gym owner were shot dead in GK. Adani listed among world's best companies of 2024 prestigious global industrial industrial industrial industrial industrial industrial list features Adani's eight company. A top focused Prime Minister Modi, said to address an election rally in Doda today, this is the first election Thank you.\n",
      "Transcript:  probe continues into the Delhi gym owner's death., Start: 0.00, End: 6.44\n",
      "Transcript:  Six suspects detained two country-made pistols recovered of Khan origin gym owner were shot dead in GK., Start: 6.44, End: 25.50\n",
      "Transcript:  Adani listed among world's best companies of 2024 prestigious global industrial industrial industrial industrial industrial industrial, Start: 25.50, End: 0.00\n",
      "Transcript:  list features Adani's eight company., Start: 0.00, End: 24.44\n",
      "Transcript:  A top focused Prime Minister Modi, said to address an election rally in Doda today, this is the first election, Start: 24.44, End: 0.00\n",
      "Transcript:  Thank you., Start: 0.00, End: 60.00\n",
      "time: 645 ms (started: 2024-09-19 07:29:06 +00:00)\n"
     ]
    }
   ],
   "source": [
    "# Input audio sample\n",
    "sample = \"/home/vmadmin/myenv/English/1010259_2024.09.14_08.01.27-2024.09.14_08.02.27.wav\"\n",
    "\n",
    "# Perform speech recognition with timestamps\n",
    "result = pipe(sample, batch_size=8, return_timestamps=True)\n",
    "\n",
    "# Print the full transcript\n",
    "print(\"Full Transcript:\", result[\"text\"])\n",
    "\n",
    "# Adjust timestamps\n",
    "num_chunks = len(result['chunks'])\n",
    "total_duration = 60  # Total duration in seconds\n",
    "adjusted_chunks = []\n",
    "\n",
    "# Set the start time for the first chunk\n",
    "start_time = 0.0\n",
    "\n",
    "# Calculate adjusted timestamps\n",
    "for i in range(num_chunks):\n",
    "    # Get the end time based on the chunk's existing end time or next chunk's start time\n",
    "    if i < num_chunks - 1:\n",
    "        end_time = result[\"chunks\"][i + 1]['timestamp'][0]  # Start time of the next chunk\n",
    "    else:\n",
    "        end_time = total_duration  # Last chunk should end at total duration\n",
    "    \n",
    "    # Ensure that we maintain the original chunk text and interpolate if necessary\n",
    "    adjusted_chunks.append({\n",
    "        'text': result['chunks'][i]['text'],\n",
    "        'timestamp': (start_time, end_time)\n",
    "    })\n",
    "    \n",
    "    # Update the start time for the next chunk\n",
    "    start_time = end_time\n",
    "\n",
    "# Print each adjusted chunk with timestamps\n",
    "for chunk in adjusted_chunks:\n",
    "    start, end = chunk['timestamp']\n",
    "    print(f\"Transcript: {chunk['text']}, Start: {start:.2f}, End: {end:.2f}\")"
   ]
  },
  {
   "cell_type": "code",
   "execution_count": 34,
   "id": "d5ca5d1c-1f0c-4715-80b8-0240fefff791",
   "metadata": {},
   "outputs": [
    {
     "name": "stderr",
     "output_type": "stream",
     "text": [
      "/home/vmadmin/myenv/lib/python3.10/site-packages/transformers/models/whisper/generation_whisper.py:496: FutureWarning: The input name `inputs` is deprecated. Please make sure to use `input_features` instead.\n",
      "  warnings.warn(\n"
     ]
    },
    {
     "name": "stdout",
     "output_type": "stream",
     "text": [
      "Full Transcript:  to be addressed by the Prime Minister in Duda near Kishhtwar of Jammu and Kashmir ahead of the first phase of polling on the 18th of September. Now, Prime Minister Modi had last campaign for the BJP in the Chenab region during the 2014 Assembly elections when the party had won four of the six seats. Remember, the number of seats after de-limitation has increased to eight. Ahead of the Prime Minister's visit, there was an encounter that broke Cartoon Kishwar as well, the Prime Minister will be visiting Duda after 45 years at least. My colleague Nazir joins us with more details. Nazir, if you could take us through the Prime Minister's visit and the big campaign for the BJP in Jambon Kashmir. Well, it is Prime Minister Narendra Modi's first election rally and in Jammu and Kashmir Assembly elections, four days ahead of the first phase of assembly polling. So, very significant rally as far as the BJN. JP's election campaign is concerned. He is seen as the biggest vote catcher and who could move.\n",
      "Transcript:  to be addressed by the Prime Minister in Duda, Start: 0.00, End: 1.96\n",
      "Transcript:  near Kishhtwar of Jammu and Kashmir, Start: 1.96, End: 4.06\n",
      "Transcript:  ahead of the first phase of polling on the 18th of, Start: 4.06, End: 6.32\n",
      "Transcript:  September. Now, Prime Minister Modi had, Start: 6.32, End: 8.16\n",
      "Transcript:  last campaign for the BJP in the, Start: 8.16, End: 10.02\n",
      "Transcript:  Chenab region during the 2014, Start: 10.02, End: 11.74\n",
      "Transcript:  Assembly elections when the party had won, Start: 11.74, End: 14.00\n",
      "Transcript:  four of the six seats. Remember,, Start: 14.00, End: 16.18\n",
      "Transcript:  the number of seats after de-limitation has, Start: 16.18, End: 18.08\n",
      "Transcript:  increased to eight. Ahead of the, Start: 18.08, End: 19.90\n",
      "Transcript:  Prime Minister's visit, there was an encounter that broke, Start: 19.90, End: 0.00\n",
      "Transcript:  Cartoon Kishwar as well, the Prime Minister will be visiting Duda after 45 years at least., Start: 0.00, End: 4.82\n",
      "Transcript:  My colleague Nazir joins us with more details., Start: 4.82, End: 7.46\n",
      "Transcript:  Nazir, if you could take us through the Prime Minister's visit, Start: 7.46, End: 9.78\n",
      "Transcript:  and the big campaign for the BJP in Jambon Kashmir., Start: 9.78, End: 14.34\n",
      "Transcript:  Well, it is Prime Minister Narendra Modi's first election rally, Start: 14.34, End: 18.60\n",
      "Transcript:  and in Jammu and Kashmir Assembly elections,, Start: 18.60, End: 22.36\n",
      "Transcript:  four days ahead of the first phase of assembly polling., Start: 22.36, End: 27.10\n",
      "Transcript:  So, very significant rally as far as the BJN., Start: 27.10, End: 0.00\n",
      "Transcript:  JP's election campaign is concerned., Start: 0.00, End: 4.18\n",
      "Transcript:  He is seen as the biggest vote catcher and who could move., Start: 4.18, End: 60.00\n",
      "time: 1.24 s (started: 2024-09-19 07:52:19 +00:00)\n"
     ]
    }
   ],
   "source": [
    "# Input audio sample\n",
    "sample = \"/home/vmadmin/myenv/English/1010259_2024.09.14_08.02.28-2024.09.14_08.03.28.wav\"\n",
    "\n",
    "# Perform speech recognition with timestamps\n",
    "result = pipe(sample, batch_size=8, return_timestamps=True)\n",
    "\n",
    "# Print the full transcript\n",
    "print(\"Full Transcript:\", result[\"text\"])\n",
    "\n",
    "# Adjust timestamps\n",
    "num_chunks = len(result['chunks'])\n",
    "total_duration = 60  # Total duration in seconds\n",
    "adjusted_chunks = []\n",
    "\n",
    "# Set the start time for the first chunk\n",
    "start_time = 0.0\n",
    "\n",
    "# Calculate adjusted timestamps\n",
    "for i in range(num_chunks):\n",
    "    # Get the end time based on the chunk's existing end time or next chunk's start time\n",
    "    if i < num_chunks - 1:\n",
    "        end_time = result[\"chunks\"][i + 1]['timestamp'][0]  # Start time of the next chunk\n",
    "    else:\n",
    "        end_time = total_duration  # Last chunk should end at total duration\n",
    "    \n",
    "    # Ensure that we maintain the original chunk text and interpolate if necessary\n",
    "    adjusted_chunks.append({\n",
    "        'text': result['chunks'][i]['text'],\n",
    "        'timestamp': (start_time, end_time)\n",
    "    })\n",
    "    \n",
    "    # Update the start time for the next chunk\n",
    "    start_time = end_time\n",
    "\n",
    "# Print each adjusted chunk with timestamps\n",
    "for chunk in adjusted_chunks:\n",
    "    start, end = chunk['timestamp']\n",
    "    print(f\"Transcript: {chunk['text']}, Start: {start:.2f}, End: {end:.2f}\")"
   ]
  },
  {
   "cell_type": "code",
   "execution_count": 35,
   "id": "bda2d9a7-0f82-42a1-8656-5316b7f39da6",
   "metadata": {},
   "outputs": [
    {
     "name": "stderr",
     "output_type": "stream",
     "text": [
      "/home/vmadmin/myenv/lib/python3.10/site-packages/transformers/models/whisper/generation_whisper.py:496: FutureWarning: The input name `inputs` is deprecated. Please make sure to use `input_features` instead.\n",
      "  warnings.warn(\n"
     ]
    },
    {
     "name": "stdout",
     "output_type": "stream",
     "text": [
      "Full Transcript:  And as I bring you all the latest from the world of sports. Take a look. An all-run performance by India beat Australia by 36 runs in the second semi-final of the ICC Women's World Cup on Thursday at Derby. Herman Preet Kor produced one of the greatest ever ODIHN Knox in women's cricket as India stormed into the. the final. Herman Preet's third ODIS century was embellished with 24s and as many as 7-6s. It is the second time that India has entered the summit clash of the global event having lost to Australia in the final of the 2005 edition. It was also the second highest individual score in ODIs for India's. behind Dippedi Sharma's unbeaten 188 runs against South Africa earlier this year. With enough runs on the board, confident Indian Seymers Goswami and Shikha Pandey came up with brilliant opening spells.\n",
      "Transcript:  And as I bring you all the latest from the world of sports. Take a look., Start: 0.00, End: 7.68\n",
      "Transcript:  An all-run performance by India beat Australia by 36 runs in the second semi-final of the ICC Women's World Cup on Thursday at Derby., Start: 7.68, End: 23.30\n",
      "Transcript:  Herman Preet Kor produced one of the greatest ever ODIHN Knox in women's cricket as India stormed into the., Start: 23.30, End: 0.00\n",
      "Transcript:  the final. Herman Preet's third ODIS century was embellished with 24s and as many as 7-6s., Start: 0.00, End: 11.00\n",
      "Transcript:  It is the second time that India has entered the summit clash of the global event having lost to Australia in the final of the 2005 edition., Start: 11.00, End: 25.00\n",
      "Transcript:  It was also the second highest individual score in ODIs for India's., Start: 25.00, End: 0.00\n",
      "Transcript:  behind Dippedi Sharma's unbeaten 188 runs against South Africa earlier this year., Start: 0.00, End: 7.08\n",
      "Transcript:  With enough runs on the board, confident Indian Seymers Goswami and Shikha Pandey came up with brilliant opening spells., Start: 7.08, End: 60.00\n",
      "time: 1.09 s (started: 2024-09-19 07:53:37 +00:00)\n"
     ]
    }
   ],
   "source": [
    "# Input audio sample\n",
    "sample = \"/home/vmadmin/myenv/English/clip1.mp3\"\n",
    "\n",
    "# Perform speech recognition with timestamps\n",
    "result = pipe(sample, batch_size=8, return_timestamps=True)\n",
    "\n",
    "# Print the full transcript\n",
    "print(\"Full Transcript:\", result[\"text\"])\n",
    "\n",
    "# Adjust timestamps\n",
    "num_chunks = len(result['chunks'])\n",
    "total_duration = 60  # Total duration in seconds\n",
    "adjusted_chunks = []\n",
    "\n",
    "# Set the start time for the first chunk\n",
    "start_time = 0.0\n",
    "\n",
    "# Calculate adjusted timestamps\n",
    "for i in range(num_chunks):\n",
    "    # Get the end time based on the chunk's existing end time or next chunk's start time\n",
    "    if i < num_chunks - 1:\n",
    "        end_time = result[\"chunks\"][i + 1]['timestamp'][0]  # Start time of the next chunk\n",
    "    else:\n",
    "        end_time = total_duration  # Last chunk should end at total duration\n",
    "    \n",
    "    # Ensure that we maintain the original chunk text and interpolate if necessary\n",
    "    adjusted_chunks.append({\n",
    "        'text': result['chunks'][i]['text'],\n",
    "        'timestamp': (start_time, end_time)\n",
    "    })\n",
    "    \n",
    "    # Update the start time for the next chunk\n",
    "    start_time = end_time\n",
    "\n",
    "# Print each adjusted chunk with timestamps\n",
    "for chunk in adjusted_chunks:\n",
    "    start, end = chunk['timestamp']\n",
    "    print(f\"Transcript: {chunk['text']}, Start: {start:.2f}, End: {end:.2f}\")"
   ]
  },
  {
   "cell_type": "code",
   "execution_count": 38,
   "id": "4e8a7313-5981-4b0f-99fc-17be6fcdbf53",
   "metadata": {},
   "outputs": [
    {
     "name": "stderr",
     "output_type": "stream",
     "text": [
      "/home/vmadmin/myenv/lib/python3.10/site-packages/transformers/models/whisper/generation_whisper.py:496: FutureWarning: The input name `inputs` is deprecated. Please make sure to use `input_features` instead.\n",
      "  warnings.warn(\n"
     ]
    },
    {
     "name": "stdout",
     "output_type": "stream",
     "text": [
      "Full Transcript:  Moving now to some tragic news coming in from Jammu and Kashmir. Well, right ahead of the Prime Minister's visit a major encounter in Jammun Kishmir's Kistvah. In fact, tragically, two soldiers have died in the line of duty. In fact, several other soldiers have been injured as well. There was a brief gunfight is what we can report at this moment in Jammu and Kishmir's Kistvahar and two soldiers have died. Of course, these are soldiers leading from the front and they've been killed in the line of action. Absolutely tragic there. And this comes after. There was a major arms hall as well in parts of Jammu and Kashmir. And the timing of the encounter is also extremely important given the fact that this comes right ahead of the assembly polls. The assembly pole is just a week away. Less than a week away perhaps the first phase will be held on the 18th of September. So extremely concerning there. and most tragic the fact that two soldiers have died in this gun battle.\n",
      "Transcript:  Moving now to some tragic news coming in from Jammu and Kashmir., Start: 0.00, End: 3.72\n",
      "Transcript:  Well, right ahead of the Prime Minister's visit a major encounter in Jammun Kishmir's Kistvah., Start: 3.72, End: 8.36\n",
      "Transcript:  In fact, tragically, two soldiers have died in the line of duty., Start: 8.36, End: 12.74\n",
      "Transcript:  In fact, several other soldiers have been injured as well., Start: 12.74, End: 16.98\n",
      "Transcript:  There was a brief gunfight is what we can report at this moment in Jammu and Kishmir's Kistvahar, Start: 16.98, End: 21.64\n",
      "Transcript:  and two soldiers have died., Start: 21.64, End: 0.00\n",
      "Transcript:  Of course, these are soldiers leading from the front and they've been killed in the line of action., Start: 0.00, End: 5.54\n",
      "Transcript:  Absolutely tragic there., Start: 5.54, End: 7.14\n",
      "Transcript:  And this comes after., Start: 7.14, End: 8.10\n",
      "Transcript:  There was a major arms hall as well in parts of Jammu and Kashmir., Start: 8.10, End: 11.88\n",
      "Transcript:  And the timing of the encounter is also extremely important given the fact that this comes right ahead of the assembly polls., Start: 11.88, End: 18.90\n",
      "Transcript:  The assembly pole is just a week away., Start: 18.90, End: 21.00\n",
      "Transcript:  Less than a week away perhaps the first phase will be held on the 18th of September., Start: 21.00, End: 27.16\n",
      "Transcript:  So extremely concerning there., Start: 27.16, End: 0.00\n",
      "Transcript:  and most tragic the fact that two soldiers have died in this gun battle., Start: 0.00, End: 60.00\n",
      "time: 1.24 s (started: 2024-09-19 08:53:41 +00:00)\n"
     ]
    }
   ],
   "source": [
    "# Input audio sample\n",
    "sample = \"/home/vmadmin/myenv/English/clip2.mp3\"\n",
    "\n",
    "# Perform speech recognition with timestamps\n",
    "result = pipe(sample, batch_size=8, return_timestamps=True)\n",
    "\n",
    "# Print the full transcript\n",
    "print(\"Full Transcript:\", result[\"text\"])\n",
    "\n",
    "# Adjust timestamps\n",
    "num_chunks = len(result['chunks'])\n",
    "total_duration = 60  # Total duration in seconds\n",
    "adjusted_chunks = []\n",
    "\n",
    "# Set the start time for the first chunk\n",
    "start_time = 0.0\n",
    "\n",
    "# Calculate adjusted timestamps\n",
    "for i in range(num_chunks):\n",
    "    # Get the end time based on the chunk's existing end time or next chunk's start time\n",
    "    if i < num_chunks - 1:\n",
    "        end_time = result[\"chunks\"][i + 1]['timestamp'][0]  # Start time of the next chunk\n",
    "    else:\n",
    "        end_time = total_duration  # Last chunk should end at total duration\n",
    "    \n",
    "    # Ensure that we maintain the original chunk text and interpolate if necessary\n",
    "    adjusted_chunks.append({\n",
    "        'text': result['chunks'][i]['text'],\n",
    "        'timestamp': (start_time, end_time)\n",
    "    })\n",
    "    \n",
    "    # Update the start time for the next chunk\n",
    "    start_time = end_time\n",
    "\n",
    "# Print each adjusted chunk with timestamps\n",
    "for chunk in adjusted_chunks:\n",
    "    start, end = chunk['timestamp']\n",
    "    print(f\"Transcript: {chunk['text']}, Start: {start:.2f}, End: {end:.2f}\")"
   ]
  },
  {
   "cell_type": "code",
   "execution_count": 39,
   "id": "86904889-56c3-4bd7-b3b8-e4785b041395",
   "metadata": {},
   "outputs": [
    {
     "name": "stderr",
     "output_type": "stream",
     "text": [
      "/home/vmadmin/myenv/lib/python3.10/site-packages/transformers/models/whisper/generation_whisper.py:496: FutureWarning: The input name `inputs` is deprecated. Please make sure to use `input_features` instead.\n",
      "  warnings.warn(\n"
     ]
    },
    {
     "name": "stdout",
     "output_type": "stream",
     "text": [
      "Full Transcript:  When I was shocked how to how to climb up on the without hand, I'm a world championship medal, I got a medal, I got a real Paira RACI, then I knew I got to Paira are different and Abel Walsh. Then I got to know that I had there were a surgery also I thought I'd like I'd like to do I'm not even though then I'm not even though then said you can't you can't do you so I'm dumbed and I did then he got up so he made and he was it was easy it was easy strength six, seven days I practiced then I was I was a goal world number one. When I was in the first when I was in the I was always I would be I would be I could do something I'm too thing gave, I'm I'm a You know,\n",
      "Transcript:  When I was shocked how to, Start: 0.00, End: 1.60\n",
      "Transcript:  how to climb up on the, Start: 1.60, End: 2.40\n",
      "Transcript:  without hand,, Start: 2.40, End: 3.60\n",
      "Transcript:  I'm a world championship, Start: 3.60, End: 5.40\n",
      "Transcript:  medal, I got a medal,, Start: 5.40, End: 6.40\n",
      "Transcript:  I got a real, Start: 6.40, End: 8.40\n",
      "Transcript:  Paira RACI,, Start: 8.40, End: 24.60\n",
      "Transcript:  then I knew, Start: 24.60, End: 25.80\n",
      "Transcript:  I got to Paira are different, Start: 25.80, End: 27.20\n",
      "Transcript:  and Abel Walsh., Start: 27.20, End: 0.00\n",
      "Transcript:  Then I got to know that I had, Start: 0.00, End: 2.00\n",
      "Transcript:  there were a surgery also, Start: 2.00, End: 4.00\n",
      "Transcript:  I thought I'd like I'd like to do, Start: 4.00, End: 6.00\n",
      "Transcript:  I'm not even though, Start: 6.00, End: 9.00\n",
      "Transcript:  then I'm not even though, Start: 9.00, End: 10.00\n",
      "Transcript:  then said you can't, Start: 10.00, End: 12.00\n",
      "Transcript:  you can't do you, Start: 12.00, End: 14.00\n",
      "Transcript:  so I'm dumbed and I did, Start: 14.00, End: 16.00\n",
      "Transcript:  then he got up, Start: 16.00, End: 18.00\n",
      "Transcript:  so he made, Start: 18.00, End: 19.00\n",
      "Transcript:  and he was, Start: 19.00, End: 21.00\n",
      "Transcript:  it was easy, Start: 21.00, End: 22.00\n",
      "Transcript:  it was easy, Start: 22.00, End: 23.00\n",
      "Transcript:  strength, Start: 23.00, End: 24.00\n",
      "Transcript:  six, seven days, Start: 24.00, End: 25.00\n",
      "Transcript:  I practiced, Start: 25.00, End: 26.00\n",
      "Transcript:  then I was, Start: 26.00, End: 27.00\n",
      "Transcript:  I was a goal, Start: 27.00, End: 0.00\n",
      "Transcript:  world number one., Start: 0.00, End: 1.00\n",
      "Transcript:  When I was in the, Start: 1.00, End: 2.00\n",
      "Transcript:  first when I was in the, Start: 2.00, End: 3.00\n",
      "Transcript:  I was always, Start: 3.00, End: 4.00\n",
      "Transcript:  I would be, Start: 4.00, End: 5.00\n",
      "Transcript:  I would be, Start: 5.00, End: 6.00\n",
      "Transcript:  I could, Start: 6.00, End: 7.00\n",
      "Transcript:  do something, Start: 7.00, End: 8.00\n",
      "Transcript:  I'm too, Start: 8.00, End: 9.00\n",
      "Transcript:  thing, Start: 9.00, End: 10.00\n",
      "Transcript:  gave,, Start: 10.00, End: 11.00\n",
      "Transcript:  I'm, Start: 11.00, End: 12.00\n",
      "Transcript:  I'm a, Start: 12.00, End: 0.00\n",
      "Transcript:  You know,, Start: 0.00, End: 60.00\n",
      "time: 1.26 s (started: 2024-09-19 08:53:46 +00:00)\n"
     ]
    }
   ],
   "source": [
    "# Input audio sample\n",
    "sample = \"/home/vmadmin/myenv/English/clip3.mp3\"\n",
    "\n",
    "# Perform speech recognition with timestamps\n",
    "result = pipe(sample, batch_size=8, return_timestamps=True)\n",
    "\n",
    "# Print the full transcript\n",
    "print(\"Full Transcript:\", result[\"text\"])\n",
    "\n",
    "# Adjust timestamps\n",
    "num_chunks = len(result['chunks'])\n",
    "total_duration = 60  # Total duration in seconds\n",
    "adjusted_chunks = []\n",
    "\n",
    "# Set the start time for the first chunk\n",
    "start_time = 0.0\n",
    "\n",
    "# Calculate adjusted timestamps\n",
    "for i in range(num_chunks):\n",
    "    # Get the end time based on the chunk's existing end time or next chunk's start time\n",
    "    if i < num_chunks - 1:\n",
    "        end_time = result[\"chunks\"][i + 1]['timestamp'][0]  # Start time of the next chunk\n",
    "    else:\n",
    "        end_time = total_duration  # Last chunk should end at total duration\n",
    "    \n",
    "    # Ensure that we maintain the original chunk text and interpolate if necessary\n",
    "    adjusted_chunks.append({\n",
    "        'text': result['chunks'][i]['text'],\n",
    "        'timestamp': (start_time, end_time)\n",
    "    })\n",
    "    \n",
    "    # Update the start time for the next chunk\n",
    "    start_time = end_time\n",
    "\n",
    "# Print each adjusted chunk with timestamps\n",
    "for chunk in adjusted_chunks:\n",
    "    start, end = chunk['timestamp']\n",
    "    print(f\"Transcript: {chunk['text']}, Start: {start:.2f}, End: {end:.2f}\")"
   ]
  },
  {
   "cell_type": "code",
   "execution_count": null,
   "id": "3fe6b148-270a-4722-9c99-d8619269ff97",
   "metadata": {},
   "outputs": [],
   "source": []
  }
 ],
 "metadata": {
  "kernelspec": {
   "display_name": "Python 3 (ipykernel)",
   "language": "python",
   "name": "python3"
  },
  "language_info": {
   "codemirror_mode": {
    "name": "ipython",
    "version": 3
   },
   "file_extension": ".py",
   "mimetype": "text/x-python",
   "name": "python",
   "nbconvert_exporter": "python",
   "pygments_lexer": "ipython3",
   "version": "3.10.15"
  }
 },
 "nbformat": 4,
 "nbformat_minor": 5
}
